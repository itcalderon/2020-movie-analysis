{
 "cells": [
  {
   "cell_type": "markdown",
   "metadata": {},
   "source": [
    "# Movie Analysis #\n",
    "## Finding the most profitable genre ##"
   ]
  },
  {
   "cell_type": "code",
   "execution_count": 232,
   "metadata": {},
   "outputs": [],
   "source": [
    "import pandas as pd\n",
    "import matplotlib.pyplot as plt\n",
    "%matplotlib inline"
   ]
  },
  {
   "cell_type": "markdown",
   "metadata": {},
   "source": [
    "### Import DataFrame ###\n"
   ]
  },
  {
   "cell_type": "code",
   "execution_count": 514,
   "metadata": {
    "scrolled": false
   },
   "outputs": [
    {
     "name": "stdout",
     "output_type": "stream",
     "text": [
      "(2167, 15)\n"
     ]
    },
    {
     "data": {
      "text/html": [
       "<div>\n",
       "<style scoped>\n",
       "    .dataframe tbody tr th:only-of-type {\n",
       "        vertical-align: middle;\n",
       "    }\n",
       "\n",
       "    .dataframe tbody tr th {\n",
       "        vertical-align: top;\n",
       "    }\n",
       "\n",
       "    .dataframe thead th {\n",
       "        text-align: right;\n",
       "    }\n",
       "</style>\n",
       "<table border=\"1\" class=\"dataframe\">\n",
       "  <thead>\n",
       "    <tr style=\"text-align: right;\">\n",
       "      <th></th>\n",
       "      <th>Unnamed: 0</th>\n",
       "      <th>year</th>\n",
       "      <th>imdb_rating</th>\n",
       "      <th>imdb_numvotes</th>\n",
       "      <th>tmdb_id</th>\n",
       "      <th>imdb_id</th>\n",
       "      <th>title</th>\n",
       "      <th>genre</th>\n",
       "      <th>studio</th>\n",
       "      <th>tmdb_rating</th>\n",
       "      <th>tmdb_num_votes</th>\n",
       "      <th>production_budget</th>\n",
       "      <th>domestic_gross</th>\n",
       "      <th>total_gross</th>\n",
       "      <th>profitability</th>\n",
       "    </tr>\n",
       "  </thead>\n",
       "  <tbody>\n",
       "    <tr>\n",
       "      <th>0</th>\n",
       "      <td>0</td>\n",
       "      <td>2010</td>\n",
       "      <td>8.3</td>\n",
       "      <td>65304</td>\n",
       "      <td>44639.0</td>\n",
       "      <td>tt1645089</td>\n",
       "      <td>Inside Job</td>\n",
       "      <td>['Documentary']</td>\n",
       "      <td>['Sony Pictures']</td>\n",
       "      <td>7.7</td>\n",
       "      <td>586.0</td>\n",
       "      <td>2000000</td>\n",
       "      <td>4311834.0</td>\n",
       "      <td>7799257.0</td>\n",
       "      <td>3.899629</td>\n",
       "    </tr>\n",
       "    <tr>\n",
       "      <th>1</th>\n",
       "      <td>1</td>\n",
       "      <td>2010</td>\n",
       "      <td>6.4</td>\n",
       "      <td>971</td>\n",
       "      <td>59015.0</td>\n",
       "      <td>tt1646127</td>\n",
       "      <td>Lights Out</td>\n",
       "      <td>['Drama', 'Mystery', 'Thriller']</td>\n",
       "      <td>['Diaphana Films', 'Région Ile-de-France', 'CN...</td>\n",
       "      <td>6.2</td>\n",
       "      <td>32.0</td>\n",
       "      <td>5000000</td>\n",
       "      <td>67268835.0</td>\n",
       "      <td>148806510.0</td>\n",
       "      <td>29.761302</td>\n",
       "    </tr>\n",
       "    <tr>\n",
       "      <th>2</th>\n",
       "      <td>2</td>\n",
       "      <td>2010</td>\n",
       "      <td>6.4</td>\n",
       "      <td>12</td>\n",
       "      <td>510578.0</td>\n",
       "      <td>tt1627937</td>\n",
       "      <td>The Journey</td>\n",
       "      <td>['Family']</td>\n",
       "      <td>['QOA Entertainment', 'DesertRock Entertainment']</td>\n",
       "      <td>0.0</td>\n",
       "      <td>0.0</td>\n",
       "      <td>500000</td>\n",
       "      <td>19800.0</td>\n",
       "      <td>19800.0</td>\n",
       "      <td>0.039600</td>\n",
       "    </tr>\n",
       "    <tr>\n",
       "      <th>3</th>\n",
       "      <td>3</td>\n",
       "      <td>2010</td>\n",
       "      <td>5.5</td>\n",
       "      <td>22</td>\n",
       "      <td>313806.0</td>\n",
       "      <td>tt1636456</td>\n",
       "      <td>The Intern</td>\n",
       "      <td>['Drama']</td>\n",
       "      <td>[]</td>\n",
       "      <td>0.0</td>\n",
       "      <td>0.0</td>\n",
       "      <td>40000000</td>\n",
       "      <td>75764672.0</td>\n",
       "      <td>197115710.0</td>\n",
       "      <td>4.927893</td>\n",
       "    </tr>\n",
       "    <tr>\n",
       "      <th>4</th>\n",
       "      <td>4</td>\n",
       "      <td>2010</td>\n",
       "      <td>6.2</td>\n",
       "      <td>843</td>\n",
       "      <td>64138.0</td>\n",
       "      <td>tt1636833</td>\n",
       "      <td>Black and White</td>\n",
       "      <td>['Drama']</td>\n",
       "      <td>[]</td>\n",
       "      <td>5.5</td>\n",
       "      <td>5.0</td>\n",
       "      <td>10000000</td>\n",
       "      <td>5241315.0</td>\n",
       "      <td>5241315.0</td>\n",
       "      <td>0.524131</td>\n",
       "    </tr>\n",
       "  </tbody>\n",
       "</table>\n",
       "</div>"
      ],
      "text/plain": [
       "   Unnamed: 0  year  imdb_rating  imdb_numvotes   tmdb_id    imdb_id  \\\n",
       "0           0  2010          8.3          65304   44639.0  tt1645089   \n",
       "1           1  2010          6.4            971   59015.0  tt1646127   \n",
       "2           2  2010          6.4             12  510578.0  tt1627937   \n",
       "3           3  2010          5.5             22  313806.0  tt1636456   \n",
       "4           4  2010          6.2            843   64138.0  tt1636833   \n",
       "\n",
       "             title                             genre  \\\n",
       "0       Inside Job                   ['Documentary']   \n",
       "1       Lights Out  ['Drama', 'Mystery', 'Thriller']   \n",
       "2      The Journey                        ['Family']   \n",
       "3       The Intern                         ['Drama']   \n",
       "4  Black and White                         ['Drama']   \n",
       "\n",
       "                                              studio  tmdb_rating  \\\n",
       "0                                  ['Sony Pictures']          7.7   \n",
       "1  ['Diaphana Films', 'Région Ile-de-France', 'CN...          6.2   \n",
       "2  ['QOA Entertainment', 'DesertRock Entertainment']          0.0   \n",
       "3                                                 []          0.0   \n",
       "4                                                 []          5.5   \n",
       "\n",
       "   tmdb_num_votes  production_budget  domestic_gross  total_gross  \\\n",
       "0           586.0            2000000       4311834.0    7799257.0   \n",
       "1            32.0            5000000      67268835.0  148806510.0   \n",
       "2             0.0             500000         19800.0      19800.0   \n",
       "3             0.0           40000000      75764672.0  197115710.0   \n",
       "4             5.0           10000000       5241315.0    5241315.0   \n",
       "\n",
       "   profitability  \n",
       "0       3.899629  \n",
       "1      29.761302  \n",
       "2       0.039600  \n",
       "3       4.927893  \n",
       "4       0.524131  "
      ]
     },
     "execution_count": 514,
     "metadata": {},
     "output_type": "execute_result"
    }
   ],
   "source": [
    "movies = pd.read_csv('Cleaned Data/final_merged.csv')\n",
    "movies.drop_duplicates(subset=['imdb_id'], inplace=True) # drop duplicate imdb_ids\n",
    "print(movies.shape)\n",
    "movies.head()"
   ]
  },
  {
   "cell_type": "markdown",
   "metadata": {},
   "source": [
    "## Manipulate/Clean DataFrame for Analysis ##"
   ]
  },
  {
   "cell_type": "code",
   "execution_count": 515,
   "metadata": {},
   "outputs": [],
   "source": [
    "# drop unnnamed column\n",
    "movies = movies.drop(['Unnamed: 0'], axis = 1)"
   ]
  },
  {
   "cell_type": "markdown",
   "metadata": {},
   "source": [
    "### .explode() on genre for Analysis ###"
   ]
  },
  {
   "cell_type": "code",
   "execution_count": 516,
   "metadata": {},
   "outputs": [
    {
     "data": {
      "text/plain": [
       "\"['Drama', 'Mystery', 'Thriller']\""
      ]
     },
     "execution_count": 516,
     "metadata": {},
     "output_type": "execute_result"
    }
   ],
   "source": [
    "# check what an entry in genre column looks like\n",
    "movies.genre[1]"
   ]
  },
  {
   "cell_type": "markdown",
   "metadata": {},
   "source": [
    "The entries for genre are lists contained in strings. Before we can use the .explode() method, we must extract the lists out of the strings."
   ]
  },
  {
   "cell_type": "code",
   "execution_count": 517,
   "metadata": {},
   "outputs": [],
   "source": [
    "# convert object in genre column to list\n",
    "movies.genre = movies.genre.apply(lambda x : x.strip('][').strip(\"'\").split(', '))"
   ]
  },
  {
   "cell_type": "code",
   "execution_count": 518,
   "metadata": {
    "scrolled": true
   },
   "outputs": [
    {
     "data": {
      "text/html": [
       "<div>\n",
       "<style scoped>\n",
       "    .dataframe tbody tr th:only-of-type {\n",
       "        vertical-align: middle;\n",
       "    }\n",
       "\n",
       "    .dataframe tbody tr th {\n",
       "        vertical-align: top;\n",
       "    }\n",
       "\n",
       "    .dataframe thead th {\n",
       "        text-align: right;\n",
       "    }\n",
       "</style>\n",
       "<table border=\"1\" class=\"dataframe\">\n",
       "  <thead>\n",
       "    <tr style=\"text-align: right;\">\n",
       "      <th></th>\n",
       "      <th>year</th>\n",
       "      <th>imdb_rating</th>\n",
       "      <th>imdb_numvotes</th>\n",
       "      <th>tmdb_id</th>\n",
       "      <th>imdb_id</th>\n",
       "      <th>title</th>\n",
       "      <th>genre</th>\n",
       "      <th>studio</th>\n",
       "      <th>tmdb_rating</th>\n",
       "      <th>tmdb_num_votes</th>\n",
       "      <th>production_budget</th>\n",
       "      <th>domestic_gross</th>\n",
       "      <th>total_gross</th>\n",
       "      <th>profitability</th>\n",
       "    </tr>\n",
       "  </thead>\n",
       "  <tbody>\n",
       "    <tr>\n",
       "      <th>0</th>\n",
       "      <td>2010</td>\n",
       "      <td>8.3</td>\n",
       "      <td>65304</td>\n",
       "      <td>44639.0</td>\n",
       "      <td>tt1645089</td>\n",
       "      <td>Inside Job</td>\n",
       "      <td>Documentary</td>\n",
       "      <td>['Sony Pictures']</td>\n",
       "      <td>7.7</td>\n",
       "      <td>586.0</td>\n",
       "      <td>2000000</td>\n",
       "      <td>4311834.0</td>\n",
       "      <td>7799257.0</td>\n",
       "      <td>3.899629</td>\n",
       "    </tr>\n",
       "    <tr>\n",
       "      <th>1</th>\n",
       "      <td>2010</td>\n",
       "      <td>6.4</td>\n",
       "      <td>971</td>\n",
       "      <td>59015.0</td>\n",
       "      <td>tt1646127</td>\n",
       "      <td>Lights Out</td>\n",
       "      <td>Drama'</td>\n",
       "      <td>['Diaphana Films', 'Région Ile-de-France', 'CN...</td>\n",
       "      <td>6.2</td>\n",
       "      <td>32.0</td>\n",
       "      <td>5000000</td>\n",
       "      <td>67268835.0</td>\n",
       "      <td>148806510.0</td>\n",
       "      <td>29.761302</td>\n",
       "    </tr>\n",
       "    <tr>\n",
       "      <th>1</th>\n",
       "      <td>2010</td>\n",
       "      <td>6.4</td>\n",
       "      <td>971</td>\n",
       "      <td>59015.0</td>\n",
       "      <td>tt1646127</td>\n",
       "      <td>Lights Out</td>\n",
       "      <td>'Mystery'</td>\n",
       "      <td>['Diaphana Films', 'Région Ile-de-France', 'CN...</td>\n",
       "      <td>6.2</td>\n",
       "      <td>32.0</td>\n",
       "      <td>5000000</td>\n",
       "      <td>67268835.0</td>\n",
       "      <td>148806510.0</td>\n",
       "      <td>29.761302</td>\n",
       "    </tr>\n",
       "    <tr>\n",
       "      <th>1</th>\n",
       "      <td>2010</td>\n",
       "      <td>6.4</td>\n",
       "      <td>971</td>\n",
       "      <td>59015.0</td>\n",
       "      <td>tt1646127</td>\n",
       "      <td>Lights Out</td>\n",
       "      <td>'Thriller</td>\n",
       "      <td>['Diaphana Films', 'Région Ile-de-France', 'CN...</td>\n",
       "      <td>6.2</td>\n",
       "      <td>32.0</td>\n",
       "      <td>5000000</td>\n",
       "      <td>67268835.0</td>\n",
       "      <td>148806510.0</td>\n",
       "      <td>29.761302</td>\n",
       "    </tr>\n",
       "    <tr>\n",
       "      <th>2</th>\n",
       "      <td>2010</td>\n",
       "      <td>6.4</td>\n",
       "      <td>12</td>\n",
       "      <td>510578.0</td>\n",
       "      <td>tt1627937</td>\n",
       "      <td>The Journey</td>\n",
       "      <td>Family</td>\n",
       "      <td>['QOA Entertainment', 'DesertRock Entertainment']</td>\n",
       "      <td>0.0</td>\n",
       "      <td>0.0</td>\n",
       "      <td>500000</td>\n",
       "      <td>19800.0</td>\n",
       "      <td>19800.0</td>\n",
       "      <td>0.039600</td>\n",
       "    </tr>\n",
       "  </tbody>\n",
       "</table>\n",
       "</div>"
      ],
      "text/plain": [
       "   year  imdb_rating  imdb_numvotes   tmdb_id    imdb_id        title  \\\n",
       "0  2010          8.3          65304   44639.0  tt1645089   Inside Job   \n",
       "1  2010          6.4            971   59015.0  tt1646127   Lights Out   \n",
       "1  2010          6.4            971   59015.0  tt1646127   Lights Out   \n",
       "1  2010          6.4            971   59015.0  tt1646127   Lights Out   \n",
       "2  2010          6.4             12  510578.0  tt1627937  The Journey   \n",
       "\n",
       "         genre                                             studio  \\\n",
       "0  Documentary                                  ['Sony Pictures']   \n",
       "1       Drama'  ['Diaphana Films', 'Région Ile-de-France', 'CN...   \n",
       "1    'Mystery'  ['Diaphana Films', 'Région Ile-de-France', 'CN...   \n",
       "1    'Thriller  ['Diaphana Films', 'Région Ile-de-France', 'CN...   \n",
       "2       Family  ['QOA Entertainment', 'DesertRock Entertainment']   \n",
       "\n",
       "   tmdb_rating  tmdb_num_votes  production_budget  domestic_gross  \\\n",
       "0          7.7           586.0            2000000       4311834.0   \n",
       "1          6.2            32.0            5000000      67268835.0   \n",
       "1          6.2            32.0            5000000      67268835.0   \n",
       "1          6.2            32.0            5000000      67268835.0   \n",
       "2          0.0             0.0             500000         19800.0   \n",
       "\n",
       "   total_gross  profitability  \n",
       "0    7799257.0       3.899629  \n",
       "1  148806510.0      29.761302  \n",
       "1  148806510.0      29.761302  \n",
       "1  148806510.0      29.761302  \n",
       "2      19800.0       0.039600  "
      ]
     },
     "execution_count": 518,
     "metadata": {},
     "output_type": "execute_result"
    }
   ],
   "source": [
    "# explode the dataframe in terms of genre\n",
    "movies_explode = movies.explode('genre')\n",
    "movies_explode.head()"
   ]
  },
  {
   "cell_type": "markdown",
   "metadata": {},
   "source": [
    "There are still some unnecessary apostrophes in the entries for genre. We'll remove those."
   ]
  },
  {
   "cell_type": "code",
   "execution_count": 519,
   "metadata": {},
   "outputs": [
    {
     "data": {
      "text/html": [
       "<div>\n",
       "<style scoped>\n",
       "    .dataframe tbody tr th:only-of-type {\n",
       "        vertical-align: middle;\n",
       "    }\n",
       "\n",
       "    .dataframe tbody tr th {\n",
       "        vertical-align: top;\n",
       "    }\n",
       "\n",
       "    .dataframe thead th {\n",
       "        text-align: right;\n",
       "    }\n",
       "</style>\n",
       "<table border=\"1\" class=\"dataframe\">\n",
       "  <thead>\n",
       "    <tr style=\"text-align: right;\">\n",
       "      <th></th>\n",
       "      <th>year</th>\n",
       "      <th>imdb_rating</th>\n",
       "      <th>imdb_numvotes</th>\n",
       "      <th>tmdb_id</th>\n",
       "      <th>imdb_id</th>\n",
       "      <th>title</th>\n",
       "      <th>genre</th>\n",
       "      <th>studio</th>\n",
       "      <th>tmdb_rating</th>\n",
       "      <th>tmdb_num_votes</th>\n",
       "      <th>production_budget</th>\n",
       "      <th>domestic_gross</th>\n",
       "      <th>total_gross</th>\n",
       "      <th>profitability</th>\n",
       "    </tr>\n",
       "  </thead>\n",
       "  <tbody>\n",
       "    <tr>\n",
       "      <th>0</th>\n",
       "      <td>2010</td>\n",
       "      <td>8.3</td>\n",
       "      <td>65304</td>\n",
       "      <td>44639.0</td>\n",
       "      <td>tt1645089</td>\n",
       "      <td>Inside Job</td>\n",
       "      <td>Documentary</td>\n",
       "      <td>['Sony Pictures']</td>\n",
       "      <td>7.7</td>\n",
       "      <td>586.0</td>\n",
       "      <td>2000000</td>\n",
       "      <td>4311834.0</td>\n",
       "      <td>7799257.0</td>\n",
       "      <td>3.899629</td>\n",
       "    </tr>\n",
       "    <tr>\n",
       "      <th>1</th>\n",
       "      <td>2010</td>\n",
       "      <td>6.4</td>\n",
       "      <td>971</td>\n",
       "      <td>59015.0</td>\n",
       "      <td>tt1646127</td>\n",
       "      <td>Lights Out</td>\n",
       "      <td>Drama</td>\n",
       "      <td>['Diaphana Films', 'Région Ile-de-France', 'CN...</td>\n",
       "      <td>6.2</td>\n",
       "      <td>32.0</td>\n",
       "      <td>5000000</td>\n",
       "      <td>67268835.0</td>\n",
       "      <td>148806510.0</td>\n",
       "      <td>29.761302</td>\n",
       "    </tr>\n",
       "    <tr>\n",
       "      <th>1</th>\n",
       "      <td>2010</td>\n",
       "      <td>6.4</td>\n",
       "      <td>971</td>\n",
       "      <td>59015.0</td>\n",
       "      <td>tt1646127</td>\n",
       "      <td>Lights Out</td>\n",
       "      <td>Mystery</td>\n",
       "      <td>['Diaphana Films', 'Région Ile-de-France', 'CN...</td>\n",
       "      <td>6.2</td>\n",
       "      <td>32.0</td>\n",
       "      <td>5000000</td>\n",
       "      <td>67268835.0</td>\n",
       "      <td>148806510.0</td>\n",
       "      <td>29.761302</td>\n",
       "    </tr>\n",
       "    <tr>\n",
       "      <th>1</th>\n",
       "      <td>2010</td>\n",
       "      <td>6.4</td>\n",
       "      <td>971</td>\n",
       "      <td>59015.0</td>\n",
       "      <td>tt1646127</td>\n",
       "      <td>Lights Out</td>\n",
       "      <td>Thriller</td>\n",
       "      <td>['Diaphana Films', 'Région Ile-de-France', 'CN...</td>\n",
       "      <td>6.2</td>\n",
       "      <td>32.0</td>\n",
       "      <td>5000000</td>\n",
       "      <td>67268835.0</td>\n",
       "      <td>148806510.0</td>\n",
       "      <td>29.761302</td>\n",
       "    </tr>\n",
       "    <tr>\n",
       "      <th>2</th>\n",
       "      <td>2010</td>\n",
       "      <td>6.4</td>\n",
       "      <td>12</td>\n",
       "      <td>510578.0</td>\n",
       "      <td>tt1627937</td>\n",
       "      <td>The Journey</td>\n",
       "      <td>Family</td>\n",
       "      <td>['QOA Entertainment', 'DesertRock Entertainment']</td>\n",
       "      <td>0.0</td>\n",
       "      <td>0.0</td>\n",
       "      <td>500000</td>\n",
       "      <td>19800.0</td>\n",
       "      <td>19800.0</td>\n",
       "      <td>0.039600</td>\n",
       "    </tr>\n",
       "  </tbody>\n",
       "</table>\n",
       "</div>"
      ],
      "text/plain": [
       "   year  imdb_rating  imdb_numvotes   tmdb_id    imdb_id        title  \\\n",
       "0  2010          8.3          65304   44639.0  tt1645089   Inside Job   \n",
       "1  2010          6.4            971   59015.0  tt1646127   Lights Out   \n",
       "1  2010          6.4            971   59015.0  tt1646127   Lights Out   \n",
       "1  2010          6.4            971   59015.0  tt1646127   Lights Out   \n",
       "2  2010          6.4             12  510578.0  tt1627937  The Journey   \n",
       "\n",
       "         genre                                             studio  \\\n",
       "0  Documentary                                  ['Sony Pictures']   \n",
       "1        Drama  ['Diaphana Films', 'Région Ile-de-France', 'CN...   \n",
       "1      Mystery  ['Diaphana Films', 'Région Ile-de-France', 'CN...   \n",
       "1     Thriller  ['Diaphana Films', 'Région Ile-de-France', 'CN...   \n",
       "2       Family  ['QOA Entertainment', 'DesertRock Entertainment']   \n",
       "\n",
       "   tmdb_rating  tmdb_num_votes  production_budget  domestic_gross  \\\n",
       "0          7.7           586.0            2000000       4311834.0   \n",
       "1          6.2            32.0            5000000      67268835.0   \n",
       "1          6.2            32.0            5000000      67268835.0   \n",
       "1          6.2            32.0            5000000      67268835.0   \n",
       "2          0.0             0.0             500000         19800.0   \n",
       "\n",
       "   total_gross  profitability  \n",
       "0    7799257.0       3.899629  \n",
       "1  148806510.0      29.761302  \n",
       "1  148806510.0      29.761302  \n",
       "1  148806510.0      29.761302  \n",
       "2      19800.0       0.039600  "
      ]
     },
     "execution_count": 519,
     "metadata": {},
     "output_type": "execute_result"
    }
   ],
   "source": [
    "# remove unnecessary apostrophes\n",
    "movies_explode.genre = movies_explode.genre.apply(lambda x : x.replace(\"'\", \"\"))\n",
    "movies_explode.head()"
   ]
  },
  {
   "cell_type": "code",
   "execution_count": 520,
   "metadata": {
    "scrolled": true
   },
   "outputs": [
    {
     "data": {
      "text/plain": [
       "Drama              1033\n",
       "Comedy              614\n",
       "Thriller            538\n",
       "Action              471\n",
       "Adventure           304\n",
       "Romance             259\n",
       "Horror              259\n",
       "Crime               235\n",
       "Science Fiction     209\n",
       "Family              192\n",
       "Fantasy             185\n",
       "Mystery             140\n",
       "Documentary         111\n",
       "Animation           109\n",
       "History              87\n",
       "                     71\n",
       "Music                58\n",
       "War                  54\n",
       "Western              24\n",
       "Name: genre, dtype: int64"
      ]
     },
     "execution_count": 520,
     "metadata": {},
     "output_type": "execute_result"
    }
   ],
   "source": [
    "# find the number of unique genres in the dataframe (19 unique genres)\n",
    "movies_explode.genre.value_counts()"
   ]
  },
  {
   "cell_type": "code",
   "execution_count": 521,
   "metadata": {
    "scrolled": false
   },
   "outputs": [
    {
     "data": {
      "text/plain": [
       "Drama              1033\n",
       "Comedy              614\n",
       "Thriller            538\n",
       "Action              471\n",
       "Adventure           304\n",
       "Romance             259\n",
       "Horror              259\n",
       "Crime               235\n",
       "Science Fiction     209\n",
       "Family              192\n",
       "Fantasy             185\n",
       "Mystery             140\n",
       "Documentary         111\n",
       "Animation           109\n",
       "History              87\n",
       "Music                58\n",
       "War                  54\n",
       "Western              24\n",
       "Name: genre, dtype: int64"
      ]
     },
     "execution_count": 521,
     "metadata": {},
     "output_type": "execute_result"
    }
   ],
   "source": [
    "# drop all entries with '' as a genre\n",
    "movies_explode = movies_explode[movies_explode.genre != '']\n",
    "movies_explode.genre.value_counts()"
   ]
  },
  {
   "cell_type": "markdown",
   "metadata": {},
   "source": [
    "## Profit Analysis by Genre ##"
   ]
  },
  {
   "cell_type": "markdown",
   "metadata": {},
   "source": [
    "In this section, we'll determine which genres make the most profit. Then, we will analyze how the profits for certain genres have changed over time. "
   ]
  },
  {
   "cell_type": "markdown",
   "metadata": {},
   "source": [
    "##  Most Profitable Genre ##"
   ]
  },
  {
   "cell_type": "markdown",
   "metadata": {},
   "source": [
    "### Mean Profitability of Genres ###"
   ]
  },
  {
   "cell_type": "markdown",
   "metadata": {},
   "source": [
    "This data set contains data on movie profits between 2010 - 2019. Unfortunately, the values for production_budget and total_gross are not adjusted for inflation. Therefore, examinining total_gross of a movie or genre can be misleading. It is best, then, to define profitability as the return on investment for a movie/genre. We define profitability as the ratio between total_gross and production_budget. This will give a profitability index that is consistent across all year and does not need to be adjusted for inflation. Below, we will analyze which genres have the highest profitability across all 9 years. "
   ]
  },
  {
   "cell_type": "code",
   "execution_count": 522,
   "metadata": {},
   "outputs": [],
   "source": [
    "# group by genre and find mean of the indicated columns\n",
    "genre_profits_means = movies_explode.groupby('genre').mean().loc[ : , ['production_budget', \n",
    "                                                                       'domestic_gross', \n",
    "                                                                       'total_gross', \n",
    "                                                                       'profitability']]"
   ]
  },
  {
   "cell_type": "code",
   "execution_count": 523,
   "metadata": {},
   "outputs": [
    {
     "data": {
      "text/html": [
       "<div>\n",
       "<style scoped>\n",
       "    .dataframe tbody tr th:only-of-type {\n",
       "        vertical-align: middle;\n",
       "    }\n",
       "\n",
       "    .dataframe tbody tr th {\n",
       "        vertical-align: top;\n",
       "    }\n",
       "\n",
       "    .dataframe thead th {\n",
       "        text-align: right;\n",
       "    }\n",
       "</style>\n",
       "<table border=\"1\" class=\"dataframe\">\n",
       "  <thead>\n",
       "    <tr style=\"text-align: right;\">\n",
       "      <th></th>\n",
       "      <th>genre</th>\n",
       "      <th>production_budget</th>\n",
       "      <th>domestic_gross</th>\n",
       "      <th>total_gross</th>\n",
       "      <th>profitability</th>\n",
       "    </tr>\n",
       "  </thead>\n",
       "  <tbody>\n",
       "    <tr>\n",
       "      <th>0</th>\n",
       "      <td>Horror</td>\n",
       "      <td>2.089414e+07</td>\n",
       "      <td>3.355740e+07</td>\n",
       "      <td>7.866892e+07</td>\n",
       "      <td>8.891247</td>\n",
       "    </tr>\n",
       "    <tr>\n",
       "      <th>1</th>\n",
       "      <td>Mystery</td>\n",
       "      <td>2.933316e+07</td>\n",
       "      <td>3.640420e+07</td>\n",
       "      <td>8.568897e+07</td>\n",
       "      <td>5.148720</td>\n",
       "    </tr>\n",
       "    <tr>\n",
       "      <th>2</th>\n",
       "      <td>Thriller</td>\n",
       "      <td>3.387138e+07</td>\n",
       "      <td>3.748826e+07</td>\n",
       "      <td>9.376570e+07</td>\n",
       "      <td>4.814398</td>\n",
       "    </tr>\n",
       "    <tr>\n",
       "      <th>3</th>\n",
       "      <td>Animation</td>\n",
       "      <td>9.327523e+07</td>\n",
       "      <td>1.259678e+08</td>\n",
       "      <td>3.502251e+08</td>\n",
       "      <td>4.416359</td>\n",
       "    </tr>\n",
       "    <tr>\n",
       "      <th>4</th>\n",
       "      <td>Family</td>\n",
       "      <td>8.208464e+07</td>\n",
       "      <td>1.067007e+08</td>\n",
       "      <td>2.832883e+08</td>\n",
       "      <td>4.054411</td>\n",
       "    </tr>\n",
       "    <tr>\n",
       "      <th>5</th>\n",
       "      <td>Science Fiction</td>\n",
       "      <td>8.445184e+07</td>\n",
       "      <td>1.021394e+08</td>\n",
       "      <td>2.773552e+08</td>\n",
       "      <td>3.886940</td>\n",
       "    </tr>\n",
       "    <tr>\n",
       "      <th>6</th>\n",
       "      <td>Romance</td>\n",
       "      <td>2.590604e+07</td>\n",
       "      <td>3.785415e+07</td>\n",
       "      <td>8.666628e+07</td>\n",
       "      <td>3.827473</td>\n",
       "    </tr>\n",
       "    <tr>\n",
       "      <th>7</th>\n",
       "      <td>Fantasy</td>\n",
       "      <td>9.347027e+07</td>\n",
       "      <td>1.061872e+08</td>\n",
       "      <td>2.979284e+08</td>\n",
       "      <td>3.795323</td>\n",
       "    </tr>\n",
       "    <tr>\n",
       "      <th>8</th>\n",
       "      <td>Drama</td>\n",
       "      <td>2.599682e+07</td>\n",
       "      <td>3.147977e+07</td>\n",
       "      <td>7.004255e+07</td>\n",
       "      <td>3.574073</td>\n",
       "    </tr>\n",
       "    <tr>\n",
       "      <th>9</th>\n",
       "      <td>Comedy</td>\n",
       "      <td>3.673038e+07</td>\n",
       "      <td>5.368016e+07</td>\n",
       "      <td>1.216948e+08</td>\n",
       "      <td>3.557474</td>\n",
       "    </tr>\n",
       "    <tr>\n",
       "      <th>10</th>\n",
       "      <td>Documentary</td>\n",
       "      <td>1.561368e+07</td>\n",
       "      <td>2.034090e+07</td>\n",
       "      <td>3.575415e+07</td>\n",
       "      <td>3.486085</td>\n",
       "    </tr>\n",
       "    <tr>\n",
       "      <th>11</th>\n",
       "      <td>Music</td>\n",
       "      <td>2.224138e+07</td>\n",
       "      <td>3.964517e+07</td>\n",
       "      <td>8.406182e+07</td>\n",
       "      <td>3.101722</td>\n",
       "    </tr>\n",
       "    <tr>\n",
       "      <th>12</th>\n",
       "      <td>Adventure</td>\n",
       "      <td>1.088475e+08</td>\n",
       "      <td>1.249367e+08</td>\n",
       "      <td>3.560235e+08</td>\n",
       "      <td>2.983844</td>\n",
       "    </tr>\n",
       "    <tr>\n",
       "      <th>13</th>\n",
       "      <td>Action</td>\n",
       "      <td>7.624839e+07</td>\n",
       "      <td>8.330485e+07</td>\n",
       "      <td>2.310993e+08</td>\n",
       "      <td>2.868407</td>\n",
       "    </tr>\n",
       "    <tr>\n",
       "      <th>14</th>\n",
       "      <td>Crime</td>\n",
       "      <td>3.361816e+07</td>\n",
       "      <td>3.827747e+07</td>\n",
       "      <td>8.728704e+07</td>\n",
       "      <td>2.411107</td>\n",
       "    </tr>\n",
       "    <tr>\n",
       "      <th>15</th>\n",
       "      <td>History</td>\n",
       "      <td>2.711100e+07</td>\n",
       "      <td>2.552688e+07</td>\n",
       "      <td>5.216155e+07</td>\n",
       "      <td>2.180789</td>\n",
       "    </tr>\n",
       "    <tr>\n",
       "      <th>16</th>\n",
       "      <td>War</td>\n",
       "      <td>3.748333e+07</td>\n",
       "      <td>4.166941e+07</td>\n",
       "      <td>8.691451e+07</td>\n",
       "      <td>2.161353</td>\n",
       "    </tr>\n",
       "    <tr>\n",
       "      <th>17</th>\n",
       "      <td>Western</td>\n",
       "      <td>5.102917e+07</td>\n",
       "      <td>4.448789e+07</td>\n",
       "      <td>9.773660e+07</td>\n",
       "      <td>1.404875</td>\n",
       "    </tr>\n",
       "  </tbody>\n",
       "</table>\n",
       "</div>"
      ],
      "text/plain": [
       "              genre  production_budget  domestic_gross   total_gross  \\\n",
       "0            Horror       2.089414e+07    3.355740e+07  7.866892e+07   \n",
       "1           Mystery       2.933316e+07    3.640420e+07  8.568897e+07   \n",
       "2          Thriller       3.387138e+07    3.748826e+07  9.376570e+07   \n",
       "3         Animation       9.327523e+07    1.259678e+08  3.502251e+08   \n",
       "4            Family       8.208464e+07    1.067007e+08  2.832883e+08   \n",
       "5   Science Fiction       8.445184e+07    1.021394e+08  2.773552e+08   \n",
       "6           Romance       2.590604e+07    3.785415e+07  8.666628e+07   \n",
       "7           Fantasy       9.347027e+07    1.061872e+08  2.979284e+08   \n",
       "8             Drama       2.599682e+07    3.147977e+07  7.004255e+07   \n",
       "9            Comedy       3.673038e+07    5.368016e+07  1.216948e+08   \n",
       "10      Documentary       1.561368e+07    2.034090e+07  3.575415e+07   \n",
       "11            Music       2.224138e+07    3.964517e+07  8.406182e+07   \n",
       "12        Adventure       1.088475e+08    1.249367e+08  3.560235e+08   \n",
       "13           Action       7.624839e+07    8.330485e+07  2.310993e+08   \n",
       "14            Crime       3.361816e+07    3.827747e+07  8.728704e+07   \n",
       "15          History       2.711100e+07    2.552688e+07  5.216155e+07   \n",
       "16              War       3.748333e+07    4.166941e+07  8.691451e+07   \n",
       "17          Western       5.102917e+07    4.448789e+07  9.773660e+07   \n",
       "\n",
       "    profitability  \n",
       "0        8.891247  \n",
       "1        5.148720  \n",
       "2        4.814398  \n",
       "3        4.416359  \n",
       "4        4.054411  \n",
       "5        3.886940  \n",
       "6        3.827473  \n",
       "7        3.795323  \n",
       "8        3.574073  \n",
       "9        3.557474  \n",
       "10       3.486085  \n",
       "11       3.101722  \n",
       "12       2.983844  \n",
       "13       2.868407  \n",
       "14       2.411107  \n",
       "15       2.180789  \n",
       "16       2.161353  \n",
       "17       1.404875  "
      ]
     },
     "execution_count": 523,
     "metadata": {},
     "output_type": "execute_result"
    }
   ],
   "source": [
    "# return highest mean profitability of all genres\n",
    "bar1 = genre_profits_means.sort_values('profitability', ascending = False).reset_index()\n",
    "bar1"
   ]
  },
  {
   "cell_type": "code",
   "execution_count": 524,
   "metadata": {
    "scrolled": false
   },
   "outputs": [
    {
     "data": {
      "text/plain": [
       "Text(0, 0.5, 'Mean Profitability')"
      ]
     },
     "execution_count": 524,
     "metadata": {},
     "output_type": "execute_result"
    },
    {
     "data": {
      "image/png": "[encoded data removed]",
      "text/plain": [
       "<Figure size 1500x800 with 1 Axes>"
      ]
     },
     "metadata": {},
     "output_type": "display_data"
    }
   ],
   "source": [
    "# create a bar plot for mean profitability by genre\n",
    "plt.figure(figsize = (15, 8))\n",
    "plt.bar(bar1.genre, bar1.profitability)\n",
    "plt.title('Mean Profitability of Genres')\n",
    "plt.xlabel('Genre')\n",
    "plt.xticks(rotation = 'vertical')\n",
    "plt.ylabel('Mean Profitability')"
   ]
  },
  {
   "cell_type": "markdown",
   "metadata": {},
   "source": [
    "According to this bar graph, Horror would seem to be the most profitable genre with a profitability index of 9 (rounded up). The second most profitable is Mystery, but its profitability index of 5 is much smaller than for Horror. There must be a Horror movies with profitability indeces vastly larger than all other horror movies, raising the mean. Let's determine the shape of this distribution."
   ]
  },
  {
   "cell_type": "code",
   "execution_count": 525,
   "metadata": {
    "scrolled": false
   },
   "outputs": [
    {
     "data": {
      "text/html": [
       "<div>\n",
       "<style scoped>\n",
       "    .dataframe tbody tr th:only-of-type {\n",
       "        vertical-align: middle;\n",
       "    }\n",
       "\n",
       "    .dataframe tbody tr th {\n",
       "        vertical-align: top;\n",
       "    }\n",
       "\n",
       "    .dataframe thead th {\n",
       "        text-align: right;\n",
       "    }\n",
       "</style>\n",
       "<table border=\"1\" class=\"dataframe\">\n",
       "  <thead>\n",
       "    <tr style=\"text-align: right;\">\n",
       "      <th></th>\n",
       "      <th>title</th>\n",
       "      <th>profitability</th>\n",
       "    </tr>\n",
       "  </thead>\n",
       "  <tbody>\n",
       "    <tr>\n",
       "      <th>1522</th>\n",
       "      <td>The Gallows</td>\n",
       "      <td>416.564740</td>\n",
       "    </tr>\n",
       "    <tr>\n",
       "      <th>727</th>\n",
       "      <td>The Devil Inside</td>\n",
       "      <td>101.759490</td>\n",
       "    </tr>\n",
       "    <tr>\n",
       "      <th>1542</th>\n",
       "      <td>Home</td>\n",
       "      <td>89.586336</td>\n",
       "    </tr>\n",
       "    <tr>\n",
       "      <th>26</th>\n",
       "      <td>Insidious</td>\n",
       "      <td>66.580591</td>\n",
       "    </tr>\n",
       "    <tr>\n",
       "      <th>1004</th>\n",
       "      <td>Unfriended</td>\n",
       "      <td>64.364198</td>\n",
       "    </tr>\n",
       "    <tr>\n",
       "      <th>227</th>\n",
       "      <td>Paranormal Activity 2</td>\n",
       "      <td>59.170677</td>\n",
       "    </tr>\n",
       "    <tr>\n",
       "      <th>1723</th>\n",
       "      <td>Split</td>\n",
       "      <td>55.792961</td>\n",
       "    </tr>\n",
       "    <tr>\n",
       "      <th>1899</th>\n",
       "      <td>Get Out</td>\n",
       "      <td>51.073590</td>\n",
       "    </tr>\n",
       "    <tr>\n",
       "      <th>588</th>\n",
       "      <td>Chernobyl Diaries</td>\n",
       "      <td>42.411721</td>\n",
       "    </tr>\n",
       "    <tr>\n",
       "      <th>463</th>\n",
       "      <td>Paranormal Activity 3</td>\n",
       "      <td>41.407969</td>\n",
       "    </tr>\n",
       "  </tbody>\n",
       "</table>\n",
       "</div>"
      ],
      "text/plain": [
       "                      title  profitability\n",
       "1522            The Gallows     416.564740\n",
       "727        The Devil Inside     101.759490\n",
       "1542                   Home      89.586336\n",
       "26                Insidious      66.580591\n",
       "1004             Unfriended      64.364198\n",
       "227   Paranormal Activity 2      59.170677\n",
       "1723                  Split      55.792961\n",
       "1899                Get Out      51.073590\n",
       "588       Chernobyl Diaries      42.411721\n",
       "463   Paranormal Activity 3      41.407969"
      ]
     },
     "execution_count": 525,
     "metadata": {},
     "output_type": "execute_result"
    }
   ],
   "source": [
    "# determine which horror movie is the outlier\n",
    "horror_movies = movies_explode[movies_explode.genre == 'Horror'].sort_values('profitability', ascending = False)\n",
    "horror_movies.loc[ : , ['title', 'profitability']].head(10)"
   ]
  },
  {
   "cell_type": "code",
   "execution_count": 526,
   "metadata": {},
   "outputs": [
    {
     "data": {
      "text/plain": [
       "Text(0, 0.5, 'Counts')"
      ]
     },
     "execution_count": 526,
     "metadata": {},
     "output_type": "execute_result"
    },
    {
     "data": {
      "image/png": "[encoded data removed]",
      "text/plain": [
       "<Figure size 1500x800 with 1 Axes>"
      ]
     },
     "metadata": {},
     "output_type": "display_data"
    }
   ],
   "source": [
    "# plot a histogram to see the distribution of these values\n",
    "plt.figure(figsize = (15, 8))\n",
    "plt.hist(horror_movies.profitability, bins = 100);\n",
    "plt.title('Counts of Profitability Across all Horror Movies')\n",
    "plt.xlabel('Profitability Index')\n",
    "plt.ylabel('Counts')"
   ]
  },
  {
   "cell_type": "markdown",
   "metadata": {},
   "source": [
    "We can see that the Horror genre is extremely right skewed. Therefore, greatly increasing the value of the mean and giving an inaccurate picture of the true profitability of the Horror genre. Perhaps this is also the case for other genres as well. Median may be a better indicator to determine the profitability across genres."
   ]
  },
  {
   "cell_type": "markdown",
   "metadata": {},
   "source": [
    "### Median Profitablity of Genres ###"
   ]
  },
  {
   "cell_type": "code",
   "execution_count": 527,
   "metadata": {},
   "outputs": [],
   "source": [
    "# group by genre and find the median of the indicated columns\n",
    "genre_profits_medians = movies_explode.groupby('genre').median().loc[ : , ['production_budget', \n",
    "                                                                           'domestic_gross', \n",
    "                                                                           'total_gross', \n",
    "                                                                           'profitability']]"
   ]
  },
  {
   "cell_type": "code",
   "execution_count": 528,
   "metadata": {},
   "outputs": [
    {
     "data": {
      "text/html": [
       "<div>\n",
       "<style scoped>\n",
       "    .dataframe tbody tr th:only-of-type {\n",
       "        vertical-align: middle;\n",
       "    }\n",
       "\n",
       "    .dataframe tbody tr th {\n",
       "        vertical-align: top;\n",
       "    }\n",
       "\n",
       "    .dataframe thead th {\n",
       "        text-align: right;\n",
       "    }\n",
       "</style>\n",
       "<table border=\"1\" class=\"dataframe\">\n",
       "  <thead>\n",
       "    <tr style=\"text-align: right;\">\n",
       "      <th></th>\n",
       "      <th>genre</th>\n",
       "      <th>production_budget</th>\n",
       "      <th>domestic_gross</th>\n",
       "      <th>total_gross</th>\n",
       "      <th>profitability</th>\n",
       "    </tr>\n",
       "  </thead>\n",
       "  <tbody>\n",
       "    <tr>\n",
       "      <th>0</th>\n",
       "      <td>Animation</td>\n",
       "      <td>80000000.0</td>\n",
       "      <td>100246011.0</td>\n",
       "      <td>274392649.0</td>\n",
       "      <td>2.994565</td>\n",
       "    </tr>\n",
       "    <tr>\n",
       "      <th>1</th>\n",
       "      <td>Horror</td>\n",
       "      <td>9900000.0</td>\n",
       "      <td>21222315.0</td>\n",
       "      <td>40520649.0</td>\n",
       "      <td>2.739747</td>\n",
       "    </tr>\n",
       "    <tr>\n",
       "      <th>2</th>\n",
       "      <td>Family</td>\n",
       "      <td>74000000.0</td>\n",
       "      <td>68615739.5</td>\n",
       "      <td>159464194.0</td>\n",
       "      <td>2.578068</td>\n",
       "    </tr>\n",
       "    <tr>\n",
       "      <th>3</th>\n",
       "      <td>Science Fiction</td>\n",
       "      <td>58000000.0</td>\n",
       "      <td>52000688.0</td>\n",
       "      <td>137551594.0</td>\n",
       "      <td>2.467320</td>\n",
       "    </tr>\n",
       "    <tr>\n",
       "      <th>4</th>\n",
       "      <td>Adventure</td>\n",
       "      <td>100000000.0</td>\n",
       "      <td>80085291.5</td>\n",
       "      <td>250795637.5</td>\n",
       "      <td>2.416596</td>\n",
       "    </tr>\n",
       "    <tr>\n",
       "      <th>5</th>\n",
       "      <td>Fantasy</td>\n",
       "      <td>80000000.0</td>\n",
       "      <td>56816662.0</td>\n",
       "      <td>173613482.0</td>\n",
       "      <td>2.358951</td>\n",
       "    </tr>\n",
       "    <tr>\n",
       "      <th>6</th>\n",
       "      <td>Comedy</td>\n",
       "      <td>22000000.0</td>\n",
       "      <td>32303727.5</td>\n",
       "      <td>54539920.0</td>\n",
       "      <td>2.293380</td>\n",
       "    </tr>\n",
       "    <tr>\n",
       "      <th>7</th>\n",
       "      <td>Mystery</td>\n",
       "      <td>20000000.0</td>\n",
       "      <td>25115260.5</td>\n",
       "      <td>41784385.5</td>\n",
       "      <td>2.247105</td>\n",
       "    </tr>\n",
       "    <tr>\n",
       "      <th>8</th>\n",
       "      <td>Action</td>\n",
       "      <td>50000000.0</td>\n",
       "      <td>43568507.0</td>\n",
       "      <td>105002056.0</td>\n",
       "      <td>2.178123</td>\n",
       "    </tr>\n",
       "    <tr>\n",
       "      <th>9</th>\n",
       "      <td>Romance</td>\n",
       "      <td>17000000.0</td>\n",
       "      <td>16376066.0</td>\n",
       "      <td>34247816.0</td>\n",
       "      <td>1.945704</td>\n",
       "    </tr>\n",
       "    <tr>\n",
       "      <th>10</th>\n",
       "      <td>Thriller</td>\n",
       "      <td>20000000.0</td>\n",
       "      <td>20440990.0</td>\n",
       "      <td>40651353.0</td>\n",
       "      <td>1.695933</td>\n",
       "    </tr>\n",
       "    <tr>\n",
       "      <th>11</th>\n",
       "      <td>Drama</td>\n",
       "      <td>15000000.0</td>\n",
       "      <td>12638526.0</td>\n",
       "      <td>24403192.0</td>\n",
       "      <td>1.586444</td>\n",
       "    </tr>\n",
       "    <tr>\n",
       "      <th>12</th>\n",
       "      <td>Crime</td>\n",
       "      <td>26000000.0</td>\n",
       "      <td>20275446.0</td>\n",
       "      <td>38718031.0</td>\n",
       "      <td>1.524681</td>\n",
       "    </tr>\n",
       "    <tr>\n",
       "      <th>13</th>\n",
       "      <td>War</td>\n",
       "      <td>25000000.0</td>\n",
       "      <td>19757316.0</td>\n",
       "      <td>33228764.5</td>\n",
       "      <td>1.354606</td>\n",
       "    </tr>\n",
       "    <tr>\n",
       "      <th>14</th>\n",
       "      <td>History</td>\n",
       "      <td>20000000.0</td>\n",
       "      <td>12638526.0</td>\n",
       "      <td>28400715.0</td>\n",
       "      <td>1.350598</td>\n",
       "    </tr>\n",
       "    <tr>\n",
       "      <th>15</th>\n",
       "      <td>Documentary</td>\n",
       "      <td>9000000.0</td>\n",
       "      <td>5310554.0</td>\n",
       "      <td>7818479.0</td>\n",
       "      <td>1.330743</td>\n",
       "    </tr>\n",
       "    <tr>\n",
       "      <th>16</th>\n",
       "      <td>Music</td>\n",
       "      <td>14750000.0</td>\n",
       "      <td>12802434.0</td>\n",
       "      <td>24075030.5</td>\n",
       "      <td>1.296476</td>\n",
       "    </tr>\n",
       "    <tr>\n",
       "      <th>17</th>\n",
       "      <td>Western</td>\n",
       "      <td>30500000.0</td>\n",
       "      <td>8106728.5</td>\n",
       "      <td>13368264.5</td>\n",
       "      <td>0.762992</td>\n",
       "    </tr>\n",
       "  </tbody>\n",
       "</table>\n",
       "</div>"
      ],
      "text/plain": [
       "              genre  production_budget  domestic_gross  total_gross  \\\n",
       "0         Animation         80000000.0     100246011.0  274392649.0   \n",
       "1            Horror          9900000.0      21222315.0   40520649.0   \n",
       "2            Family         74000000.0      68615739.5  159464194.0   \n",
       "3   Science Fiction         58000000.0      52000688.0  137551594.0   \n",
       "4         Adventure        100000000.0      80085291.5  250795637.5   \n",
       "5           Fantasy         80000000.0      56816662.0  173613482.0   \n",
       "6            Comedy         22000000.0      32303727.5   54539920.0   \n",
       "7           Mystery         20000000.0      25115260.5   41784385.5   \n",
       "8            Action         50000000.0      43568507.0  105002056.0   \n",
       "9           Romance         17000000.0      16376066.0   34247816.0   \n",
       "10         Thriller         20000000.0      20440990.0   40651353.0   \n",
       "11            Drama         15000000.0      12638526.0   24403192.0   \n",
       "12            Crime         26000000.0      20275446.0   38718031.0   \n",
       "13              War         25000000.0      19757316.0   33228764.5   \n",
       "14          History         20000000.0      12638526.0   28400715.0   \n",
       "15      Documentary          9000000.0       5310554.0    7818479.0   \n",
       "16            Music         14750000.0      12802434.0   24075030.5   \n",
       "17          Western         30500000.0       8106728.5   13368264.5   \n",
       "\n",
       "    profitability  \n",
       "0        2.994565  \n",
       "1        2.739747  \n",
       "2        2.578068  \n",
       "3        2.467320  \n",
       "4        2.416596  \n",
       "5        2.358951  \n",
       "6        2.293380  \n",
       "7        2.247105  \n",
       "8        2.178123  \n",
       "9        1.945704  \n",
       "10       1.695933  \n",
       "11       1.586444  \n",
       "12       1.524681  \n",
       "13       1.354606  \n",
       "14       1.350598  \n",
       "15       1.330743  \n",
       "16       1.296476  \n",
       "17       0.762992  "
      ]
     },
     "execution_count": 528,
     "metadata": {},
     "output_type": "execute_result"
    }
   ],
   "source": [
    "# return highest median profitability for all genres\n",
    "bar2 = genre_profits_medians.sort_values('profitability', ascending = False).reset_index()\n",
    "bar2"
   ]
  },
  {
   "cell_type": "code",
   "execution_count": 529,
   "metadata": {},
   "outputs": [
    {
     "data": {
      "text/plain": [
       "<matplotlib.collections.LineCollection at 0x12bcfe400>"
      ]
     },
     "execution_count": 529,
     "metadata": {},
     "output_type": "execute_result"
    },
    {
     "data": {
      "image/png": "[encoded data removed]",
      "text/plain": [
       "<Figure size 1500x800 with 1 Axes>"
      ]
     },
     "metadata": {},
     "output_type": "display_data"
    }
   ],
   "source": [
    "# create a bar plot for median profitability by genre\n",
    "plt.figure(figsize = (15, 8))\n",
    "plt.bar(bar2.genre, bar2.profitability)\n",
    "plt.title('Median Profitability of Genres')\n",
    "plt.xlabel('Genre')\n",
    "plt.xticks(rotation = 'vertical')\n",
    "plt.ylabel('Median Profitability')\n",
    "plt.hlines(y = 1.0, xmin = 'Animation', xmax = 'Western', color = 'red')"
   ]
  },
  {
   "cell_type": "markdown",
   "metadata": {},
   "source": [
    "The above figure shows the mean profitability acorss genres. The horizontal line represents a profitability index of 1. This is the profitability a movie must reach to break even (i.e no profit, no loss). According to this data set, the top 5 genres are Animation, Horror, Family, Science Fiction, and Adventure with the first 4 making at least 2.5 more money than what was initially invested. Western movies are the least profitable. In fact, this genre seems to be a bad investment overall as their profitability index is less than 1 meaning Western movies often lose money."
   ]
  },
  {
   "cell_type": "markdown",
   "metadata": {},
   "source": [
    "## Profitability of a Genre over Time ##"
   ]
  },
  {
   "cell_type": "markdown",
   "metadata": {},
   "source": [
    "In this section, we'll analyze the profitability of a genre over time. Because a single high grossing movie can affect the mean profitability of a genre for a given year, we will be looking at median profitability per year over time."
   ]
  },
  {
   "cell_type": "code",
   "execution_count": 530,
   "metadata": {
    "scrolled": true
   },
   "outputs": [
    {
     "data": {
      "text/html": [
       "<div>\n",
       "<style scoped>\n",
       "    .dataframe tbody tr th:only-of-type {\n",
       "        vertical-align: middle;\n",
       "    }\n",
       "\n",
       "    .dataframe tbody tr th {\n",
       "        vertical-align: top;\n",
       "    }\n",
       "\n",
       "    .dataframe thead th {\n",
       "        text-align: right;\n",
       "    }\n",
       "</style>\n",
       "<table border=\"1\" class=\"dataframe\">\n",
       "  <thead>\n",
       "    <tr style=\"text-align: right;\">\n",
       "      <th>genre</th>\n",
       "      <th>Action</th>\n",
       "      <th>Adventure</th>\n",
       "      <th>Animation</th>\n",
       "      <th>Comedy</th>\n",
       "      <th>Crime</th>\n",
       "      <th>Documentary</th>\n",
       "      <th>Drama</th>\n",
       "      <th>Family</th>\n",
       "      <th>Fantasy</th>\n",
       "      <th>History</th>\n",
       "      <th>Horror</th>\n",
       "      <th>Music</th>\n",
       "      <th>Mystery</th>\n",
       "      <th>Romance</th>\n",
       "      <th>Science Fiction</th>\n",
       "      <th>Thriller</th>\n",
       "      <th>War</th>\n",
       "      <th>Western</th>\n",
       "    </tr>\n",
       "    <tr>\n",
       "      <th>year</th>\n",
       "      <th></th>\n",
       "      <th></th>\n",
       "      <th></th>\n",
       "      <th></th>\n",
       "      <th></th>\n",
       "      <th></th>\n",
       "      <th></th>\n",
       "      <th></th>\n",
       "      <th></th>\n",
       "      <th></th>\n",
       "      <th></th>\n",
       "      <th></th>\n",
       "      <th></th>\n",
       "      <th></th>\n",
       "      <th></th>\n",
       "      <th></th>\n",
       "      <th></th>\n",
       "      <th></th>\n",
       "    </tr>\n",
       "  </thead>\n",
       "  <tbody>\n",
       "    <tr>\n",
       "      <th>2010</th>\n",
       "      <td>1.709365</td>\n",
       "      <td>2.239665</td>\n",
       "      <td>2.999218</td>\n",
       "      <td>1.831873</td>\n",
       "      <td>1.287381</td>\n",
       "      <td>2.193505</td>\n",
       "      <td>1.638845</td>\n",
       "      <td>2.411980</td>\n",
       "      <td>2.152316</td>\n",
       "      <td>0.636296</td>\n",
       "      <td>2.786324</td>\n",
       "      <td>0.555645</td>\n",
       "      <td>1.456278</td>\n",
       "      <td>2.053279</td>\n",
       "      <td>2.678543</td>\n",
       "      <td>1.923496</td>\n",
       "      <td>0.678778</td>\n",
       "      <td>0.584745</td>\n",
       "    </tr>\n",
       "    <tr>\n",
       "      <th>2011</th>\n",
       "      <td>1.945307</td>\n",
       "      <td>2.178123</td>\n",
       "      <td>2.838827</td>\n",
       "      <td>1.968919</td>\n",
       "      <td>1.807382</td>\n",
       "      <td>1.491668</td>\n",
       "      <td>1.807382</td>\n",
       "      <td>2.485517</td>\n",
       "      <td>2.257560</td>\n",
       "      <td>1.014633</td>\n",
       "      <td>1.407847</td>\n",
       "      <td>3.100865</td>\n",
       "      <td>2.768294</td>\n",
       "      <td>1.508189</td>\n",
       "      <td>2.587990</td>\n",
       "      <td>1.554199</td>\n",
       "      <td>0.212016</td>\n",
       "      <td>0.591021</td>\n",
       "    </tr>\n",
       "    <tr>\n",
       "      <th>2012</th>\n",
       "      <td>2.116558</td>\n",
       "      <td>2.997873</td>\n",
       "      <td>2.116558</td>\n",
       "      <td>1.973742</td>\n",
       "      <td>1.833633</td>\n",
       "      <td>1.477761</td>\n",
       "      <td>1.449074</td>\n",
       "      <td>2.098674</td>\n",
       "      <td>2.079535</td>\n",
       "      <td>1.716209</td>\n",
       "      <td>2.544963</td>\n",
       "      <td>1.133015</td>\n",
       "      <td>1.222526</td>\n",
       "      <td>2.054127</td>\n",
       "      <td>1.660864</td>\n",
       "      <td>1.833633</td>\n",
       "      <td>3.871562</td>\n",
       "      <td>3.295774</td>\n",
       "    </tr>\n",
       "    <tr>\n",
       "      <th>2013</th>\n",
       "      <td>2.186882</td>\n",
       "      <td>2.163173</td>\n",
       "      <td>2.627944</td>\n",
       "      <td>2.766780</td>\n",
       "      <td>1.412128</td>\n",
       "      <td>0.841538</td>\n",
       "      <td>1.484170</td>\n",
       "      <td>2.125160</td>\n",
       "      <td>2.451795</td>\n",
       "      <td>1.618292</td>\n",
       "      <td>3.317416</td>\n",
       "      <td>0.836169</td>\n",
       "      <td>2.399305</td>\n",
       "      <td>1.441051</td>\n",
       "      <td>2.384934</td>\n",
       "      <td>1.522675</td>\n",
       "      <td>3.867501</td>\n",
       "      <td>0.580232</td>\n",
       "    </tr>\n",
       "    <tr>\n",
       "      <th>2014</th>\n",
       "      <td>2.625566</td>\n",
       "      <td>3.245715</td>\n",
       "      <td>3.285496</td>\n",
       "      <td>2.433886</td>\n",
       "      <td>1.548721</td>\n",
       "      <td>0.658514</td>\n",
       "      <td>1.385818</td>\n",
       "      <td>2.465546</td>\n",
       "      <td>3.544982</td>\n",
       "      <td>1.799073</td>\n",
       "      <td>3.039099</td>\n",
       "      <td>0.108046</td>\n",
       "      <td>1.331341</td>\n",
       "      <td>1.716463</td>\n",
       "      <td>3.306725</td>\n",
       "      <td>1.361383</td>\n",
       "      <td>2.572379</td>\n",
       "      <td>0.269776</td>\n",
       "    </tr>\n",
       "    <tr>\n",
       "      <th>2015</th>\n",
       "      <td>2.245490</td>\n",
       "      <td>2.467320</td>\n",
       "      <td>2.649300</td>\n",
       "      <td>2.097094</td>\n",
       "      <td>0.856040</td>\n",
       "      <td>1.113019</td>\n",
       "      <td>1.732457</td>\n",
       "      <td>2.526178</td>\n",
       "      <td>2.097094</td>\n",
       "      <td>1.557610</td>\n",
       "      <td>2.739747</td>\n",
       "      <td>1.566793</td>\n",
       "      <td>1.496717</td>\n",
       "      <td>2.442555</td>\n",
       "      <td>2.589448</td>\n",
       "      <td>1.726968</td>\n",
       "      <td>1.185958</td>\n",
       "      <td>1.311420</td>\n",
       "    </tr>\n",
       "    <tr>\n",
       "      <th>2016</th>\n",
       "      <td>2.320263</td>\n",
       "      <td>2.706358</td>\n",
       "      <td>3.830064</td>\n",
       "      <td>2.742505</td>\n",
       "      <td>1.320950</td>\n",
       "      <td>1.586945</td>\n",
       "      <td>1.931046</td>\n",
       "      <td>2.991481</td>\n",
       "      <td>2.706358</td>\n",
       "      <td>0.817006</td>\n",
       "      <td>2.724573</td>\n",
       "      <td>1.615029</td>\n",
       "      <td>3.304730</td>\n",
       "      <td>1.945704</td>\n",
       "      <td>2.929905</td>\n",
       "      <td>1.657074</td>\n",
       "      <td>0.924732</td>\n",
       "      <td>2.468930</td>\n",
       "    </tr>\n",
       "    <tr>\n",
       "      <th>2017</th>\n",
       "      <td>2.186484</td>\n",
       "      <td>2.401454</td>\n",
       "      <td>3.292976</td>\n",
       "      <td>2.711384</td>\n",
       "      <td>2.994704</td>\n",
       "      <td>1.522388</td>\n",
       "      <td>1.401932</td>\n",
       "      <td>3.311987</td>\n",
       "      <td>3.282518</td>\n",
       "      <td>1.255808</td>\n",
       "      <td>2.358834</td>\n",
       "      <td>1.471090</td>\n",
       "      <td>3.944041</td>\n",
       "      <td>1.433118</td>\n",
       "      <td>1.964720</td>\n",
       "      <td>1.956445</td>\n",
       "      <td>1.615439</td>\n",
       "      <td>NaN</td>\n",
       "    </tr>\n",
       "    <tr>\n",
       "      <th>2018</th>\n",
       "      <td>2.072030</td>\n",
       "      <td>2.665471</td>\n",
       "      <td>4.441872</td>\n",
       "      <td>2.708203</td>\n",
       "      <td>1.571940</td>\n",
       "      <td>1.556036</td>\n",
       "      <td>1.780887</td>\n",
       "      <td>2.630270</td>\n",
       "      <td>2.649434</td>\n",
       "      <td>1.811393</td>\n",
       "      <td>5.754886</td>\n",
       "      <td>8.454025</td>\n",
       "      <td>1.736868</td>\n",
       "      <td>4.678876</td>\n",
       "      <td>3.714535</td>\n",
       "      <td>1.858263</td>\n",
       "      <td>0.737420</td>\n",
       "      <td>0.198995</td>\n",
       "    </tr>\n",
       "    <tr>\n",
       "      <th>2019</th>\n",
       "      <td>1.712093</td>\n",
       "      <td>1.663733</td>\n",
       "      <td>1.284194</td>\n",
       "      <td>1.122135</td>\n",
       "      <td>1.043319</td>\n",
       "      <td>1.638845</td>\n",
       "      <td>1.033832</td>\n",
       "      <td>1.723166</td>\n",
       "      <td>1.846585</td>\n",
       "      <td>0.614825</td>\n",
       "      <td>3.298285</td>\n",
       "      <td>1.598741</td>\n",
       "      <td>1.326249</td>\n",
       "      <td>3.402386</td>\n",
       "      <td>2.065450</td>\n",
       "      <td>2.346050</td>\n",
       "      <td>0.268454</td>\n",
       "      <td>1.072129</td>\n",
       "    </tr>\n",
       "  </tbody>\n",
       "</table>\n",
       "</div>"
      ],
      "text/plain": [
       "genre    Action  Adventure  Animation    Comedy     Crime  Documentary  \\\n",
       "year                                                                     \n",
       "2010   1.709365   2.239665   2.999218  1.831873  1.287381     2.193505   \n",
       "2011   1.945307   2.178123   2.838827  1.968919  1.807382     1.491668   \n",
       "2012   2.116558   2.997873   2.116558  1.973742  1.833633     1.477761   \n",
       "2013   2.186882   2.163173   2.627944  2.766780  1.412128     0.841538   \n",
       "2014   2.625566   3.245715   3.285496  2.433886  1.548721     0.658514   \n",
       "2015   2.245490   2.467320   2.649300  2.097094  0.856040     1.113019   \n",
       "2016   2.320263   2.706358   3.830064  2.742505  1.320950     1.586945   \n",
       "2017   2.186484   2.401454   3.292976  2.711384  2.994704     1.522388   \n",
       "2018   2.072030   2.665471   4.441872  2.708203  1.571940     1.556036   \n",
       "2019   1.712093   1.663733   1.284194  1.122135  1.043319     1.638845   \n",
       "\n",
       "genre     Drama    Family   Fantasy   History    Horror     Music   Mystery  \\\n",
       "year                                                                          \n",
       "2010   1.638845  2.411980  2.152316  0.636296  2.786324  0.555645  1.456278   \n",
       "2011   1.807382  2.485517  2.257560  1.014633  1.407847  3.100865  2.768294   \n",
       "2012   1.449074  2.098674  2.079535  1.716209  2.544963  1.133015  1.222526   \n",
       "2013   1.484170  2.125160  2.451795  1.618292  3.317416  0.836169  2.399305   \n",
       "2014   1.385818  2.465546  3.544982  1.799073  3.039099  0.108046  1.331341   \n",
       "2015   1.732457  2.526178  2.097094  1.557610  2.739747  1.566793  1.496717   \n",
       "2016   1.931046  2.991481  2.706358  0.817006  2.724573  1.615029  3.304730   \n",
       "2017   1.401932  3.311987  3.282518  1.255808  2.358834  1.471090  3.944041   \n",
       "2018   1.780887  2.630270  2.649434  1.811393  5.754886  8.454025  1.736868   \n",
       "2019   1.033832  1.723166  1.846585  0.614825  3.298285  1.598741  1.326249   \n",
       "\n",
       "genre   Romance  Science Fiction  Thriller       War   Western  \n",
       "year                                                            \n",
       "2010   2.053279         2.678543  1.923496  0.678778  0.584745  \n",
       "2011   1.508189         2.587990  1.554199  0.212016  0.591021  \n",
       "2012   2.054127         1.660864  1.833633  3.871562  3.295774  \n",
       "2013   1.441051         2.384934  1.522675  3.867501  0.580232  \n",
       "2014   1.716463         3.306725  1.361383  2.572379  0.269776  \n",
       "2015   2.442555         2.589448  1.726968  1.185958  1.311420  \n",
       "2016   1.945704         2.929905  1.657074  0.924732  2.468930  \n",
       "2017   1.433118         1.964720  1.956445  1.615439       NaN  \n",
       "2018   4.678876         3.714535  1.858263  0.737420  0.198995  \n",
       "2019   3.402386         2.065450  2.346050  0.268454  1.072129  "
      ]
     },
     "execution_count": 530,
     "metadata": {},
     "output_type": "execute_result"
    }
   ],
   "source": [
    "# group data by year and genre and find median profitability and then unstack\n",
    "grouped = movies_explode.groupby(['year', 'genre']).median().iloc[ : , -1].unstack()\n",
    "grouped"
   ]
  },
  {
   "cell_type": "markdown",
   "metadata": {},
   "source": [
    "The above data shows the change in profitabilty for each genre per year. In order to better see the trends in how their profitability changes over time, we'll create a lineplot for each genre. "
   ]
  },
  {
   "cell_type": "code",
   "execution_count": 531,
   "metadata": {},
   "outputs": [
    {
     "data": {
      "text/html": [
       "        <script type=\"text/javascript\">\n",
       "        window.PlotlyConfig = {MathJaxConfig: 'local'};\n",
       "        if (window.MathJax) {MathJax.Hub.Config({SVG: {font: \"STIX-Web\"}});}\n",
       "        if (typeof require !== 'undefined') {\n",
       "        require.undef(\"plotly\");\n",
       "        requirejs.config({\n",
       "            paths: {\n",
       "                'plotly': ['https://cdn.plot.ly/plotly-latest.min']\n",
       "            }\n",
       "        });\n",
       "        require(['plotly'], function(Plotly) {\n",
       "            window._Plotly = Plotly;\n",
       "        });\n",
       "        }\n",
       "        </script>\n",
       "        "
      ]
     },
     "metadata": {},
     "output_type": "display_data"
    }
   ],
   "source": [
    "import plotly\n",
    "from plotly.offline import iplot, init_notebook_mode\n",
    "init_notebook_mode(connected=True)"
   ]
  },
  {
   "cell_type": "code",
   "execution_count": 548,
   "metadata": {},
   "outputs": [],
   "source": [
    "# create dictionaries to plot genre pforitability over time\n",
    "x = list(grouped.index)\n",
    "action = {'x' : x, 'y' : list(grouped['Action']), 'marker' : {'color' : 'blue'}, 'name' : 'Action'}\n",
    "adventure = {'x' : x, 'y' : list(grouped['Adventure']), 'marker' : {'color' : 'orange'}, 'name' : 'Adventure'}\n",
    "animation = {'x' : x, 'y' : list(grouped['Animation']), 'marker' : {'color' : 'green'}, 'name' : 'Animation'}\n",
    "comedy = {'x' : x, 'y' : list(grouped['Comedy']), 'marker' : {'color' : 'red'}, 'name' : 'Comedy'}\n",
    "crime = {'x' : x, 'y' : list(grouped['Crime']), 'marker' : {'color' : 'purple'}, 'name' : 'Crime'}\n",
    "documentary = {'x' : x, 'y' : list(grouped['Documentary']), 'marker' : {'color' : 'brown'}, 'name' : 'Documentary'}\n",
    "drama = {'x' : x, 'y' : list(grouped['Drama']), 'marker' : {'color' : 'fuchsia'}, 'name' : 'Drama'}\n",
    "family = {'x' : x, 'y' : list(grouped['Family']), 'marker' : {'color' : 'navy'}, 'name' : 'Family'}\n",
    "fantasy = {'x' : x, 'y' : list(grouped['Fantasy']), 'marker' : {'color' : 'yellow'}, 'name' : 'Fantasy'}\n",
    "history = {'x' : x, 'y' : list(grouped['History']), 'marker' : {'color' : 'chartreuse'}, 'name' : 'History'}\n",
    "horror = {'x' : x, 'y' : list(grouped['Horror']), 'marker' : {'color' : 'black'}, 'name' : 'Horror'}\n",
    "music = {'x' : x, 'y' : list(grouped['Music']), 'marker' : {'color' : 'mediumpurple'}, 'name' : 'Music'}\n",
    "mystery = {'x' : x, 'y' : list(grouped['Mystery']), 'marker' : {'color' : 'peru'}, 'name' : 'Mystery'}\n",
    "romance = {'x' : x, 'y' : list(grouped['Romance']), 'marker' : {'color' : 'maroon'}, 'name' : 'Romance'}\n",
    "scifi = {'x' : x, 'y' : list(grouped['Science Fiction']), 'marker' : {'color' : 'orangered'}, 'name' : 'Sci-Fi'}\n",
    "thriller = {'x' : x, 'y' : list(grouped['Thriller']), 'marker' : {'color' : 'darkolivegreen'}, 'name' : 'Thriller'}\n",
    "war = {'x' : x, 'y' : list(grouped['War']), 'marker' : {'color' : 'cyan'}, 'name' : 'War'}\n",
    "western = {'x' : x, 'y' : list(grouped['Western']), 'marker' : {'color' : 'goldenrod'}, 'name' : 'Western'}"
   ]
  },
  {
   "cell_type": "code",
   "execution_count": 549,
   "metadata": {
    "scrolled": false
   },
   "outputs": [
    {
     "data": {
      "application/vnd.plotly.v1+json": {
       "config": {
        "linkText": "Export to plot.ly",
        "plotlyServerURL": "https://plot.ly",
        "showLink": false
       },
       "data": [
        {
         "marker": {
          "color": "green"
         },
         "name": "Animation",
         "type": "scatter",
         "x": [
          2010,
          2011,
          2012,
          2013,
          2014,
          2015,
          2016,
          2017,
          2018,
          2019
         ],
         "y": [
          2.999218133333333,
          2.8388267305769235,
          2.1165579448275857,
          2.62794441,
          3.2854964872377623,
          2.649299806060606,
          3.8300636380952384,
          3.292976433333333,
          4.44187225875,
          1.28419396
         ]
        },
        {
         "marker": {
          "color": "black"
         },
         "name": "Horror",
         "type": "scatter",
         "x": [
          2010,
          2011,
          2012,
          2013,
          2014,
          2015,
          2016,
          2017,
          2018,
          2019
         ],
         "y": [
          2.786323674089069,
          1.4078469173469388,
          2.5449627285714285,
          3.317416229824561,
          3.0390987976190473,
          2.7397469655172406,
          2.72457325,
          2.358834413917526,
          5.754885933333334,
          3.2982853333333333
         ]
        },
        {
         "marker": {
          "color": "navy"
         },
         "name": "Family",
         "type": "scatter",
         "x": [
          2010,
          2011,
          2012,
          2013,
          2014,
          2015,
          2016,
          2017,
          2018,
          2019
         ],
         "y": [
          2.411979691497976,
          2.48551673,
          2.098673690362511,
          2.1251598370370366,
          2.4655463295454547,
          2.5261778787878786,
          2.9914810193333334,
          3.3119865587719297,
          2.6302696097435896,
          1.723165738235294
         ]
        },
        {
         "marker": {
          "color": "orangered"
         },
         "name": "Sci-Fi",
         "type": "scatter",
         "x": [
          2010,
          2011,
          2012,
          2013,
          2014,
          2015,
          2016,
          2017,
          2018,
          2019
         ],
         "y": [
          2.678543413986014,
          2.587989810714286,
          1.6608640853333334,
          2.3849340916666666,
          3.30672543125,
          2.5894478666666667,
          2.929905210526316,
          1.964719525,
          3.7145349533333336,
          2.0654499323529416
         ]
        },
        {
         "marker": {
          "color": "orange"
         },
         "name": "Adventure",
         "type": "scatter",
         "x": [
          2010,
          2011,
          2012,
          2013,
          2014,
          2015,
          2016,
          2017,
          2018,
          2019
         ],
         "y": [
          2.2396649050877193,
          2.178123133333333,
          2.9978731459459467,
          2.1631731894736843,
          3.2457153257918554,
          2.467320133333333,
          2.706357664125,
          2.4014537891634493,
          2.6654708,
          1.663732633333333
         ]
        },
        {
         "marker": {
          "color": "yellow"
         },
         "name": "Fantasy",
         "type": "scatter",
         "x": [
          2010,
          2011,
          2012,
          2013,
          2014,
          2015,
          2016,
          2017,
          2018,
          2019
         ],
         "y": [
          2.1523156366666667,
          2.2575598529411764,
          2.079534748884381,
          2.451795255,
          3.54498168,
          2.09709384,
          2.706357664125,
          3.282517939130435,
          2.6494337866666666,
          1.8465852049019609
         ]
        }
       ],
       "layout": {
        "template": {
         "data": {
          "bar": [
           {
            "error_x": {
             "color": "#2a3f5f"
            },
            "error_y": {
             "color": "#2a3f5f"
            },
            "marker": {
             "line": {
              "color": "#E5ECF6",
              "width": 0.5
             }
            },
            "type": "bar"
           }
          ],
          "barpolar": [
           {
            "marker": {
             "line": {
              "color": "#E5ECF6",
              "width": 0.5
             }
            },
            "type": "barpolar"
           }
          ],
          "carpet": [
           {
            "aaxis": {
             "endlinecolor": "#2a3f5f",
             "gridcolor": "white",
             "linecolor": "white",
             "minorgridcolor": "white",
             "startlinecolor": "#2a3f5f"
            },
            "baxis": {
             "endlinecolor": "#2a3f5f",
             "gridcolor": "white",
             "linecolor": "white",
             "minorgridcolor": "white",
             "startlinecolor": "#2a3f5f"
            },
            "type": "carpet"
           }
          ],
          "choropleth": [
           {
            "colorbar": {
             "outlinewidth": 0,
             "ticks": ""
            },
            "type": "choropleth"
           }
          ],
          "contour": [
           {
            "colorbar": {
             "outlinewidth": 0,
             "ticks": ""
            },
            "colorscale": [
             [
              0,
              "#0d0887"
             ],
             [
              0.1111111111111111,
              "#46039f"
             ],
             [
              0.2222222222222222,
              "#7201a8"
             ],
             [
              0.3333333333333333,
              "#9c179e"
             ],
             [
              0.4444444444444444,
              "#bd3786"
             ],
             [
              0.5555555555555556,
              "#d8576b"
             ],
             [
              0.6666666666666666,
              "#ed7953"
             ],
             [
              0.7777777777777778,
              "#fb9f3a"
             ],
             [
              0.8888888888888888,
              "#fdca26"
             ],
             [
              1,
              "#f0f921"
             ]
            ],
            "type": "contour"
           }
          ],
          "contourcarpet": [
           {
            "colorbar": {
             "outlinewidth": 0,
             "ticks": ""
            },
            "type": "contourcarpet"
           }
          ],
          "heatmap": [
           {
            "colorbar": {
             "outlinewidth": 0,
             "ticks": ""
            },
            "colorscale": [
             [
              0,
              "#0d0887"
             ],
             [
              0.1111111111111111,
              "#46039f"
             ],
             [
              0.2222222222222222,
              "#7201a8"
             ],
             [
              0.3333333333333333,
              "#9c179e"
             ],
             [
              0.4444444444444444,
              "#bd3786"
             ],
             [
              0.5555555555555556,
              "#d8576b"
             ],
             [
              0.6666666666666666,
              "#ed7953"
             ],
             [
              0.7777777777777778,
              "#fb9f3a"
             ],
             [
              0.8888888888888888,
              "#fdca26"
             ],
             [
              1,
              "#f0f921"
             ]
            ],
            "type": "heatmap"
           }
          ],
          "heatmapgl": [
           {
            "colorbar": {
             "outlinewidth": 0,
             "ticks": ""
            },
            "colorscale": [
             [
              0,
              "#0d0887"
             ],
             [
              0.1111111111111111,
              "#46039f"
             ],
             [
              0.2222222222222222,
              "#7201a8"
             ],
             [
              0.3333333333333333,
              "#9c179e"
             ],
             [
              0.4444444444444444,
              "#bd3786"
             ],
             [
              0.5555555555555556,
              "#d8576b"
             ],
             [
              0.6666666666666666,
              "#ed7953"
             ],
             [
              0.7777777777777778,
              "#fb9f3a"
             ],
             [
              0.8888888888888888,
              "#fdca26"
             ],
             [
              1,
              "#f0f921"
             ]
            ],
            "type": "heatmapgl"
           }
          ],
          "histogram": [
           {
            "marker": {
             "colorbar": {
              "outlinewidth": 0,
              "ticks": ""
             }
            },
            "type": "histogram"
           }
          ],
          "histogram2d": [
           {
            "colorbar": {
             "outlinewidth": 0,
             "ticks": ""
            },
            "colorscale": [
             [
              0,
              "#0d0887"
             ],
             [
              0.1111111111111111,
              "#46039f"
             ],
             [
              0.2222222222222222,
              "#7201a8"
             ],
             [
              0.3333333333333333,
              "#9c179e"
             ],
             [
              0.4444444444444444,
              "#bd3786"
             ],
             [
              0.5555555555555556,
              "#d8576b"
             ],
             [
              0.6666666666666666,
              "#ed7953"
             ],
             [
              0.7777777777777778,
              "#fb9f3a"
             ],
             [
              0.8888888888888888,
              "#fdca26"
             ],
             [
              1,
              "#f0f921"
             ]
            ],
            "type": "histogram2d"
           }
          ],
          "histogram2dcontour": [
           {
            "colorbar": {
             "outlinewidth": 0,
             "ticks": ""
            },
            "colorscale": [
             [
              0,
              "#0d0887"
             ],
             [
              0.1111111111111111,
              "#46039f"
             ],
             [
              0.2222222222222222,
              "#7201a8"
             ],
             [
              0.3333333333333333,
              "#9c179e"
             ],
             [
              0.4444444444444444,
              "#bd3786"
             ],
             [
              0.5555555555555556,
              "#d8576b"
             ],
             [
              0.6666666666666666,
              "#ed7953"
             ],
             [
              0.7777777777777778,
              "#fb9f3a"
             ],
             [
              0.8888888888888888,
              "#fdca26"
             ],
             [
              1,
              "#f0f921"
             ]
            ],
            "type": "histogram2dcontour"
           }
          ],
          "mesh3d": [
           {
            "colorbar": {
             "outlinewidth": 0,
             "ticks": ""
            },
            "type": "mesh3d"
           }
          ],
          "parcoords": [
           {
            "line": {
             "colorbar": {
              "outlinewidth": 0,
              "ticks": ""
             }
            },
            "type": "parcoords"
           }
          ],
          "pie": [
           {
            "automargin": true,
            "type": "pie"
           }
          ],
          "scatter": [
           {
            "marker": {
             "colorbar": {
              "outlinewidth": 0,
              "ticks": ""
             }
            },
            "type": "scatter"
           }
          ],
          "scatter3d": [
           {
            "line": {
             "colorbar": {
              "outlinewidth": 0,
              "ticks": ""
             }
            },
            "marker": {
             "colorbar": {
              "outlinewidth": 0,
              "ticks": ""
             }
            },
            "type": "scatter3d"
           }
          ],
          "scattercarpet": [
           {
            "marker": {
             "colorbar": {
              "outlinewidth": 0,
              "ticks": ""
             }
            },
            "type": "scattercarpet"
           }
          ],
          "scattergeo": [
           {
            "marker": {
             "colorbar": {
              "outlinewidth": 0,
              "ticks": ""
             }
            },
            "type": "scattergeo"
           }
          ],
          "scattergl": [
           {
            "marker": {
             "colorbar": {
              "outlinewidth": 0,
              "ticks": ""
             }
            },
            "type": "scattergl"
           }
          ],
          "scattermapbox": [
           {
            "marker": {
             "colorbar": {
              "outlinewidth": 0,
              "ticks": ""
             }
            },
            "type": "scattermapbox"
           }
          ],
          "scatterpolar": [
           {
            "marker": {
             "colorbar": {
              "outlinewidth": 0,
              "ticks": ""
             }
            },
            "type": "scatterpolar"
           }
          ],
          "scatterpolargl": [
           {
            "marker": {
             "colorbar": {
              "outlinewidth": 0,
              "ticks": ""
             }
            },
            "type": "scatterpolargl"
           }
          ],
          "scatterternary": [
           {
            "marker": {
             "colorbar": {
              "outlinewidth": 0,
              "ticks": ""
             }
            },
            "type": "scatterternary"
           }
          ],
          "surface": [
           {
            "colorbar": {
             "outlinewidth": 0,
             "ticks": ""
            },
            "colorscale": [
             [
              0,
              "#0d0887"
             ],
             [
              0.1111111111111111,
              "#46039f"
             ],
             [
              0.2222222222222222,
              "#7201a8"
             ],
             [
              0.3333333333333333,
              "#9c179e"
             ],
             [
              0.4444444444444444,
              "#bd3786"
             ],
             [
              0.5555555555555556,
              "#d8576b"
             ],
             [
              0.6666666666666666,
              "#ed7953"
             ],
             [
              0.7777777777777778,
              "#fb9f3a"
             ],
             [
              0.8888888888888888,
              "#fdca26"
             ],
             [
              1,
              "#f0f921"
             ]
            ],
            "type": "surface"
           }
          ],
          "table": [
           {
            "cells": {
             "fill": {
              "color": "#EBF0F8"
             },
             "line": {
              "color": "white"
             }
            },
            "header": {
             "fill": {
              "color": "#C8D4E3"
             },
             "line": {
              "color": "white"
             }
            },
            "type": "table"
           }
          ]
         },
         "layout": {
          "annotationdefaults": {
           "arrowcolor": "#2a3f5f",
           "arrowhead": 0,
           "arrowwidth": 1
          },
          "coloraxis": {
           "colorbar": {
            "outlinewidth": 0,
            "ticks": ""
           }
          },
          "colorscale": {
           "diverging": [
            [
             0,
             "#8e0152"
            ],
            [
             0.1,
             "#c51b7d"
            ],
            [
             0.2,
             "#de77ae"
            ],
            [
             0.3,
             "#f1b6da"
            ],
            [
             0.4,
             "#fde0ef"
            ],
            [
             0.5,
             "#f7f7f7"
            ],
            [
             0.6,
             "#e6f5d0"
            ],
            [
             0.7,
             "#b8e186"
            ],
            [
             0.8,
             "#7fbc41"
            ],
            [
             0.9,
             "#4d9221"
            ],
            [
             1,
             "#276419"
            ]
           ],
           "sequential": [
            [
             0,
             "#0d0887"
            ],
            [
             0.1111111111111111,
             "#46039f"
            ],
            [
             0.2222222222222222,
             "#7201a8"
            ],
            [
             0.3333333333333333,
             "#9c179e"
            ],
            [
             0.4444444444444444,
             "#bd3786"
            ],
            [
             0.5555555555555556,
             "#d8576b"
            ],
            [
             0.6666666666666666,
             "#ed7953"
            ],
            [
             0.7777777777777778,
             "#fb9f3a"
            ],
            [
             0.8888888888888888,
             "#fdca26"
            ],
            [
             1,
             "#f0f921"
            ]
           ],
           "sequentialminus": [
            [
             0,
             "#0d0887"
            ],
            [
             0.1111111111111111,
             "#46039f"
            ],
            [
             0.2222222222222222,
             "#7201a8"
            ],
            [
             0.3333333333333333,
             "#9c179e"
            ],
            [
             0.4444444444444444,
             "#bd3786"
            ],
            [
             0.5555555555555556,
             "#d8576b"
            ],
            [
             0.6666666666666666,
             "#ed7953"
            ],
            [
             0.7777777777777778,
             "#fb9f3a"
            ],
            [
             0.8888888888888888,
             "#fdca26"
            ],
            [
             1,
             "#f0f921"
            ]
           ]
          },
          "colorway": [
           "#636efa",
           "#EF553B",
           "#00cc96",
           "#ab63fa",
           "#FFA15A",
           "#19d3f3",
           "#FF6692",
           "#B6E880",
           "#FF97FF",
           "#FECB52"
          ],
          "font": {
           "color": "#2a3f5f"
          },
          "geo": {
           "bgcolor": "white",
           "lakecolor": "white",
           "landcolor": "#E5ECF6",
           "showlakes": true,
           "showland": true,
           "subunitcolor": "white"
          },
          "hoverlabel": {
           "align": "left"
          },
          "hovermode": "closest",
          "mapbox": {
           "style": "light"
          },
          "paper_bgcolor": "white",
          "plot_bgcolor": "#E5ECF6",
          "polar": {
           "angularaxis": {
            "gridcolor": "white",
            "linecolor": "white",
            "ticks": ""
           },
           "bgcolor": "#E5ECF6",
           "radialaxis": {
            "gridcolor": "white",
            "linecolor": "white",
            "ticks": ""
           }
          },
          "scene": {
           "xaxis": {
            "backgroundcolor": "#E5ECF6",
            "gridcolor": "white",
            "gridwidth": 2,
            "linecolor": "white",
            "showbackground": true,
            "ticks": "",
            "zerolinecolor": "white"
           },
           "yaxis": {
            "backgroundcolor": "#E5ECF6",
            "gridcolor": "white",
            "gridwidth": 2,
            "linecolor": "white",
            "showbackground": true,
            "ticks": "",
            "zerolinecolor": "white"
           },
           "zaxis": {
            "backgroundcolor": "#E5ECF6",
            "gridcolor": "white",
            "gridwidth": 2,
            "linecolor": "white",
            "showbackground": true,
            "ticks": "",
            "zerolinecolor": "white"
           }
          },
          "shapedefaults": {
           "line": {
            "color": "#2a3f5f"
           }
          },
          "ternary": {
           "aaxis": {
            "gridcolor": "white",
            "linecolor": "white",
            "ticks": ""
           },
           "baxis": {
            "gridcolor": "white",
            "linecolor": "white",
            "ticks": ""
           },
           "bgcolor": "#E5ECF6",
           "caxis": {
            "gridcolor": "white",
            "linecolor": "white",
            "ticks": ""
           }
          },
          "title": {
           "x": 0.05
          },
          "xaxis": {
           "automargin": true,
           "gridcolor": "white",
           "linecolor": "white",
           "ticks": "",
           "title": {
            "standoff": 15
           },
           "zerolinecolor": "white",
           "zerolinewidth": 2
          },
          "yaxis": {
           "automargin": true,
           "gridcolor": "white",
           "linecolor": "white",
           "ticks": "",
           "title": {
            "standoff": 15
           },
           "zerolinecolor": "white",
           "zerolinewidth": 2
          }
         }
        },
        "title": {
         "text": "Change in Profitability Over Time for Top 6 Most Profitable Genres"
        }
       }
      },
      "text/html": [
       "<div>\n",
       "        \n",
       "        \n",
       "            <div id=\"4ba6584d-b0e4-4816-be1b-0b0432823197\" class=\"plotly-graph-div\" style=\"height:525px; width:100%;\"></div>\n",
       "            <script type=\"text/javascript\">\n",
       "                require([\"plotly\"], function(Plotly) {\n",
       "                    window.PLOTLYENV=window.PLOTLYENV || {};\n",
       "                    \n",
       "                if (document.getElementById(\"4ba6584d-b0e4-4816-be1b-0b0432823197\")) {\n",
       "                    Plotly.newPlot(\n",
       "                        '4ba6584d-b0e4-4816-be1b-0b0432823197',\n",
       "                        [{\"marker\": {\"color\": \"green\"}, \"name\": \"Animation\", \"type\": \"scatter\", \"x\": [2010, 2011, 2012, 2013, 2014, 2015, 2016, 2017, 2018, 2019], \"y\": [2.999218133333333, 2.8388267305769235, 2.1165579448275857, 2.62794441, 3.2854964872377623, 2.649299806060606, 3.8300636380952384, 3.292976433333333, 4.44187225875, 1.28419396]}, {\"marker\": {\"color\": \"black\"}, \"name\": \"Horror\", \"type\": \"scatter\", \"x\": [2010, 2011, 2012, 2013, 2014, 2015, 2016, 2017, 2018, 2019], \"y\": [2.786323674089069, 1.4078469173469388, 2.5449627285714285, 3.317416229824561, 3.0390987976190473, 2.7397469655172406, 2.72457325, 2.358834413917526, 5.754885933333334, 3.2982853333333333]}, {\"marker\": {\"color\": \"navy\"}, \"name\": \"Family\", \"type\": \"scatter\", \"x\": [2010, 2011, 2012, 2013, 2014, 2015, 2016, 2017, 2018, 2019], \"y\": [2.411979691497976, 2.48551673, 2.098673690362511, 2.1251598370370366, 2.4655463295454547, 2.5261778787878786, 2.9914810193333334, 3.3119865587719297, 2.6302696097435896, 1.723165738235294]}, {\"marker\": {\"color\": \"orangered\"}, \"name\": \"Sci-Fi\", \"type\": \"scatter\", \"x\": [2010, 2011, 2012, 2013, 2014, 2015, 2016, 2017, 2018, 2019], \"y\": [2.678543413986014, 2.587989810714286, 1.6608640853333334, 2.3849340916666666, 3.30672543125, 2.5894478666666667, 2.929905210526316, 1.964719525, 3.7145349533333336, 2.0654499323529416]}, {\"marker\": {\"color\": \"orange\"}, \"name\": \"Adventure\", \"type\": \"scatter\", \"x\": [2010, 2011, 2012, 2013, 2014, 2015, 2016, 2017, 2018, 2019], \"y\": [2.2396649050877193, 2.178123133333333, 2.9978731459459467, 2.1631731894736843, 3.2457153257918554, 2.467320133333333, 2.706357664125, 2.4014537891634493, 2.6654708, 1.663732633333333]}, {\"marker\": {\"color\": \"yellow\"}, \"name\": \"Fantasy\", \"type\": \"scatter\", \"x\": [2010, 2011, 2012, 2013, 2014, 2015, 2016, 2017, 2018, 2019], \"y\": [2.1523156366666667, 2.2575598529411764, 2.079534748884381, 2.451795255, 3.54498168, 2.09709384, 2.706357664125, 3.282517939130435, 2.6494337866666666, 1.8465852049019609]}],\n",
       "                        {\"template\": {\"data\": {\"bar\": [{\"error_x\": {\"color\": \"#2a3f5f\"}, \"error_y\": {\"color\": \"#2a3f5f\"}, \"marker\": {\"line\": {\"color\": \"#E5ECF6\", \"width\": 0.5}}, \"type\": \"bar\"}], \"barpolar\": [{\"marker\": {\"line\": {\"color\": \"#E5ECF6\", \"width\": 0.5}}, \"type\": \"barpolar\"}], \"carpet\": [{\"aaxis\": {\"endlinecolor\": \"#2a3f5f\", \"gridcolor\": \"white\", \"linecolor\": \"white\", \"minorgridcolor\": \"white\", \"startlinecolor\": \"#2a3f5f\"}, \"baxis\": {\"endlinecolor\": \"#2a3f5f\", \"gridcolor\": \"white\", \"linecolor\": \"white\", \"minorgridcolor\": \"white\", \"startlinecolor\": \"#2a3f5f\"}, \"type\": \"carpet\"}], \"choropleth\": [{\"colorbar\": {\"outlinewidth\": 0, \"ticks\": \"\"}, \"type\": \"choropleth\"}], \"contour\": [{\"colorbar\": {\"outlinewidth\": 0, \"ticks\": \"\"}, \"colorscale\": [[0.0, \"#0d0887\"], [0.1111111111111111, \"#46039f\"], [0.2222222222222222, \"#7201a8\"], [0.3333333333333333, \"#9c179e\"], [0.4444444444444444, \"#bd3786\"], [0.5555555555555556, \"#d8576b\"], [0.6666666666666666, \"#ed7953\"], [0.7777777777777778, \"#fb9f3a\"], [0.8888888888888888, \"#fdca26\"], [1.0, \"#f0f921\"]], \"type\": \"contour\"}], \"contourcarpet\": [{\"colorbar\": {\"outlinewidth\": 0, \"ticks\": \"\"}, \"type\": \"contourcarpet\"}], \"heatmap\": [{\"colorbar\": {\"outlinewidth\": 0, \"ticks\": \"\"}, \"colorscale\": [[0.0, \"#0d0887\"], [0.1111111111111111, \"#46039f\"], [0.2222222222222222, \"#7201a8\"], [0.3333333333333333, \"#9c179e\"], [0.4444444444444444, \"#bd3786\"], [0.5555555555555556, \"#d8576b\"], [0.6666666666666666, \"#ed7953\"], [0.7777777777777778, \"#fb9f3a\"], [0.8888888888888888, \"#fdca26\"], [1.0, \"#f0f921\"]], \"type\": \"heatmap\"}], \"heatmapgl\": [{\"colorbar\": {\"outlinewidth\": 0, \"ticks\": \"\"}, \"colorscale\": [[0.0, \"#0d0887\"], [0.1111111111111111, \"#46039f\"], [0.2222222222222222, \"#7201a8\"], [0.3333333333333333, \"#9c179e\"], [0.4444444444444444, \"#bd3786\"], [0.5555555555555556, \"#d8576b\"], [0.6666666666666666, \"#ed7953\"], [0.7777777777777778, \"#fb9f3a\"], [0.8888888888888888, \"#fdca26\"], [1.0, \"#f0f921\"]], \"type\": \"heatmapgl\"}], \"histogram\": [{\"marker\": {\"colorbar\": {\"outlinewidth\": 0, \"ticks\": \"\"}}, \"type\": \"histogram\"}], \"histogram2d\": [{\"colorbar\": {\"outlinewidth\": 0, \"ticks\": \"\"}, \"colorscale\": [[0.0, \"#0d0887\"], [0.1111111111111111, \"#46039f\"], [0.2222222222222222, \"#7201a8\"], [0.3333333333333333, \"#9c179e\"], [0.4444444444444444, \"#bd3786\"], [0.5555555555555556, \"#d8576b\"], [0.6666666666666666, \"#ed7953\"], [0.7777777777777778, \"#fb9f3a\"], [0.8888888888888888, \"#fdca26\"], [1.0, \"#f0f921\"]], \"type\": \"histogram2d\"}], \"histogram2dcontour\": [{\"colorbar\": {\"outlinewidth\": 0, \"ticks\": \"\"}, \"colorscale\": [[0.0, \"#0d0887\"], [0.1111111111111111, \"#46039f\"], [0.2222222222222222, \"#7201a8\"], [0.3333333333333333, \"#9c179e\"], [0.4444444444444444, \"#bd3786\"], [0.5555555555555556, \"#d8576b\"], [0.6666666666666666, \"#ed7953\"], [0.7777777777777778, \"#fb9f3a\"], [0.8888888888888888, \"#fdca26\"], [1.0, \"#f0f921\"]], \"type\": \"histogram2dcontour\"}], \"mesh3d\": [{\"colorbar\": {\"outlinewidth\": 0, \"ticks\": \"\"}, \"type\": \"mesh3d\"}], \"parcoords\": [{\"line\": {\"colorbar\": {\"outlinewidth\": 0, \"ticks\": \"\"}}, \"type\": \"parcoords\"}], \"pie\": [{\"automargin\": true, \"type\": \"pie\"}], \"scatter\": [{\"marker\": {\"colorbar\": {\"outlinewidth\": 0, \"ticks\": \"\"}}, \"type\": \"scatter\"}], \"scatter3d\": [{\"line\": {\"colorbar\": {\"outlinewidth\": 0, \"ticks\": \"\"}}, \"marker\": {\"colorbar\": {\"outlinewidth\": 0, \"ticks\": \"\"}}, \"type\": \"scatter3d\"}], \"scattercarpet\": [{\"marker\": {\"colorbar\": {\"outlinewidth\": 0, \"ticks\": \"\"}}, \"type\": \"scattercarpet\"}], \"scattergeo\": [{\"marker\": {\"colorbar\": {\"outlinewidth\": 0, \"ticks\": \"\"}}, \"type\": \"scattergeo\"}], \"scattergl\": [{\"marker\": {\"colorbar\": {\"outlinewidth\": 0, \"ticks\": \"\"}}, \"type\": \"scattergl\"}], \"scattermapbox\": [{\"marker\": {\"colorbar\": {\"outlinewidth\": 0, \"ticks\": \"\"}}, \"type\": \"scattermapbox\"}], \"scatterpolar\": [{\"marker\": {\"colorbar\": {\"outlinewidth\": 0, \"ticks\": \"\"}}, \"type\": \"scatterpolar\"}], \"scatterpolargl\": [{\"marker\": {\"colorbar\": {\"outlinewidth\": 0, \"ticks\": \"\"}}, \"type\": \"scatterpolargl\"}], \"scatterternary\": [{\"marker\": {\"colorbar\": {\"outlinewidth\": 0, \"ticks\": \"\"}}, \"type\": \"scatterternary\"}], \"surface\": [{\"colorbar\": {\"outlinewidth\": 0, \"ticks\": \"\"}, \"colorscale\": [[0.0, \"#0d0887\"], [0.1111111111111111, \"#46039f\"], [0.2222222222222222, \"#7201a8\"], [0.3333333333333333, \"#9c179e\"], [0.4444444444444444, \"#bd3786\"], [0.5555555555555556, \"#d8576b\"], [0.6666666666666666, \"#ed7953\"], [0.7777777777777778, \"#fb9f3a\"], [0.8888888888888888, \"#fdca26\"], [1.0, \"#f0f921\"]], \"type\": \"surface\"}], \"table\": [{\"cells\": {\"fill\": {\"color\": \"#EBF0F8\"}, \"line\": {\"color\": \"white\"}}, \"header\": {\"fill\": {\"color\": \"#C8D4E3\"}, \"line\": {\"color\": \"white\"}}, \"type\": \"table\"}]}, \"layout\": {\"annotationdefaults\": {\"arrowcolor\": \"#2a3f5f\", \"arrowhead\": 0, \"arrowwidth\": 1}, \"coloraxis\": {\"colorbar\": {\"outlinewidth\": 0, \"ticks\": \"\"}}, \"colorscale\": {\"diverging\": [[0, \"#8e0152\"], [0.1, \"#c51b7d\"], [0.2, \"#de77ae\"], [0.3, \"#f1b6da\"], [0.4, \"#fde0ef\"], [0.5, \"#f7f7f7\"], [0.6, \"#e6f5d0\"], [0.7, \"#b8e186\"], [0.8, \"#7fbc41\"], [0.9, \"#4d9221\"], [1, \"#276419\"]], \"sequential\": [[0.0, \"#0d0887\"], [0.1111111111111111, \"#46039f\"], [0.2222222222222222, \"#7201a8\"], [0.3333333333333333, \"#9c179e\"], [0.4444444444444444, \"#bd3786\"], [0.5555555555555556, \"#d8576b\"], [0.6666666666666666, \"#ed7953\"], [0.7777777777777778, \"#fb9f3a\"], [0.8888888888888888, \"#fdca26\"], [1.0, \"#f0f921\"]], \"sequentialminus\": [[0.0, \"#0d0887\"], [0.1111111111111111, \"#46039f\"], [0.2222222222222222, \"#7201a8\"], [0.3333333333333333, \"#9c179e\"], [0.4444444444444444, \"#bd3786\"], [0.5555555555555556, \"#d8576b\"], [0.6666666666666666, \"#ed7953\"], [0.7777777777777778, \"#fb9f3a\"], [0.8888888888888888, \"#fdca26\"], [1.0, \"#f0f921\"]]}, \"colorway\": [\"#636efa\", \"#EF553B\", \"#00cc96\", \"#ab63fa\", \"#FFA15A\", \"#19d3f3\", \"#FF6692\", \"#B6E880\", \"#FF97FF\", \"#FECB52\"], \"font\": {\"color\": \"#2a3f5f\"}, \"geo\": {\"bgcolor\": \"white\", \"lakecolor\": \"white\", \"landcolor\": \"#E5ECF6\", \"showlakes\": true, \"showland\": true, \"subunitcolor\": \"white\"}, \"hoverlabel\": {\"align\": \"left\"}, \"hovermode\": \"closest\", \"mapbox\": {\"style\": \"light\"}, \"paper_bgcolor\": \"white\", \"plot_bgcolor\": \"#E5ECF6\", \"polar\": {\"angularaxis\": {\"gridcolor\": \"white\", \"linecolor\": \"white\", \"ticks\": \"\"}, \"bgcolor\": \"#E5ECF6\", \"radialaxis\": {\"gridcolor\": \"white\", \"linecolor\": \"white\", \"ticks\": \"\"}}, \"scene\": {\"xaxis\": {\"backgroundcolor\": \"#E5ECF6\", \"gridcolor\": \"white\", \"gridwidth\": 2, \"linecolor\": \"white\", \"showbackground\": true, \"ticks\": \"\", \"zerolinecolor\": \"white\"}, \"yaxis\": {\"backgroundcolor\": \"#E5ECF6\", \"gridcolor\": \"white\", \"gridwidth\": 2, \"linecolor\": \"white\", \"showbackground\": true, \"ticks\": \"\", \"zerolinecolor\": \"white\"}, \"zaxis\": {\"backgroundcolor\": \"#E5ECF6\", \"gridcolor\": \"white\", \"gridwidth\": 2, \"linecolor\": \"white\", \"showbackground\": true, \"ticks\": \"\", \"zerolinecolor\": \"white\"}}, \"shapedefaults\": {\"line\": {\"color\": \"#2a3f5f\"}}, \"ternary\": {\"aaxis\": {\"gridcolor\": \"white\", \"linecolor\": \"white\", \"ticks\": \"\"}, \"baxis\": {\"gridcolor\": \"white\", \"linecolor\": \"white\", \"ticks\": \"\"}, \"bgcolor\": \"#E5ECF6\", \"caxis\": {\"gridcolor\": \"white\", \"linecolor\": \"white\", \"ticks\": \"\"}}, \"title\": {\"x\": 0.05}, \"xaxis\": {\"automargin\": true, \"gridcolor\": \"white\", \"linecolor\": \"white\", \"ticks\": \"\", \"title\": {\"standoff\": 15}, \"zerolinecolor\": \"white\", \"zerolinewidth\": 2}, \"yaxis\": {\"automargin\": true, \"gridcolor\": \"white\", \"linecolor\": \"white\", \"ticks\": \"\", \"title\": {\"standoff\": 15}, \"zerolinecolor\": \"white\", \"zerolinewidth\": 2}}}, \"title\": {\"text\": \"Change in Profitability Over Time for Top 6 Most Profitable Genres\"}},\n",
       "                        {\"responsive\": true}\n",
       "                    ).then(function(){\n",
       "                            \n",
       "var gd = document.getElementById('4ba6584d-b0e4-4816-be1b-0b0432823197');\n",
       "var x = new MutationObserver(function (mutations, observer) {{\n",
       "        var display = window.getComputedStyle(gd).display;\n",
       "        if (!display || display === 'none') {{\n",
       "            console.log([gd, 'removed!']);\n",
       "            Plotly.purge(gd);\n",
       "            observer.disconnect();\n",
       "        }}\n",
       "}});\n",
       "\n",
       "// Listen for the removal of the full notebook cells\n",
       "var notebookContainer = gd.closest('#notebook-container');\n",
       "if (notebookContainer) {{\n",
       "    x.observe(notebookContainer, {childList: true});\n",
       "}}\n",
       "\n",
       "// Listen for the clearing of the current output cell\n",
       "var outputEl = gd.closest('.output');\n",
       "if (outputEl) {{\n",
       "    x.observe(outputEl, {childList: true});\n",
       "}}\n",
       "\n",
       "                        })\n",
       "                };\n",
       "                });\n",
       "            </script>\n",
       "        </div>"
      ]
     },
     "metadata": {},
     "output_type": "display_data"
    }
   ],
   "source": [
    "# time trend for profitability for the top 5 most profitable genresb\n",
    "layout1 = {'title' : 'Change in Profitability Over Time for Top 6 Most Profitable Genres'}\n",
    "trace1 = [animation, horror, family, scifi, adventure, fantasy]\n",
    "figure1 = {'data' : trace1, 'layout' : layout1 }\n",
    "\n",
    "plotly.offline.iplot(figure1)"
   ]
  },
  {
   "cell_type": "markdown",
   "metadata": {},
   "source": [
    "###  General Trends for the Top 6 Most Profitable Genres ###\n",
    "\n",
    "Profitability among all genres has varied wildly over the years. Most recently Animation, Horror, and Science Fiction saw good growth from 2017 - 2018. Adventure also saw growth during this period but it wasn't as great as the previously mentioned genres. However from 2018 - 2019, all these genres saw a significant decrease in profitability. Family and Fantasy films saw a stark decrease from 2017 - 2019. According to an article by Business Insider titled \"The rise and fall of movie theaters — and how the coronavirus pandemic might change them,\" movie theatre admissions fell in 2017. Admissions rose again in 2018, but fell again in 2019. The data collected hear coincide with these larger trends.  "
   ]
  },
  {
   "cell_type": "code",
   "execution_count": 560,
   "metadata": {},
   "outputs": [
    {
     "data": {
      "text/html": [
       "<div>\n",
       "<style scoped>\n",
       "    .dataframe tbody tr th:only-of-type {\n",
       "        vertical-align: middle;\n",
       "    }\n",
       "\n",
       "    .dataframe tbody tr th {\n",
       "        vertical-align: top;\n",
       "    }\n",
       "\n",
       "    .dataframe thead th {\n",
       "        text-align: right;\n",
       "    }\n",
       "</style>\n",
       "<table border=\"1\" class=\"dataframe\">\n",
       "  <thead>\n",
       "    <tr style=\"text-align: right;\">\n",
       "      <th></th>\n",
       "      <th>year</th>\n",
       "      <th>imdb_rating</th>\n",
       "      <th>imdb_numvotes</th>\n",
       "      <th>tmdb_id</th>\n",
       "      <th>imdb_id</th>\n",
       "      <th>title</th>\n",
       "      <th>genre</th>\n",
       "      <th>studio</th>\n",
       "      <th>tmdb_rating</th>\n",
       "      <th>tmdb_num_votes</th>\n",
       "      <th>production_budget</th>\n",
       "      <th>domestic_gross</th>\n",
       "      <th>total_gross</th>\n",
       "      <th>profitability</th>\n",
       "    </tr>\n",
       "  </thead>\n",
       "  <tbody>\n",
       "    <tr>\n",
       "      <th>2063</th>\n",
       "      <td>2018</td>\n",
       "      <td>5.2</td>\n",
       "      <td>33621</td>\n",
       "      <td>460019.0</td>\n",
       "      <td>tt6772950</td>\n",
       "      <td>Truth or Dare</td>\n",
       "      <td>Horror</td>\n",
       "      <td>['Blumhouse Productions', 'Universal Pictures']</td>\n",
       "      <td>6.0</td>\n",
       "      <td>2765.0</td>\n",
       "      <td>3500000</td>\n",
       "      <td>41411015.0</td>\n",
       "      <td>95127344.0</td>\n",
       "      <td>27.179241</td>\n",
       "    </tr>\n",
       "    <tr>\n",
       "      <th>2093</th>\n",
       "      <td>2018</td>\n",
       "      <td>7.6</td>\n",
       "      <td>305031</td>\n",
       "      <td>447332.0</td>\n",
       "      <td>tt6644200</td>\n",
       "      <td>A Quiet Place</td>\n",
       "      <td>Horror</td>\n",
       "      <td>['Sunday Night', 'Platinum Dunes', 'Paramount']</td>\n",
       "      <td>7.3</td>\n",
       "      <td>8562.0</td>\n",
       "      <td>17000000</td>\n",
       "      <td>188024361.0</td>\n",
       "      <td>334522294.0</td>\n",
       "      <td>19.677782</td>\n",
       "    </tr>\n",
       "    <tr>\n",
       "      <th>2091</th>\n",
       "      <td>2018</td>\n",
       "      <td>5.7</td>\n",
       "      <td>42154</td>\n",
       "      <td>406563.0</td>\n",
       "      <td>tt5726086</td>\n",
       "      <td>Insidious: The Last Key</td>\n",
       "      <td>Horror</td>\n",
       "      <td>['Stage 6 Films', 'Blumhouse Productions', 'So...</td>\n",
       "      <td>6.2</td>\n",
       "      <td>1798.0</td>\n",
       "      <td>10000000</td>\n",
       "      <td>67745330.0</td>\n",
       "      <td>167885588.0</td>\n",
       "      <td>16.788559</td>\n",
       "    </tr>\n",
       "    <tr>\n",
       "      <th>2138</th>\n",
       "      <td>2018</td>\n",
       "      <td>5.9</td>\n",
       "      <td>13822</td>\n",
       "      <td>505058.0</td>\n",
       "      <td>tt4761916</td>\n",
       "      <td>Unfriended: Dark Web</td>\n",
       "      <td>Horror</td>\n",
       "      <td>['Universal Pictures', 'Bazelevs Production', ...</td>\n",
       "      <td>6.2</td>\n",
       "      <td>760.0</td>\n",
       "      <td>1000000</td>\n",
       "      <td>8866745.0</td>\n",
       "      <td>16434588.0</td>\n",
       "      <td>16.434588</td>\n",
       "    </tr>\n",
       "    <tr>\n",
       "      <th>2053</th>\n",
       "      <td>2018</td>\n",
       "      <td>7.2</td>\n",
       "      <td>74</td>\n",
       "      <td>605488.0</td>\n",
       "      <td>tt6840904</td>\n",
       "      <td>Monster</td>\n",
       "      <td>Horror</td>\n",
       "      <td>[]</td>\n",
       "      <td>1.0</td>\n",
       "      <td>1.0</td>\n",
       "      <td>5000000</td>\n",
       "      <td>34469210.0</td>\n",
       "      <td>64240813.0</td>\n",
       "      <td>12.848163</td>\n",
       "    </tr>\n",
       "  </tbody>\n",
       "</table>\n",
       "</div>"
      ],
      "text/plain": [
       "      year  imdb_rating  imdb_numvotes   tmdb_id    imdb_id  \\\n",
       "2063  2018          5.2          33621  460019.0  tt6772950   \n",
       "2093  2018          7.6         305031  447332.0  tt6644200   \n",
       "2091  2018          5.7          42154  406563.0  tt5726086   \n",
       "2138  2018          5.9          13822  505058.0  tt4761916   \n",
       "2053  2018          7.2             74  605488.0  tt6840904   \n",
       "\n",
       "                        title   genre  \\\n",
       "2063            Truth or Dare  Horror   \n",
       "2093            A Quiet Place  Horror   \n",
       "2091  Insidious: The Last Key  Horror   \n",
       "2138     Unfriended: Dark Web  Horror   \n",
       "2053                  Monster  Horror   \n",
       "\n",
       "                                                 studio  tmdb_rating  \\\n",
       "2063    ['Blumhouse Productions', 'Universal Pictures']          6.0   \n",
       "2093    ['Sunday Night', 'Platinum Dunes', 'Paramount']          7.3   \n",
       "2091  ['Stage 6 Films', 'Blumhouse Productions', 'So...          6.2   \n",
       "2138  ['Universal Pictures', 'Bazelevs Production', ...          6.2   \n",
       "2053                                                 []          1.0   \n",
       "\n",
       "      tmdb_num_votes  production_budget  domestic_gross  total_gross  \\\n",
       "2063          2765.0            3500000      41411015.0   95127344.0   \n",
       "2093          8562.0           17000000     188024361.0  334522294.0   \n",
       "2091          1798.0           10000000      67745330.0  167885588.0   \n",
       "2138           760.0            1000000       8866745.0   16434588.0   \n",
       "2053             1.0            5000000      34469210.0   64240813.0   \n",
       "\n",
       "      profitability  \n",
       "2063      27.179241  \n",
       "2093      19.677782  \n",
       "2091      16.788559  \n",
       "2138      16.434588  \n",
       "2053      12.848163  "
      ]
     },
     "execution_count": 560,
     "metadata": {},
     "output_type": "execute_result"
    }
   ],
   "source": [
    "movies_explode[(movies_explode.year == 2018) & (movies_explode.genre == 'Horror')].sort_values('profitability', \n",
    "                                                                                                ascending = False).head()"
   ]
  },
  {
   "cell_type": "markdown",
   "metadata": {},
   "source": [
    "2018 was a great year for horror movies. Of the 24 Horror movies of 2018 contained in our data set, 15 of those had a profitability index greater than 5. Of those 15, 7 of those had a profitability index of 10 or greater! In 2019, horror movie became the most profitable genre of the Top 6 Most Profitable Genres."
   ]
  },
  {
   "cell_type": "code",
   "execution_count": 550,
   "metadata": {
    "scrolled": false
   },
   "outputs": [
    {
     "data": {
      "application/vnd.plotly.v1+json": {
       "config": {
        "linkText": "Export to plot.ly",
        "plotlyServerURL": "https://plot.ly",
        "showLink": false
       },
       "data": [
        {
         "marker": {
          "color": "red"
         },
         "name": "Comedy",
         "type": "scatter",
         "x": [
          2010,
          2011,
          2012,
          2013,
          2014,
          2015,
          2016,
          2017,
          2018,
          2019
         ],
         "y": [
          1.831872783333333,
          1.968919475,
          1.9737424,
          2.7667804,
          2.43388614,
          2.09709384,
          2.7425050588235296,
          2.71138424,
          2.708203007142857,
          1.1221349975
         ]
        },
        {
         "marker": {
          "color": "peru"
         },
         "name": "Mystery",
         "type": "scatter",
         "x": [
          2010,
          2011,
          2012,
          2013,
          2014,
          2015,
          2016,
          2017,
          2018,
          2019
         ],
         "y": [
          1.456277577777778,
          2.768293661965812,
          1.222526323076923,
          2.399305275,
          1.3313409999999999,
          1.4967173295454546,
          3.3047295500000002,
          3.9440406,
          1.7368676519927535,
          1.326249214102564
         ]
        },
        {
         "marker": {
          "color": "blue"
         },
         "name": "Action",
         "type": "scatter",
         "x": [
          2010,
          2011,
          2012,
          2013,
          2014,
          2015,
          2016,
          2017,
          2018,
          2019
         ],
         "y": [
          1.7093647,
          1.9453066977272724,
          2.1165579448275857,
          2.1868818196721307,
          2.6255662919642857,
          2.245489593877551,
          2.3202634857142863,
          2.18648403,
          2.07203032,
          1.7120926137254902
         ]
        },
        {
         "marker": {
          "color": "maroon"
         },
         "name": "Romance",
         "type": "scatter",
         "x": [
          2010,
          2011,
          2012,
          2013,
          2014,
          2015,
          2016,
          2017,
          2018,
          2019
         ],
         "y": [
          2.0532793789855073,
          1.50818925,
          2.0541273,
          1.4410512307692307,
          1.716463325,
          2.442555343589744,
          1.9457036666666667,
          1.4331182222222223,
          4.678876,
          3.4023863406593406
         ]
        },
        {
         "marker": {
          "color": "darkolivegreen"
         },
         "name": "Thriller",
         "type": "scatter",
         "x": [
          2010,
          2011,
          2012,
          2013,
          2014,
          2015,
          2016,
          2017,
          2018,
          2019
         ],
         "y": [
          1.9234959523809525,
          1.554199033333333,
          1.8336331111111108,
          1.5226750857142857,
          1.361383,
          1.7269676285714286,
          1.6570742888888892,
          1.9564454166666667,
          1.8582627666666667,
          2.346049708333333
         ]
        },
        {
         "marker": {
          "color": "fuchsia"
         },
         "name": "Drama",
         "type": "scatter",
         "x": [
          2010,
          2011,
          2012,
          2013,
          2014,
          2015,
          2016,
          2017,
          2018,
          2019
         ],
         "y": [
          1.638845,
          1.80738155,
          1.4490740204081634,
          1.484169730882353,
          1.3858175444444445,
          1.7324565384615385,
          1.9310461724137933,
          1.4019319351351351,
          1.7808865249999999,
          1.0338317948717948
         ]
        }
       ],
       "layout": {
        "template": {
         "data": {
          "bar": [
           {
            "error_x": {
             "color": "#2a3f5f"
            },
            "error_y": {
             "color": "#2a3f5f"
            },
            "marker": {
             "line": {
              "color": "#E5ECF6",
              "width": 0.5
             }
            },
            "type": "bar"
           }
          ],
          "barpolar": [
           {
            "marker": {
             "line": {
              "color": "#E5ECF6",
              "width": 0.5
             }
            },
            "type": "barpolar"
           }
          ],
          "carpet": [
           {
            "aaxis": {
             "endlinecolor": "#2a3f5f",
             "gridcolor": "white",
             "linecolor": "white",
             "minorgridcolor": "white",
             "startlinecolor": "#2a3f5f"
            },
            "baxis": {
             "endlinecolor": "#2a3f5f",
             "gridcolor": "white",
             "linecolor": "white",
             "minorgridcolor": "white",
             "startlinecolor": "#2a3f5f"
            },
            "type": "carpet"
           }
          ],
          "choropleth": [
           {
            "colorbar": {
             "outlinewidth": 0,
             "ticks": ""
            },
            "type": "choropleth"
           }
          ],
          "contour": [
           {
            "colorbar": {
             "outlinewidth": 0,
             "ticks": ""
            },
            "colorscale": [
             [
              0,
              "#0d0887"
             ],
             [
              0.1111111111111111,
              "#46039f"
             ],
             [
              0.2222222222222222,
              "#7201a8"
             ],
             [
              0.3333333333333333,
              "#9c179e"
             ],
             [
              0.4444444444444444,
              "#bd3786"
             ],
             [
              0.5555555555555556,
              "#d8576b"
             ],
             [
              0.6666666666666666,
              "#ed7953"
             ],
             [
              0.7777777777777778,
              "#fb9f3a"
             ],
             [
              0.8888888888888888,
              "#fdca26"
             ],
             [
              1,
              "#f0f921"
             ]
            ],
            "type": "contour"
           }
          ],
          "contourcarpet": [
           {
            "colorbar": {
             "outlinewidth": 0,
             "ticks": ""
            },
            "type": "contourcarpet"
           }
          ],
          "heatmap": [
           {
            "colorbar": {
             "outlinewidth": 0,
             "ticks": ""
            },
            "colorscale": [
             [
              0,
              "#0d0887"
             ],
             [
              0.1111111111111111,
              "#46039f"
             ],
             [
              0.2222222222222222,
              "#7201a8"
             ],
             [
              0.3333333333333333,
              "#9c179e"
             ],
             [
              0.4444444444444444,
              "#bd3786"
             ],
             [
              0.5555555555555556,
              "#d8576b"
             ],
             [
              0.6666666666666666,
              "#ed7953"
             ],
             [
              0.7777777777777778,
              "#fb9f3a"
             ],
             [
              0.8888888888888888,
              "#fdca26"
             ],
             [
              1,
              "#f0f921"
             ]
            ],
            "type": "heatmap"
           }
          ],
          "heatmapgl": [
           {
            "colorbar": {
             "outlinewidth": 0,
             "ticks": ""
            },
            "colorscale": [
             [
              0,
              "#0d0887"
             ],
             [
              0.1111111111111111,
              "#46039f"
             ],
             [
              0.2222222222222222,
              "#7201a8"
             ],
             [
              0.3333333333333333,
              "#9c179e"
             ],
             [
              0.4444444444444444,
              "#bd3786"
             ],
             [
              0.5555555555555556,
              "#d8576b"
             ],
             [
              0.6666666666666666,
              "#ed7953"
             ],
             [
              0.7777777777777778,
              "#fb9f3a"
             ],
             [
              0.8888888888888888,
              "#fdca26"
             ],
             [
              1,
              "#f0f921"
             ]
            ],
            "type": "heatmapgl"
           }
          ],
          "histogram": [
           {
            "marker": {
             "colorbar": {
              "outlinewidth": 0,
              "ticks": ""
             }
            },
            "type": "histogram"
           }
          ],
          "histogram2d": [
           {
            "colorbar": {
             "outlinewidth": 0,
             "ticks": ""
            },
            "colorscale": [
             [
              0,
              "#0d0887"
             ],
             [
              0.1111111111111111,
              "#46039f"
             ],
             [
              0.2222222222222222,
              "#7201a8"
             ],
             [
              0.3333333333333333,
              "#9c179e"
             ],
             [
              0.4444444444444444,
              "#bd3786"
             ],
             [
              0.5555555555555556,
              "#d8576b"
             ],
             [
              0.6666666666666666,
              "#ed7953"
             ],
             [
              0.7777777777777778,
              "#fb9f3a"
             ],
             [
              0.8888888888888888,
              "#fdca26"
             ],
             [
              1,
              "#f0f921"
             ]
            ],
            "type": "histogram2d"
           }
          ],
          "histogram2dcontour": [
           {
            "colorbar": {
             "outlinewidth": 0,
             "ticks": ""
            },
            "colorscale": [
             [
              0,
              "#0d0887"
             ],
             [
              0.1111111111111111,
              "#46039f"
             ],
             [
              0.2222222222222222,
              "#7201a8"
             ],
             [
              0.3333333333333333,
              "#9c179e"
             ],
             [
              0.4444444444444444,
              "#bd3786"
             ],
             [
              0.5555555555555556,
              "#d8576b"
             ],
             [
              0.6666666666666666,
              "#ed7953"
             ],
             [
              0.7777777777777778,
              "#fb9f3a"
             ],
             [
              0.8888888888888888,
              "#fdca26"
             ],
             [
              1,
              "#f0f921"
             ]
            ],
            "type": "histogram2dcontour"
           }
          ],
          "mesh3d": [
           {
            "colorbar": {
             "outlinewidth": 0,
             "ticks": ""
            },
            "type": "mesh3d"
           }
          ],
          "parcoords": [
           {
            "line": {
             "colorbar": {
              "outlinewidth": 0,
              "ticks": ""
             }
            },
            "type": "parcoords"
           }
          ],
          "pie": [
           {
            "automargin": true,
            "type": "pie"
           }
          ],
          "scatter": [
           {
            "marker": {
             "colorbar": {
              "outlinewidth": 0,
              "ticks": ""
             }
            },
            "type": "scatter"
           }
          ],
          "scatter3d": [
           {
            "line": {
             "colorbar": {
              "outlinewidth": 0,
              "ticks": ""
             }
            },
            "marker": {
             "colorbar": {
              "outlinewidth": 0,
              "ticks": ""
             }
            },
            "type": "scatter3d"
           }
          ],
          "scattercarpet": [
           {
            "marker": {
             "colorbar": {
              "outlinewidth": 0,
              "ticks": ""
             }
            },
            "type": "scattercarpet"
           }
          ],
          "scattergeo": [
           {
            "marker": {
             "colorbar": {
              "outlinewidth": 0,
              "ticks": ""
             }
            },
            "type": "scattergeo"
           }
          ],
          "scattergl": [
           {
            "marker": {
             "colorbar": {
              "outlinewidth": 0,
              "ticks": ""
             }
            },
            "type": "scattergl"
           }
          ],
          "scattermapbox": [
           {
            "marker": {
             "colorbar": {
              "outlinewidth": 0,
              "ticks": ""
             }
            },
            "type": "scattermapbox"
           }
          ],
          "scatterpolar": [
           {
            "marker": {
             "colorbar": {
              "outlinewidth": 0,
              "ticks": ""
             }
            },
            "type": "scatterpolar"
           }
          ],
          "scatterpolargl": [
           {
            "marker": {
             "colorbar": {
              "outlinewidth": 0,
              "ticks": ""
             }
            },
            "type": "scatterpolargl"
           }
          ],
          "scatterternary": [
           {
            "marker": {
             "colorbar": {
              "outlinewidth": 0,
              "ticks": ""
             }
            },
            "type": "scatterternary"
           }
          ],
          "surface": [
           {
            "colorbar": {
             "outlinewidth": 0,
             "ticks": ""
            },
            "colorscale": [
             [
              0,
              "#0d0887"
             ],
             [
              0.1111111111111111,
              "#46039f"
             ],
             [
              0.2222222222222222,
              "#7201a8"
             ],
             [
              0.3333333333333333,
              "#9c179e"
             ],
             [
              0.4444444444444444,
              "#bd3786"
             ],
             [
              0.5555555555555556,
              "#d8576b"
             ],
             [
              0.6666666666666666,
              "#ed7953"
             ],
             [
              0.7777777777777778,
              "#fb9f3a"
             ],
             [
              0.8888888888888888,
              "#fdca26"
             ],
             [
              1,
              "#f0f921"
             ]
            ],
            "type": "surface"
           }
          ],
          "table": [
           {
            "cells": {
             "fill": {
              "color": "#EBF0F8"
             },
             "line": {
              "color": "white"
             }
            },
            "header": {
             "fill": {
              "color": "#C8D4E3"
             },
             "line": {
              "color": "white"
             }
            },
            "type": "table"
           }
          ]
         },
         "layout": {
          "annotationdefaults": {
           "arrowcolor": "#2a3f5f",
           "arrowhead": 0,
           "arrowwidth": 1
          },
          "coloraxis": {
           "colorbar": {
            "outlinewidth": 0,
            "ticks": ""
           }
          },
          "colorscale": {
           "diverging": [
            [
             0,
             "#8e0152"
            ],
            [
             0.1,
             "#c51b7d"
            ],
            [
             0.2,
             "#de77ae"
            ],
            [
             0.3,
             "#f1b6da"
            ],
            [
             0.4,
             "#fde0ef"
            ],
            [
             0.5,
             "#f7f7f7"
            ],
            [
             0.6,
             "#e6f5d0"
            ],
            [
             0.7,
             "#b8e186"
            ],
            [
             0.8,
             "#7fbc41"
            ],
            [
             0.9,
             "#4d9221"
            ],
            [
             1,
             "#276419"
            ]
           ],
           "sequential": [
            [
             0,
             "#0d0887"
            ],
            [
             0.1111111111111111,
             "#46039f"
            ],
            [
             0.2222222222222222,
             "#7201a8"
            ],
            [
             0.3333333333333333,
             "#9c179e"
            ],
            [
             0.4444444444444444,
             "#bd3786"
            ],
            [
             0.5555555555555556,
             "#d8576b"
            ],
            [
             0.6666666666666666,
             "#ed7953"
            ],
            [
             0.7777777777777778,
             "#fb9f3a"
            ],
            [
             0.8888888888888888,
             "#fdca26"
            ],
            [
             1,
             "#f0f921"
            ]
           ],
           "sequentialminus": [
            [
             0,
             "#0d0887"
            ],
            [
             0.1111111111111111,
             "#46039f"
            ],
            [
             0.2222222222222222,
             "#7201a8"
            ],
            [
             0.3333333333333333,
             "#9c179e"
            ],
            [
             0.4444444444444444,
             "#bd3786"
            ],
            [
             0.5555555555555556,
             "#d8576b"
            ],
            [
             0.6666666666666666,
             "#ed7953"
            ],
            [
             0.7777777777777778,
             "#fb9f3a"
            ],
            [
             0.8888888888888888,
             "#fdca26"
            ],
            [
             1,
             "#f0f921"
            ]
           ]
          },
          "colorway": [
           "#636efa",
           "#EF553B",
           "#00cc96",
           "#ab63fa",
           "#FFA15A",
           "#19d3f3",
           "#FF6692",
           "#B6E880",
           "#FF97FF",
           "#FECB52"
          ],
          "font": {
           "color": "#2a3f5f"
          },
          "geo": {
           "bgcolor": "white",
           "lakecolor": "white",
           "landcolor": "#E5ECF6",
           "showlakes": true,
           "showland": true,
           "subunitcolor": "white"
          },
          "hoverlabel": {
           "align": "left"
          },
          "hovermode": "closest",
          "mapbox": {
           "style": "light"
          },
          "paper_bgcolor": "white",
          "plot_bgcolor": "#E5ECF6",
          "polar": {
           "angularaxis": {
            "gridcolor": "white",
            "linecolor": "white",
            "ticks": ""
           },
           "bgcolor": "#E5ECF6",
           "radialaxis": {
            "gridcolor": "white",
            "linecolor": "white",
            "ticks": ""
           }
          },
          "scene": {
           "xaxis": {
            "backgroundcolor": "#E5ECF6",
            "gridcolor": "white",
            "gridwidth": 2,
            "linecolor": "white",
            "showbackground": true,
            "ticks": "",
            "zerolinecolor": "white"
           },
           "yaxis": {
            "backgroundcolor": "#E5ECF6",
            "gridcolor": "white",
            "gridwidth": 2,
            "linecolor": "white",
            "showbackground": true,
            "ticks": "",
            "zerolinecolor": "white"
           },
           "zaxis": {
            "backgroundcolor": "#E5ECF6",
            "gridcolor": "white",
            "gridwidth": 2,
            "linecolor": "white",
            "showbackground": true,
            "ticks": "",
            "zerolinecolor": "white"
           }
          },
          "shapedefaults": {
           "line": {
            "color": "#2a3f5f"
           }
          },
          "ternary": {
           "aaxis": {
            "gridcolor": "white",
            "linecolor": "white",
            "ticks": ""
           },
           "baxis": {
            "gridcolor": "white",
            "linecolor": "white",
            "ticks": ""
           },
           "bgcolor": "#E5ECF6",
           "caxis": {
            "gridcolor": "white",
            "linecolor": "white",
            "ticks": ""
           }
          },
          "title": {
           "x": 0.05
          },
          "xaxis": {
           "automargin": true,
           "gridcolor": "white",
           "linecolor": "white",
           "ticks": "",
           "title": {
            "standoff": 15
           },
           "zerolinecolor": "white",
           "zerolinewidth": 2
          },
          "yaxis": {
           "automargin": true,
           "gridcolor": "white",
           "linecolor": "white",
           "ticks": "",
           "title": {
            "standoff": 15
           },
           "zerolinecolor": "white",
           "zerolinewidth": 2
          }
         }
        },
        "title": {
         "text": "Change in Profitability Over Time for Middle 6 Profitable Genres"
        }
       }
      },
      "text/html": [
       "<div>\n",
       "        \n",
       "        \n",
       "            <div id=\"16327953-731b-4204-aa89-82432cbf1035\" class=\"plotly-graph-div\" style=\"height:525px; width:100%;\"></div>\n",
       "            <script type=\"text/javascript\">\n",
       "                require([\"plotly\"], function(Plotly) {\n",
       "                    window.PLOTLYENV=window.PLOTLYENV || {};\n",
       "                    \n",
       "                if (document.getElementById(\"16327953-731b-4204-aa89-82432cbf1035\")) {\n",
       "                    Plotly.newPlot(\n",
       "                        '16327953-731b-4204-aa89-82432cbf1035',\n",
       "                        [{\"marker\": {\"color\": \"red\"}, \"name\": \"Comedy\", \"type\": \"scatter\", \"x\": [2010, 2011, 2012, 2013, 2014, 2015, 2016, 2017, 2018, 2019], \"y\": [1.831872783333333, 1.968919475, 1.9737424, 2.7667804, 2.43388614, 2.09709384, 2.7425050588235296, 2.71138424, 2.708203007142857, 1.1221349975]}, {\"marker\": {\"color\": \"peru\"}, \"name\": \"Mystery\", \"type\": \"scatter\", \"x\": [2010, 2011, 2012, 2013, 2014, 2015, 2016, 2017, 2018, 2019], \"y\": [1.456277577777778, 2.768293661965812, 1.222526323076923, 2.399305275, 1.3313409999999999, 1.4967173295454546, 3.3047295500000002, 3.9440406, 1.7368676519927535, 1.326249214102564]}, {\"marker\": {\"color\": \"blue\"}, \"name\": \"Action\", \"type\": \"scatter\", \"x\": [2010, 2011, 2012, 2013, 2014, 2015, 2016, 2017, 2018, 2019], \"y\": [1.7093647, 1.9453066977272724, 2.1165579448275857, 2.1868818196721307, 2.6255662919642857, 2.245489593877551, 2.3202634857142863, 2.18648403, 2.07203032, 1.7120926137254902]}, {\"marker\": {\"color\": \"maroon\"}, \"name\": \"Romance\", \"type\": \"scatter\", \"x\": [2010, 2011, 2012, 2013, 2014, 2015, 2016, 2017, 2018, 2019], \"y\": [2.0532793789855073, 1.50818925, 2.0541273, 1.4410512307692307, 1.716463325, 2.442555343589744, 1.9457036666666667, 1.4331182222222223, 4.678876, 3.4023863406593406]}, {\"marker\": {\"color\": \"darkolivegreen\"}, \"name\": \"Thriller\", \"type\": \"scatter\", \"x\": [2010, 2011, 2012, 2013, 2014, 2015, 2016, 2017, 2018, 2019], \"y\": [1.9234959523809525, 1.554199033333333, 1.8336331111111108, 1.5226750857142857, 1.361383, 1.7269676285714286, 1.6570742888888892, 1.9564454166666667, 1.8582627666666667, 2.346049708333333]}, {\"marker\": {\"color\": \"fuchsia\"}, \"name\": \"Drama\", \"type\": \"scatter\", \"x\": [2010, 2011, 2012, 2013, 2014, 2015, 2016, 2017, 2018, 2019], \"y\": [1.638845, 1.80738155, 1.4490740204081634, 1.484169730882353, 1.3858175444444445, 1.7324565384615385, 1.9310461724137933, 1.4019319351351351, 1.7808865249999999, 1.0338317948717948]}],\n",
       "                        {\"template\": {\"data\": {\"bar\": [{\"error_x\": {\"color\": \"#2a3f5f\"}, \"error_y\": {\"color\": \"#2a3f5f\"}, \"marker\": {\"line\": {\"color\": \"#E5ECF6\", \"width\": 0.5}}, \"type\": \"bar\"}], \"barpolar\": [{\"marker\": {\"line\": {\"color\": \"#E5ECF6\", \"width\": 0.5}}, \"type\": \"barpolar\"}], \"carpet\": [{\"aaxis\": {\"endlinecolor\": \"#2a3f5f\", \"gridcolor\": \"white\", \"linecolor\": \"white\", \"minorgridcolor\": \"white\", \"startlinecolor\": \"#2a3f5f\"}, \"baxis\": {\"endlinecolor\": \"#2a3f5f\", \"gridcolor\": \"white\", \"linecolor\": \"white\", \"minorgridcolor\": \"white\", \"startlinecolor\": \"#2a3f5f\"}, \"type\": \"carpet\"}], \"choropleth\": [{\"colorbar\": {\"outlinewidth\": 0, \"ticks\": \"\"}, \"type\": \"choropleth\"}], \"contour\": [{\"colorbar\": {\"outlinewidth\": 0, \"ticks\": \"\"}, \"colorscale\": [[0.0, \"#0d0887\"], [0.1111111111111111, \"#46039f\"], [0.2222222222222222, \"#7201a8\"], [0.3333333333333333, \"#9c179e\"], [0.4444444444444444, \"#bd3786\"], [0.5555555555555556, \"#d8576b\"], [0.6666666666666666, \"#ed7953\"], [0.7777777777777778, \"#fb9f3a\"], [0.8888888888888888, \"#fdca26\"], [1.0, \"#f0f921\"]], \"type\": \"contour\"}], \"contourcarpet\": [{\"colorbar\": {\"outlinewidth\": 0, \"ticks\": \"\"}, \"type\": \"contourcarpet\"}], \"heatmap\": [{\"colorbar\": {\"outlinewidth\": 0, \"ticks\": \"\"}, \"colorscale\": [[0.0, \"#0d0887\"], [0.1111111111111111, \"#46039f\"], [0.2222222222222222, \"#7201a8\"], [0.3333333333333333, \"#9c179e\"], [0.4444444444444444, \"#bd3786\"], [0.5555555555555556, \"#d8576b\"], [0.6666666666666666, \"#ed7953\"], [0.7777777777777778, \"#fb9f3a\"], [0.8888888888888888, \"#fdca26\"], [1.0, \"#f0f921\"]], \"type\": \"heatmap\"}], \"heatmapgl\": [{\"colorbar\": {\"outlinewidth\": 0, \"ticks\": \"\"}, \"colorscale\": [[0.0, \"#0d0887\"], [0.1111111111111111, \"#46039f\"], [0.2222222222222222, \"#7201a8\"], [0.3333333333333333, \"#9c179e\"], [0.4444444444444444, \"#bd3786\"], [0.5555555555555556, \"#d8576b\"], [0.6666666666666666, \"#ed7953\"], [0.7777777777777778, \"#fb9f3a\"], [0.8888888888888888, \"#fdca26\"], [1.0, \"#f0f921\"]], \"type\": \"heatmapgl\"}], \"histogram\": [{\"marker\": {\"colorbar\": {\"outlinewidth\": 0, \"ticks\": \"\"}}, \"type\": \"histogram\"}], \"histogram2d\": [{\"colorbar\": {\"outlinewidth\": 0, \"ticks\": \"\"}, \"colorscale\": [[0.0, \"#0d0887\"], [0.1111111111111111, \"#46039f\"], [0.2222222222222222, \"#7201a8\"], [0.3333333333333333, \"#9c179e\"], [0.4444444444444444, \"#bd3786\"], [0.5555555555555556, \"#d8576b\"], [0.6666666666666666, \"#ed7953\"], [0.7777777777777778, \"#fb9f3a\"], [0.8888888888888888, \"#fdca26\"], [1.0, \"#f0f921\"]], \"type\": \"histogram2d\"}], \"histogram2dcontour\": [{\"colorbar\": {\"outlinewidth\": 0, \"ticks\": \"\"}, \"colorscale\": [[0.0, \"#0d0887\"], [0.1111111111111111, \"#46039f\"], [0.2222222222222222, \"#7201a8\"], [0.3333333333333333, \"#9c179e\"], [0.4444444444444444, \"#bd3786\"], [0.5555555555555556, \"#d8576b\"], [0.6666666666666666, \"#ed7953\"], [0.7777777777777778, \"#fb9f3a\"], [0.8888888888888888, \"#fdca26\"], [1.0, \"#f0f921\"]], \"type\": \"histogram2dcontour\"}], \"mesh3d\": [{\"colorbar\": {\"outlinewidth\": 0, \"ticks\": \"\"}, \"type\": \"mesh3d\"}], \"parcoords\": [{\"line\": {\"colorbar\": {\"outlinewidth\": 0, \"ticks\": \"\"}}, \"type\": \"parcoords\"}], \"pie\": [{\"automargin\": true, \"type\": \"pie\"}], \"scatter\": [{\"marker\": {\"colorbar\": {\"outlinewidth\": 0, \"ticks\": \"\"}}, \"type\": \"scatter\"}], \"scatter3d\": [{\"line\": {\"colorbar\": {\"outlinewidth\": 0, \"ticks\": \"\"}}, \"marker\": {\"colorbar\": {\"outlinewidth\": 0, \"ticks\": \"\"}}, \"type\": \"scatter3d\"}], \"scattercarpet\": [{\"marker\": {\"colorbar\": {\"outlinewidth\": 0, \"ticks\": \"\"}}, \"type\": \"scattercarpet\"}], \"scattergeo\": [{\"marker\": {\"colorbar\": {\"outlinewidth\": 0, \"ticks\": \"\"}}, \"type\": \"scattergeo\"}], \"scattergl\": [{\"marker\": {\"colorbar\": {\"outlinewidth\": 0, \"ticks\": \"\"}}, \"type\": \"scattergl\"}], \"scattermapbox\": [{\"marker\": {\"colorbar\": {\"outlinewidth\": 0, \"ticks\": \"\"}}, \"type\": \"scattermapbox\"}], \"scatterpolar\": [{\"marker\": {\"colorbar\": {\"outlinewidth\": 0, \"ticks\": \"\"}}, \"type\": \"scatterpolar\"}], \"scatterpolargl\": [{\"marker\": {\"colorbar\": {\"outlinewidth\": 0, \"ticks\": \"\"}}, \"type\": \"scatterpolargl\"}], \"scatterternary\": [{\"marker\": {\"colorbar\": {\"outlinewidth\": 0, \"ticks\": \"\"}}, \"type\": \"scatterternary\"}], \"surface\": [{\"colorbar\": {\"outlinewidth\": 0, \"ticks\": \"\"}, \"colorscale\": [[0.0, \"#0d0887\"], [0.1111111111111111, \"#46039f\"], [0.2222222222222222, \"#7201a8\"], [0.3333333333333333, \"#9c179e\"], [0.4444444444444444, \"#bd3786\"], [0.5555555555555556, \"#d8576b\"], [0.6666666666666666, \"#ed7953\"], [0.7777777777777778, \"#fb9f3a\"], [0.8888888888888888, \"#fdca26\"], [1.0, \"#f0f921\"]], \"type\": \"surface\"}], \"table\": [{\"cells\": {\"fill\": {\"color\": \"#EBF0F8\"}, \"line\": {\"color\": \"white\"}}, \"header\": {\"fill\": {\"color\": \"#C8D4E3\"}, \"line\": {\"color\": \"white\"}}, \"type\": \"table\"}]}, \"layout\": {\"annotationdefaults\": {\"arrowcolor\": \"#2a3f5f\", \"arrowhead\": 0, \"arrowwidth\": 1}, \"coloraxis\": {\"colorbar\": {\"outlinewidth\": 0, \"ticks\": \"\"}}, \"colorscale\": {\"diverging\": [[0, \"#8e0152\"], [0.1, \"#c51b7d\"], [0.2, \"#de77ae\"], [0.3, \"#f1b6da\"], [0.4, \"#fde0ef\"], [0.5, \"#f7f7f7\"], [0.6, \"#e6f5d0\"], [0.7, \"#b8e186\"], [0.8, \"#7fbc41\"], [0.9, \"#4d9221\"], [1, \"#276419\"]], \"sequential\": [[0.0, \"#0d0887\"], [0.1111111111111111, \"#46039f\"], [0.2222222222222222, \"#7201a8\"], [0.3333333333333333, \"#9c179e\"], [0.4444444444444444, \"#bd3786\"], [0.5555555555555556, \"#d8576b\"], [0.6666666666666666, \"#ed7953\"], [0.7777777777777778, \"#fb9f3a\"], [0.8888888888888888, \"#fdca26\"], [1.0, \"#f0f921\"]], \"sequentialminus\": [[0.0, \"#0d0887\"], [0.1111111111111111, \"#46039f\"], [0.2222222222222222, \"#7201a8\"], [0.3333333333333333, \"#9c179e\"], [0.4444444444444444, \"#bd3786\"], [0.5555555555555556, \"#d8576b\"], [0.6666666666666666, \"#ed7953\"], [0.7777777777777778, \"#fb9f3a\"], [0.8888888888888888, \"#fdca26\"], [1.0, \"#f0f921\"]]}, \"colorway\": [\"#636efa\", \"#EF553B\", \"#00cc96\", \"#ab63fa\", \"#FFA15A\", \"#19d3f3\", \"#FF6692\", \"#B6E880\", \"#FF97FF\", \"#FECB52\"], \"font\": {\"color\": \"#2a3f5f\"}, \"geo\": {\"bgcolor\": \"white\", \"lakecolor\": \"white\", \"landcolor\": \"#E5ECF6\", \"showlakes\": true, \"showland\": true, \"subunitcolor\": \"white\"}, \"hoverlabel\": {\"align\": \"left\"}, \"hovermode\": \"closest\", \"mapbox\": {\"style\": \"light\"}, \"paper_bgcolor\": \"white\", \"plot_bgcolor\": \"#E5ECF6\", \"polar\": {\"angularaxis\": {\"gridcolor\": \"white\", \"linecolor\": \"white\", \"ticks\": \"\"}, \"bgcolor\": \"#E5ECF6\", \"radialaxis\": {\"gridcolor\": \"white\", \"linecolor\": \"white\", \"ticks\": \"\"}}, \"scene\": {\"xaxis\": {\"backgroundcolor\": \"#E5ECF6\", \"gridcolor\": \"white\", \"gridwidth\": 2, \"linecolor\": \"white\", \"showbackground\": true, \"ticks\": \"\", \"zerolinecolor\": \"white\"}, \"yaxis\": {\"backgroundcolor\": \"#E5ECF6\", \"gridcolor\": \"white\", \"gridwidth\": 2, \"linecolor\": \"white\", \"showbackground\": true, \"ticks\": \"\", \"zerolinecolor\": \"white\"}, \"zaxis\": {\"backgroundcolor\": \"#E5ECF6\", \"gridcolor\": \"white\", \"gridwidth\": 2, \"linecolor\": \"white\", \"showbackground\": true, \"ticks\": \"\", \"zerolinecolor\": \"white\"}}, \"shapedefaults\": {\"line\": {\"color\": \"#2a3f5f\"}}, \"ternary\": {\"aaxis\": {\"gridcolor\": \"white\", \"linecolor\": \"white\", \"ticks\": \"\"}, \"baxis\": {\"gridcolor\": \"white\", \"linecolor\": \"white\", \"ticks\": \"\"}, \"bgcolor\": \"#E5ECF6\", \"caxis\": {\"gridcolor\": \"white\", \"linecolor\": \"white\", \"ticks\": \"\"}}, \"title\": {\"x\": 0.05}, \"xaxis\": {\"automargin\": true, \"gridcolor\": \"white\", \"linecolor\": \"white\", \"ticks\": \"\", \"title\": {\"standoff\": 15}, \"zerolinecolor\": \"white\", \"zerolinewidth\": 2}, \"yaxis\": {\"automargin\": true, \"gridcolor\": \"white\", \"linecolor\": \"white\", \"ticks\": \"\", \"title\": {\"standoff\": 15}, \"zerolinecolor\": \"white\", \"zerolinewidth\": 2}}}, \"title\": {\"text\": \"Change in Profitability Over Time for Middle 6 Profitable Genres\"}},\n",
       "                        {\"responsive\": true}\n",
       "                    ).then(function(){\n",
       "                            \n",
       "var gd = document.getElementById('16327953-731b-4204-aa89-82432cbf1035');\n",
       "var x = new MutationObserver(function (mutations, observer) {{\n",
       "        var display = window.getComputedStyle(gd).display;\n",
       "        if (!display || display === 'none') {{\n",
       "            console.log([gd, 'removed!']);\n",
       "            Plotly.purge(gd);\n",
       "            observer.disconnect();\n",
       "        }}\n",
       "}});\n",
       "\n",
       "// Listen for the removal of the full notebook cells\n",
       "var notebookContainer = gd.closest('#notebook-container');\n",
       "if (notebookContainer) {{\n",
       "    x.observe(notebookContainer, {childList: true});\n",
       "}}\n",
       "\n",
       "// Listen for the clearing of the current output cell\n",
       "var outputEl = gd.closest('.output');\n",
       "if (outputEl) {{\n",
       "    x.observe(outputEl, {childList: true});\n",
       "}}\n",
       "\n",
       "                        })\n",
       "                };\n",
       "                });\n",
       "            </script>\n",
       "        </div>"
      ]
     },
     "metadata": {},
     "output_type": "display_data"
    }
   ],
   "source": [
    "# time trend for profitability for the next 5 most profitable genresb\n",
    "layout2 = {'title' : 'Change in Profitability Over Time for Middle 6 Profitable Genres'}\n",
    "trace2 = [comedy, mystery, action, romance, thriller, drama]\n",
    "figure2 = {'data' : trace2, 'layout' : layout2 }\n",
    "\n",
    "plotly.offline.iplot(figure2)"
   ]
  },
  {
   "cell_type": "markdown",
   "metadata": {},
   "source": [
    "### General Trends for Middle 6 Profitable Genres ###\n",
    "\n",
    "The trends for the Middle 6 Profitable Genres coincide with the trends seen in with the Top 6 Most Profitable Genres. Comedy, Mystery, and Action movies saw decreases in profitability from 2017 - 2019. Romance and Drama movies saw an increase from 2017 - 2018, and a decrease from 2018 - 2019, as expected given the larger trends in the movie industry. Interestingly, profitability in Thriller movies has seen a steady increase in profitibility since 2004."
   ]
  },
  {
   "cell_type": "code",
   "execution_count": 564,
   "metadata": {
    "scrolled": false
   },
   "outputs": [
    {
     "data": {
      "text/html": [
       "<div>\n",
       "<style scoped>\n",
       "    .dataframe tbody tr th:only-of-type {\n",
       "        vertical-align: middle;\n",
       "    }\n",
       "\n",
       "    .dataframe tbody tr th {\n",
       "        vertical-align: top;\n",
       "    }\n",
       "\n",
       "    .dataframe thead th {\n",
       "        text-align: right;\n",
       "    }\n",
       "</style>\n",
       "<table border=\"1\" class=\"dataframe\">\n",
       "  <thead>\n",
       "    <tr style=\"text-align: right;\">\n",
       "      <th></th>\n",
       "      <th>year</th>\n",
       "      <th>imdb_rating</th>\n",
       "      <th>imdb_numvotes</th>\n",
       "      <th>tmdb_id</th>\n",
       "      <th>imdb_id</th>\n",
       "      <th>title</th>\n",
       "      <th>genre</th>\n",
       "      <th>studio</th>\n",
       "      <th>tmdb_rating</th>\n",
       "      <th>tmdb_num_votes</th>\n",
       "      <th>production_budget</th>\n",
       "      <th>domestic_gross</th>\n",
       "      <th>total_gross</th>\n",
       "      <th>profitability</th>\n",
       "    </tr>\n",
       "  </thead>\n",
       "  <tbody>\n",
       "    <tr>\n",
       "      <th>2037</th>\n",
       "      <td>2018</td>\n",
       "      <td>5.8</td>\n",
       "      <td>244</td>\n",
       "      <td>484427.0</td>\n",
       "      <td>tt8161226</td>\n",
       "      <td>All You Need Is Love</td>\n",
       "      <td>Romance</td>\n",
       "      <td>['NL Film en TV', 'Talpa Fictie', 'RTL Enterta...</td>\n",
       "      <td>7.0</td>\n",
       "      <td>6.0</td>\n",
       "      <td>300000</td>\n",
       "      <td>0.0</td>\n",
       "      <td>3565259.0</td>\n",
       "      <td>11.884197</td>\n",
       "    </tr>\n",
       "    <tr>\n",
       "      <th>2056</th>\n",
       "      <td>2018</td>\n",
       "      <td>6.1</td>\n",
       "      <td>18728</td>\n",
       "      <td>502682.0</td>\n",
       "      <td>tt6857166</td>\n",
       "      <td>Book Club</td>\n",
       "      <td>Romance</td>\n",
       "      <td>['June Pictures']</td>\n",
       "      <td>6.1</td>\n",
       "      <td>471.0</td>\n",
       "      <td>10000000</td>\n",
       "      <td>68566296.0</td>\n",
       "      <td>91113683.0</td>\n",
       "      <td>9.111368</td>\n",
       "    </tr>\n",
       "    <tr>\n",
       "      <th>2136</th>\n",
       "      <td>2018</td>\n",
       "      <td>7.0</td>\n",
       "      <td>96617</td>\n",
       "      <td>455207.0</td>\n",
       "      <td>tt3104988</td>\n",
       "      <td>Crazy Rich Asians</td>\n",
       "      <td>Romance</td>\n",
       "      <td>['Color Force', 'Ivanhoe Pictures', 'Warner Br...</td>\n",
       "      <td>7.1</td>\n",
       "      <td>2289.0</td>\n",
       "      <td>30000000</td>\n",
       "      <td>174532921.0</td>\n",
       "      <td>238099711.0</td>\n",
       "      <td>7.936657</td>\n",
       "    </tr>\n",
       "    <tr>\n",
       "      <th>2009</th>\n",
       "      <td>2018</td>\n",
       "      <td>5.9</td>\n",
       "      <td>25607</td>\n",
       "      <td>454619.0</td>\n",
       "      <td>tt1563742</td>\n",
       "      <td>Overboard</td>\n",
       "      <td>Romance</td>\n",
       "      <td>['Pantelion Film', '3Pas Studios', 'Metro-Gold...</td>\n",
       "      <td>6.6</td>\n",
       "      <td>871.0</td>\n",
       "      <td>12000000</td>\n",
       "      <td>50316123.0</td>\n",
       "      <td>85369830.0</td>\n",
       "      <td>7.114152</td>\n",
       "    </tr>\n",
       "    <tr>\n",
       "      <th>2132</th>\n",
       "      <td>2018</td>\n",
       "      <td>4.5</td>\n",
       "      <td>43893</td>\n",
       "      <td>337167.0</td>\n",
       "      <td>tt4477536</td>\n",
       "      <td>Fifty Shades Freed</td>\n",
       "      <td>Romance</td>\n",
       "      <td>['Universal Pictures', 'Perfect World Pictures']</td>\n",
       "      <td>6.5</td>\n",
       "      <td>5310.0</td>\n",
       "      <td>55000000</td>\n",
       "      <td>100407760.0</td>\n",
       "      <td>371350619.0</td>\n",
       "      <td>6.751829</td>\n",
       "    </tr>\n",
       "  </tbody>\n",
       "</table>\n",
       "</div>"
      ],
      "text/plain": [
       "      year  imdb_rating  imdb_numvotes   tmdb_id    imdb_id  \\\n",
       "2037  2018          5.8            244  484427.0  tt8161226   \n",
       "2056  2018          6.1          18728  502682.0  tt6857166   \n",
       "2136  2018          7.0          96617  455207.0  tt3104988   \n",
       "2009  2018          5.9          25607  454619.0  tt1563742   \n",
       "2132  2018          4.5          43893  337167.0  tt4477536   \n",
       "\n",
       "                     title    genre  \\\n",
       "2037  All You Need Is Love  Romance   \n",
       "2056             Book Club  Romance   \n",
       "2136     Crazy Rich Asians  Romance   \n",
       "2009             Overboard  Romance   \n",
       "2132    Fifty Shades Freed  Romance   \n",
       "\n",
       "                                                 studio  tmdb_rating  \\\n",
       "2037  ['NL Film en TV', 'Talpa Fictie', 'RTL Enterta...          7.0   \n",
       "2056                                  ['June Pictures']          6.1   \n",
       "2136  ['Color Force', 'Ivanhoe Pictures', 'Warner Br...          7.1   \n",
       "2009  ['Pantelion Film', '3Pas Studios', 'Metro-Gold...          6.6   \n",
       "2132   ['Universal Pictures', 'Perfect World Pictures']          6.5   \n",
       "\n",
       "      tmdb_num_votes  production_budget  domestic_gross  total_gross  \\\n",
       "2037             6.0             300000             0.0    3565259.0   \n",
       "2056           471.0           10000000      68566296.0   91113683.0   \n",
       "2136          2289.0           30000000     174532921.0  238099711.0   \n",
       "2009           871.0           12000000      50316123.0   85369830.0   \n",
       "2132          5310.0           55000000     100407760.0  371350619.0   \n",
       "\n",
       "      profitability  \n",
       "2037      11.884197  \n",
       "2056       9.111368  \n",
       "2136       7.936657  \n",
       "2009       7.114152  \n",
       "2132       6.751829  "
      ]
     },
     "execution_count": 564,
     "metadata": {},
     "output_type": "execute_result"
    }
   ],
   "source": [
    "movies_explode[(movies_explode.year == 2018) & (movies_explode.genre == 'Romance')].sort_values('profitability', \n",
    "                                                                                                ascending = False).head()"
   ]
  },
  {
   "cell_type": "markdown",
   "metadata": {},
   "source": [
    "2018 was also a really good year of Romance movies. Of the 15 Romance movies of 2018 in our data set, 12 of those had a higher profitability index than the second largest median profitability of genres in the same category. "
   ]
  },
  {
   "cell_type": "code",
   "execution_count": 551,
   "metadata": {
    "scrolled": false
   },
   "outputs": [
    {
     "data": {
      "application/vnd.plotly.v1+json": {
       "config": {
        "linkText": "Export to plot.ly",
        "plotlyServerURL": "https://plot.ly",
        "showLink": false
       },
       "data": [
        {
         "marker": {
          "color": "purple"
         },
         "name": "Crime",
         "type": "scatter",
         "x": [
          2010,
          2011,
          2012,
          2013,
          2014,
          2015,
          2016,
          2017,
          2018,
          2019
         ],
         "y": [
          1.2873806,
          1.80738155,
          1.8336331111111108,
          1.41212825,
          1.54872124,
          0.8560396666666666,
          1.320949725,
          2.9947041825,
          1.5719399601449275,
          1.0433193166666668
         ]
        },
        {
         "marker": {
          "color": "cyan"
         },
         "name": "War",
         "type": "scatter",
         "x": [
          2010,
          2011,
          2012,
          2013,
          2014,
          2015,
          2016,
          2017,
          2018,
          2019
         ],
         "y": [
          0.6787783777777778,
          0.2120158267888307,
          3.871561785919541,
          3.8675007666666654,
          2.572379344711538,
          1.1859582505102042,
          0.9247321181940701,
          1.6154386025641025,
          0.7374200659259259,
          0.26845415384615384
         ]
        },
        {
         "marker": {
          "color": "brown"
         },
         "name": "Documentary",
         "type": "scatter",
         "x": [
          2010,
          2011,
          2012,
          2013,
          2014,
          2015,
          2016,
          2017,
          2018,
          2019
         ],
         "y": [
          2.1935053,
          1.49166775,
          1.4777606666666667,
          0.84153764,
          0.6585137200956939,
          1.1130186470588237,
          1.5869449452380953,
          1.52238776,
          1.5560363333333334,
          1.638845
         ]
        },
        {
         "marker": {
          "color": "chartreuse"
         },
         "name": "History",
         "type": "scatter",
         "x": [
          2010,
          2011,
          2012,
          2013,
          2014,
          2015,
          2016,
          2017,
          2018,
          2019
         ],
         "y": [
          0.63629644,
          1.0146325454545455,
          1.7162085180623974,
          1.6182921000000001,
          1.7990732857142857,
          1.557609625,
          0.81700618,
          1.2558083416666668,
          1.8113932016666667,
          0.6148254599999999
         ]
        },
        {
         "marker": {
          "color": "mediumpurple"
         },
         "name": "Music",
         "type": "scatter",
         "x": [
          2010,
          2011,
          2012,
          2013,
          2014,
          2015,
          2016,
          2017,
          2018,
          2019
         ],
         "y": [
          0.5556454736842106,
          3.1008651194444443,
          1.1330150545454545,
          0.83616885,
          0.10804640000000001,
          1.5667931666666666,
          1.615028536,
          1.47109,
          8.454025214285714,
          1.598740880487805
         ]
        },
        {
         "marker": {
          "color": "goldenrod"
         },
         "name": "Western",
         "type": "scatter",
         "x": [
          2010,
          2011,
          2012,
          2013,
          2014,
          2015,
          2016,
          2017,
          2018,
          2019
         ],
         "y": [
          0.5847447234042553,
          0.5910205652173913,
          3.2957740573076926,
          0.5802320181818181,
          0.2697764850543478,
          1.3114202580645158,
          2.4689302,
          null,
          0.19899528070175437,
          1.0721289846153843
         ]
        }
       ],
       "layout": {
        "template": {
         "data": {
          "bar": [
           {
            "error_x": {
             "color": "#2a3f5f"
            },
            "error_y": {
             "color": "#2a3f5f"
            },
            "marker": {
             "line": {
              "color": "#E5ECF6",
              "width": 0.5
             }
            },
            "type": "bar"
           }
          ],
          "barpolar": [
           {
            "marker": {
             "line": {
              "color": "#E5ECF6",
              "width": 0.5
             }
            },
            "type": "barpolar"
           }
          ],
          "carpet": [
           {
            "aaxis": {
             "endlinecolor": "#2a3f5f",
             "gridcolor": "white",
             "linecolor": "white",
             "minorgridcolor": "white",
             "startlinecolor": "#2a3f5f"
            },
            "baxis": {
             "endlinecolor": "#2a3f5f",
             "gridcolor": "white",
             "linecolor": "white",
             "minorgridcolor": "white",
             "startlinecolor": "#2a3f5f"
            },
            "type": "carpet"
           }
          ],
          "choropleth": [
           {
            "colorbar": {
             "outlinewidth": 0,
             "ticks": ""
            },
            "type": "choropleth"
           }
          ],
          "contour": [
           {
            "colorbar": {
             "outlinewidth": 0,
             "ticks": ""
            },
            "colorscale": [
             [
              0,
              "#0d0887"
             ],
             [
              0.1111111111111111,
              "#46039f"
             ],
             [
              0.2222222222222222,
              "#7201a8"
             ],
             [
              0.3333333333333333,
              "#9c179e"
             ],
             [
              0.4444444444444444,
              "#bd3786"
             ],
             [
              0.5555555555555556,
              "#d8576b"
             ],
             [
              0.6666666666666666,
              "#ed7953"
             ],
             [
              0.7777777777777778,
              "#fb9f3a"
             ],
             [
              0.8888888888888888,
              "#fdca26"
             ],
             [
              1,
              "#f0f921"
             ]
            ],
            "type": "contour"
           }
          ],
          "contourcarpet": [
           {
            "colorbar": {
             "outlinewidth": 0,
             "ticks": ""
            },
            "type": "contourcarpet"
           }
          ],
          "heatmap": [
           {
            "colorbar": {
             "outlinewidth": 0,
             "ticks": ""
            },
            "colorscale": [
             [
              0,
              "#0d0887"
             ],
             [
              0.1111111111111111,
              "#46039f"
             ],
             [
              0.2222222222222222,
              "#7201a8"
             ],
             [
              0.3333333333333333,
              "#9c179e"
             ],
             [
              0.4444444444444444,
              "#bd3786"
             ],
             [
              0.5555555555555556,
              "#d8576b"
             ],
             [
              0.6666666666666666,
              "#ed7953"
             ],
             [
              0.7777777777777778,
              "#fb9f3a"
             ],
             [
              0.8888888888888888,
              "#fdca26"
             ],
             [
              1,
              "#f0f921"
             ]
            ],
            "type": "heatmap"
           }
          ],
          "heatmapgl": [
           {
            "colorbar": {
             "outlinewidth": 0,
             "ticks": ""
            },
            "colorscale": [
             [
              0,
              "#0d0887"
             ],
             [
              0.1111111111111111,
              "#46039f"
             ],
             [
              0.2222222222222222,
              "#7201a8"
             ],
             [
              0.3333333333333333,
              "#9c179e"
             ],
             [
              0.4444444444444444,
              "#bd3786"
             ],
             [
              0.5555555555555556,
              "#d8576b"
             ],
             [
              0.6666666666666666,
              "#ed7953"
             ],
             [
              0.7777777777777778,
              "#fb9f3a"
             ],
             [
              0.8888888888888888,
              "#fdca26"
             ],
             [
              1,
              "#f0f921"
             ]
            ],
            "type": "heatmapgl"
           }
          ],
          "histogram": [
           {
            "marker": {
             "colorbar": {
              "outlinewidth": 0,
              "ticks": ""
             }
            },
            "type": "histogram"
           }
          ],
          "histogram2d": [
           {
            "colorbar": {
             "outlinewidth": 0,
             "ticks": ""
            },
            "colorscale": [
             [
              0,
              "#0d0887"
             ],
             [
              0.1111111111111111,
              "#46039f"
             ],
             [
              0.2222222222222222,
              "#7201a8"
             ],
             [
              0.3333333333333333,
              "#9c179e"
             ],
             [
              0.4444444444444444,
              "#bd3786"
             ],
             [
              0.5555555555555556,
              "#d8576b"
             ],
             [
              0.6666666666666666,
              "#ed7953"
             ],
             [
              0.7777777777777778,
              "#fb9f3a"
             ],
             [
              0.8888888888888888,
              "#fdca26"
             ],
             [
              1,
              "#f0f921"
             ]
            ],
            "type": "histogram2d"
           }
          ],
          "histogram2dcontour": [
           {
            "colorbar": {
             "outlinewidth": 0,
             "ticks": ""
            },
            "colorscale": [
             [
              0,
              "#0d0887"
             ],
             [
              0.1111111111111111,
              "#46039f"
             ],
             [
              0.2222222222222222,
              "#7201a8"
             ],
             [
              0.3333333333333333,
              "#9c179e"
             ],
             [
              0.4444444444444444,
              "#bd3786"
             ],
             [
              0.5555555555555556,
              "#d8576b"
             ],
             [
              0.6666666666666666,
              "#ed7953"
             ],
             [
              0.7777777777777778,
              "#fb9f3a"
             ],
             [
              0.8888888888888888,
              "#fdca26"
             ],
             [
              1,
              "#f0f921"
             ]
            ],
            "type": "histogram2dcontour"
           }
          ],
          "mesh3d": [
           {
            "colorbar": {
             "outlinewidth": 0,
             "ticks": ""
            },
            "type": "mesh3d"
           }
          ],
          "parcoords": [
           {
            "line": {
             "colorbar": {
              "outlinewidth": 0,
              "ticks": ""
             }
            },
            "type": "parcoords"
           }
          ],
          "pie": [
           {
            "automargin": true,
            "type": "pie"
           }
          ],
          "scatter": [
           {
            "marker": {
             "colorbar": {
              "outlinewidth": 0,
              "ticks": ""
             }
            },
            "type": "scatter"
           }
          ],
          "scatter3d": [
           {
            "line": {
             "colorbar": {
              "outlinewidth": 0,
              "ticks": ""
             }
            },
            "marker": {
             "colorbar": {
              "outlinewidth": 0,
              "ticks": ""
             }
            },
            "type": "scatter3d"
           }
          ],
          "scattercarpet": [
           {
            "marker": {
             "colorbar": {
              "outlinewidth": 0,
              "ticks": ""
             }
            },
            "type": "scattercarpet"
           }
          ],
          "scattergeo": [
           {
            "marker": {
             "colorbar": {
              "outlinewidth": 0,
              "ticks": ""
             }
            },
            "type": "scattergeo"
           }
          ],
          "scattergl": [
           {
            "marker": {
             "colorbar": {
              "outlinewidth": 0,
              "ticks": ""
             }
            },
            "type": "scattergl"
           }
          ],
          "scattermapbox": [
           {
            "marker": {
             "colorbar": {
              "outlinewidth": 0,
              "ticks": ""
             }
            },
            "type": "scattermapbox"
           }
          ],
          "scatterpolar": [
           {
            "marker": {
             "colorbar": {
              "outlinewidth": 0,
              "ticks": ""
             }
            },
            "type": "scatterpolar"
           }
          ],
          "scatterpolargl": [
           {
            "marker": {
             "colorbar": {
              "outlinewidth": 0,
              "ticks": ""
             }
            },
            "type": "scatterpolargl"
           }
          ],
          "scatterternary": [
           {
            "marker": {
             "colorbar": {
              "outlinewidth": 0,
              "ticks": ""
             }
            },
            "type": "scatterternary"
           }
          ],
          "surface": [
           {
            "colorbar": {
             "outlinewidth": 0,
             "ticks": ""
            },
            "colorscale": [
             [
              0,
              "#0d0887"
             ],
             [
              0.1111111111111111,
              "#46039f"
             ],
             [
              0.2222222222222222,
              "#7201a8"
             ],
             [
              0.3333333333333333,
              "#9c179e"
             ],
             [
              0.4444444444444444,
              "#bd3786"
             ],
             [
              0.5555555555555556,
              "#d8576b"
             ],
             [
              0.6666666666666666,
              "#ed7953"
             ],
             [
              0.7777777777777778,
              "#fb9f3a"
             ],
             [
              0.8888888888888888,
              "#fdca26"
             ],
             [
              1,
              "#f0f921"
             ]
            ],
            "type": "surface"
           }
          ],
          "table": [
           {
            "cells": {
             "fill": {
              "color": "#EBF0F8"
             },
             "line": {
              "color": "white"
             }
            },
            "header": {
             "fill": {
              "color": "#C8D4E3"
             },
             "line": {
              "color": "white"
             }
            },
            "type": "table"
           }
          ]
         },
         "layout": {
          "annotationdefaults": {
           "arrowcolor": "#2a3f5f",
           "arrowhead": 0,
           "arrowwidth": 1
          },
          "coloraxis": {
           "colorbar": {
            "outlinewidth": 0,
            "ticks": ""
           }
          },
          "colorscale": {
           "diverging": [
            [
             0,
             "#8e0152"
            ],
            [
             0.1,
             "#c51b7d"
            ],
            [
             0.2,
             "#de77ae"
            ],
            [
             0.3,
             "#f1b6da"
            ],
            [
             0.4,
             "#fde0ef"
            ],
            [
             0.5,
             "#f7f7f7"
            ],
            [
             0.6,
             "#e6f5d0"
            ],
            [
             0.7,
             "#b8e186"
            ],
            [
             0.8,
             "#7fbc41"
            ],
            [
             0.9,
             "#4d9221"
            ],
            [
             1,
             "#276419"
            ]
           ],
           "sequential": [
            [
             0,
             "#0d0887"
            ],
            [
             0.1111111111111111,
             "#46039f"
            ],
            [
             0.2222222222222222,
             "#7201a8"
            ],
            [
             0.3333333333333333,
             "#9c179e"
            ],
            [
             0.4444444444444444,
             "#bd3786"
            ],
            [
             0.5555555555555556,
             "#d8576b"
            ],
            [
             0.6666666666666666,
             "#ed7953"
            ],
            [
             0.7777777777777778,
             "#fb9f3a"
            ],
            [
             0.8888888888888888,
             "#fdca26"
            ],
            [
             1,
             "#f0f921"
            ]
           ],
           "sequentialminus": [
            [
             0,
             "#0d0887"
            ],
            [
             0.1111111111111111,
             "#46039f"
            ],
            [
             0.2222222222222222,
             "#7201a8"
            ],
            [
             0.3333333333333333,
             "#9c179e"
            ],
            [
             0.4444444444444444,
             "#bd3786"
            ],
            [
             0.5555555555555556,
             "#d8576b"
            ],
            [
             0.6666666666666666,
             "#ed7953"
            ],
            [
             0.7777777777777778,
             "#fb9f3a"
            ],
            [
             0.8888888888888888,
             "#fdca26"
            ],
            [
             1,
             "#f0f921"
            ]
           ]
          },
          "colorway": [
           "#636efa",
           "#EF553B",
           "#00cc96",
           "#ab63fa",
           "#FFA15A",
           "#19d3f3",
           "#FF6692",
           "#B6E880",
           "#FF97FF",
           "#FECB52"
          ],
          "font": {
           "color": "#2a3f5f"
          },
          "geo": {
           "bgcolor": "white",
           "lakecolor": "white",
           "landcolor": "#E5ECF6",
           "showlakes": true,
           "showland": true,
           "subunitcolor": "white"
          },
          "hoverlabel": {
           "align": "left"
          },
          "hovermode": "closest",
          "mapbox": {
           "style": "light"
          },
          "paper_bgcolor": "white",
          "plot_bgcolor": "#E5ECF6",
          "polar": {
           "angularaxis": {
            "gridcolor": "white",
            "linecolor": "white",
            "ticks": ""
           },
           "bgcolor": "#E5ECF6",
           "radialaxis": {
            "gridcolor": "white",
            "linecolor": "white",
            "ticks": ""
           }
          },
          "scene": {
           "xaxis": {
            "backgroundcolor": "#E5ECF6",
            "gridcolor": "white",
            "gridwidth": 2,
            "linecolor": "white",
            "showbackground": true,
            "ticks": "",
            "zerolinecolor": "white"
           },
           "yaxis": {
            "backgroundcolor": "#E5ECF6",
            "gridcolor": "white",
            "gridwidth": 2,
            "linecolor": "white",
            "showbackground": true,
            "ticks": "",
            "zerolinecolor": "white"
           },
           "zaxis": {
            "backgroundcolor": "#E5ECF6",
            "gridcolor": "white",
            "gridwidth": 2,
            "linecolor": "white",
            "showbackground": true,
            "ticks": "",
            "zerolinecolor": "white"
           }
          },
          "shapedefaults": {
           "line": {
            "color": "#2a3f5f"
           }
          },
          "ternary": {
           "aaxis": {
            "gridcolor": "white",
            "linecolor": "white",
            "ticks": ""
           },
           "baxis": {
            "gridcolor": "white",
            "linecolor": "white",
            "ticks": ""
           },
           "bgcolor": "#E5ECF6",
           "caxis": {
            "gridcolor": "white",
            "linecolor": "white",
            "ticks": ""
           }
          },
          "title": {
           "x": 0.05
          },
          "xaxis": {
           "automargin": true,
           "gridcolor": "white",
           "linecolor": "white",
           "ticks": "",
           "title": {
            "standoff": 15
           },
           "zerolinecolor": "white",
           "zerolinewidth": 2
          },
          "yaxis": {
           "automargin": true,
           "gridcolor": "white",
           "linecolor": "white",
           "ticks": "",
           "title": {
            "standoff": 15
           },
           "zerolinecolor": "white",
           "zerolinewidth": 2
          }
         }
        },
        "title": {
         "text": "Change in Profitability Over Time for 6 Least Profitable Genres"
        }
       }
      },
      "text/html": [
       "<div>\n",
       "        \n",
       "        \n",
       "            <div id=\"3fb7a948-b55b-4425-80df-28d0d2f687a8\" class=\"plotly-graph-div\" style=\"height:525px; width:100%;\"></div>\n",
       "            <script type=\"text/javascript\">\n",
       "                require([\"plotly\"], function(Plotly) {\n",
       "                    window.PLOTLYENV=window.PLOTLYENV || {};\n",
       "                    \n",
       "                if (document.getElementById(\"3fb7a948-b55b-4425-80df-28d0d2f687a8\")) {\n",
       "                    Plotly.newPlot(\n",
       "                        '3fb7a948-b55b-4425-80df-28d0d2f687a8',\n",
       "                        [{\"marker\": {\"color\": \"purple\"}, \"name\": \"Crime\", \"type\": \"scatter\", \"x\": [2010, 2011, 2012, 2013, 2014, 2015, 2016, 2017, 2018, 2019], \"y\": [1.2873806, 1.80738155, 1.8336331111111108, 1.41212825, 1.54872124, 0.8560396666666666, 1.320949725, 2.9947041825, 1.5719399601449275, 1.0433193166666668]}, {\"marker\": {\"color\": \"cyan\"}, \"name\": \"War\", \"type\": \"scatter\", \"x\": [2010, 2011, 2012, 2013, 2014, 2015, 2016, 2017, 2018, 2019], \"y\": [0.6787783777777778, 0.2120158267888307, 3.871561785919541, 3.8675007666666654, 2.572379344711538, 1.1859582505102042, 0.9247321181940701, 1.6154386025641025, 0.7374200659259259, 0.26845415384615384]}, {\"marker\": {\"color\": \"brown\"}, \"name\": \"Documentary\", \"type\": \"scatter\", \"x\": [2010, 2011, 2012, 2013, 2014, 2015, 2016, 2017, 2018, 2019], \"y\": [2.1935053, 1.49166775, 1.4777606666666667, 0.84153764, 0.6585137200956939, 1.1130186470588237, 1.5869449452380953, 1.52238776, 1.5560363333333334, 1.638845]}, {\"marker\": {\"color\": \"chartreuse\"}, \"name\": \"History\", \"type\": \"scatter\", \"x\": [2010, 2011, 2012, 2013, 2014, 2015, 2016, 2017, 2018, 2019], \"y\": [0.63629644, 1.0146325454545455, 1.7162085180623974, 1.6182921000000001, 1.7990732857142857, 1.557609625, 0.81700618, 1.2558083416666668, 1.8113932016666667, 0.6148254599999999]}, {\"marker\": {\"color\": \"mediumpurple\"}, \"name\": \"Music\", \"type\": \"scatter\", \"x\": [2010, 2011, 2012, 2013, 2014, 2015, 2016, 2017, 2018, 2019], \"y\": [0.5556454736842106, 3.1008651194444443, 1.1330150545454545, 0.83616885, 0.10804640000000001, 1.5667931666666666, 1.615028536, 1.47109, 8.454025214285714, 1.598740880487805]}, {\"marker\": {\"color\": \"goldenrod\"}, \"name\": \"Western\", \"type\": \"scatter\", \"x\": [2010, 2011, 2012, 2013, 2014, 2015, 2016, 2017, 2018, 2019], \"y\": [0.5847447234042553, 0.5910205652173913, 3.2957740573076926, 0.5802320181818181, 0.2697764850543478, 1.3114202580645158, 2.4689302, null, 0.19899528070175437, 1.0721289846153843]}],\n",
       "                        {\"template\": {\"data\": {\"bar\": [{\"error_x\": {\"color\": \"#2a3f5f\"}, \"error_y\": {\"color\": \"#2a3f5f\"}, \"marker\": {\"line\": {\"color\": \"#E5ECF6\", \"width\": 0.5}}, \"type\": \"bar\"}], \"barpolar\": [{\"marker\": {\"line\": {\"color\": \"#E5ECF6\", \"width\": 0.5}}, \"type\": \"barpolar\"}], \"carpet\": [{\"aaxis\": {\"endlinecolor\": \"#2a3f5f\", \"gridcolor\": \"white\", \"linecolor\": \"white\", \"minorgridcolor\": \"white\", \"startlinecolor\": \"#2a3f5f\"}, \"baxis\": {\"endlinecolor\": \"#2a3f5f\", \"gridcolor\": \"white\", \"linecolor\": \"white\", \"minorgridcolor\": \"white\", \"startlinecolor\": \"#2a3f5f\"}, \"type\": \"carpet\"}], \"choropleth\": [{\"colorbar\": {\"outlinewidth\": 0, \"ticks\": \"\"}, \"type\": \"choropleth\"}], \"contour\": [{\"colorbar\": {\"outlinewidth\": 0, \"ticks\": \"\"}, \"colorscale\": [[0.0, \"#0d0887\"], [0.1111111111111111, \"#46039f\"], [0.2222222222222222, \"#7201a8\"], [0.3333333333333333, \"#9c179e\"], [0.4444444444444444, \"#bd3786\"], [0.5555555555555556, \"#d8576b\"], [0.6666666666666666, \"#ed7953\"], [0.7777777777777778, \"#fb9f3a\"], [0.8888888888888888, \"#fdca26\"], [1.0, \"#f0f921\"]], \"type\": \"contour\"}], \"contourcarpet\": [{\"colorbar\": {\"outlinewidth\": 0, \"ticks\": \"\"}, \"type\": \"contourcarpet\"}], \"heatmap\": [{\"colorbar\": {\"outlinewidth\": 0, \"ticks\": \"\"}, \"colorscale\": [[0.0, \"#0d0887\"], [0.1111111111111111, \"#46039f\"], [0.2222222222222222, \"#7201a8\"], [0.3333333333333333, \"#9c179e\"], [0.4444444444444444, \"#bd3786\"], [0.5555555555555556, \"#d8576b\"], [0.6666666666666666, \"#ed7953\"], [0.7777777777777778, \"#fb9f3a\"], [0.8888888888888888, \"#fdca26\"], [1.0, \"#f0f921\"]], \"type\": \"heatmap\"}], \"heatmapgl\": [{\"colorbar\": {\"outlinewidth\": 0, \"ticks\": \"\"}, \"colorscale\": [[0.0, \"#0d0887\"], [0.1111111111111111, \"#46039f\"], [0.2222222222222222, \"#7201a8\"], [0.3333333333333333, \"#9c179e\"], [0.4444444444444444, \"#bd3786\"], [0.5555555555555556, \"#d8576b\"], [0.6666666666666666, \"#ed7953\"], [0.7777777777777778, \"#fb9f3a\"], [0.8888888888888888, \"#fdca26\"], [1.0, \"#f0f921\"]], \"type\": \"heatmapgl\"}], \"histogram\": [{\"marker\": {\"colorbar\": {\"outlinewidth\": 0, \"ticks\": \"\"}}, \"type\": \"histogram\"}], \"histogram2d\": [{\"colorbar\": {\"outlinewidth\": 0, \"ticks\": \"\"}, \"colorscale\": [[0.0, \"#0d0887\"], [0.1111111111111111, \"#46039f\"], [0.2222222222222222, \"#7201a8\"], [0.3333333333333333, \"#9c179e\"], [0.4444444444444444, \"#bd3786\"], [0.5555555555555556, \"#d8576b\"], [0.6666666666666666, \"#ed7953\"], [0.7777777777777778, \"#fb9f3a\"], [0.8888888888888888, \"#fdca26\"], [1.0, \"#f0f921\"]], \"type\": \"histogram2d\"}], \"histogram2dcontour\": [{\"colorbar\": {\"outlinewidth\": 0, \"ticks\": \"\"}, \"colorscale\": [[0.0, \"#0d0887\"], [0.1111111111111111, \"#46039f\"], [0.2222222222222222, \"#7201a8\"], [0.3333333333333333, \"#9c179e\"], [0.4444444444444444, \"#bd3786\"], [0.5555555555555556, \"#d8576b\"], [0.6666666666666666, \"#ed7953\"], [0.7777777777777778, \"#fb9f3a\"], [0.8888888888888888, \"#fdca26\"], [1.0, \"#f0f921\"]], \"type\": \"histogram2dcontour\"}], \"mesh3d\": [{\"colorbar\": {\"outlinewidth\": 0, \"ticks\": \"\"}, \"type\": \"mesh3d\"}], \"parcoords\": [{\"line\": {\"colorbar\": {\"outlinewidth\": 0, \"ticks\": \"\"}}, \"type\": \"parcoords\"}], \"pie\": [{\"automargin\": true, \"type\": \"pie\"}], \"scatter\": [{\"marker\": {\"colorbar\": {\"outlinewidth\": 0, \"ticks\": \"\"}}, \"type\": \"scatter\"}], \"scatter3d\": [{\"line\": {\"colorbar\": {\"outlinewidth\": 0, \"ticks\": \"\"}}, \"marker\": {\"colorbar\": {\"outlinewidth\": 0, \"ticks\": \"\"}}, \"type\": \"scatter3d\"}], \"scattercarpet\": [{\"marker\": {\"colorbar\": {\"outlinewidth\": 0, \"ticks\": \"\"}}, \"type\": \"scattercarpet\"}], \"scattergeo\": [{\"marker\": {\"colorbar\": {\"outlinewidth\": 0, \"ticks\": \"\"}}, \"type\": \"scattergeo\"}], \"scattergl\": [{\"marker\": {\"colorbar\": {\"outlinewidth\": 0, \"ticks\": \"\"}}, \"type\": \"scattergl\"}], \"scattermapbox\": [{\"marker\": {\"colorbar\": {\"outlinewidth\": 0, \"ticks\": \"\"}}, \"type\": \"scattermapbox\"}], \"scatterpolar\": [{\"marker\": {\"colorbar\": {\"outlinewidth\": 0, \"ticks\": \"\"}}, \"type\": \"scatterpolar\"}], \"scatterpolargl\": [{\"marker\": {\"colorbar\": {\"outlinewidth\": 0, \"ticks\": \"\"}}, \"type\": \"scatterpolargl\"}], \"scatterternary\": [{\"marker\": {\"colorbar\": {\"outlinewidth\": 0, \"ticks\": \"\"}}, \"type\": \"scatterternary\"}], \"surface\": [{\"colorbar\": {\"outlinewidth\": 0, \"ticks\": \"\"}, \"colorscale\": [[0.0, \"#0d0887\"], [0.1111111111111111, \"#46039f\"], [0.2222222222222222, \"#7201a8\"], [0.3333333333333333, \"#9c179e\"], [0.4444444444444444, \"#bd3786\"], [0.5555555555555556, \"#d8576b\"], [0.6666666666666666, \"#ed7953\"], [0.7777777777777778, \"#fb9f3a\"], [0.8888888888888888, \"#fdca26\"], [1.0, \"#f0f921\"]], \"type\": \"surface\"}], \"table\": [{\"cells\": {\"fill\": {\"color\": \"#EBF0F8\"}, \"line\": {\"color\": \"white\"}}, \"header\": {\"fill\": {\"color\": \"#C8D4E3\"}, \"line\": {\"color\": \"white\"}}, \"type\": \"table\"}]}, \"layout\": {\"annotationdefaults\": {\"arrowcolor\": \"#2a3f5f\", \"arrowhead\": 0, \"arrowwidth\": 1}, \"coloraxis\": {\"colorbar\": {\"outlinewidth\": 0, \"ticks\": \"\"}}, \"colorscale\": {\"diverging\": [[0, \"#8e0152\"], [0.1, \"#c51b7d\"], [0.2, \"#de77ae\"], [0.3, \"#f1b6da\"], [0.4, \"#fde0ef\"], [0.5, \"#f7f7f7\"], [0.6, \"#e6f5d0\"], [0.7, \"#b8e186\"], [0.8, \"#7fbc41\"], [0.9, \"#4d9221\"], [1, \"#276419\"]], \"sequential\": [[0.0, \"#0d0887\"], [0.1111111111111111, \"#46039f\"], [0.2222222222222222, \"#7201a8\"], [0.3333333333333333, \"#9c179e\"], [0.4444444444444444, \"#bd3786\"], [0.5555555555555556, \"#d8576b\"], [0.6666666666666666, \"#ed7953\"], [0.7777777777777778, \"#fb9f3a\"], [0.8888888888888888, \"#fdca26\"], [1.0, \"#f0f921\"]], \"sequentialminus\": [[0.0, \"#0d0887\"], [0.1111111111111111, \"#46039f\"], [0.2222222222222222, \"#7201a8\"], [0.3333333333333333, \"#9c179e\"], [0.4444444444444444, \"#bd3786\"], [0.5555555555555556, \"#d8576b\"], [0.6666666666666666, \"#ed7953\"], [0.7777777777777778, \"#fb9f3a\"], [0.8888888888888888, \"#fdca26\"], [1.0, \"#f0f921\"]]}, \"colorway\": [\"#636efa\", \"#EF553B\", \"#00cc96\", \"#ab63fa\", \"#FFA15A\", \"#19d3f3\", \"#FF6692\", \"#B6E880\", \"#FF97FF\", \"#FECB52\"], \"font\": {\"color\": \"#2a3f5f\"}, \"geo\": {\"bgcolor\": \"white\", \"lakecolor\": \"white\", \"landcolor\": \"#E5ECF6\", \"showlakes\": true, \"showland\": true, \"subunitcolor\": \"white\"}, \"hoverlabel\": {\"align\": \"left\"}, \"hovermode\": \"closest\", \"mapbox\": {\"style\": \"light\"}, \"paper_bgcolor\": \"white\", \"plot_bgcolor\": \"#E5ECF6\", \"polar\": {\"angularaxis\": {\"gridcolor\": \"white\", \"linecolor\": \"white\", \"ticks\": \"\"}, \"bgcolor\": \"#E5ECF6\", \"radialaxis\": {\"gridcolor\": \"white\", \"linecolor\": \"white\", \"ticks\": \"\"}}, \"scene\": {\"xaxis\": {\"backgroundcolor\": \"#E5ECF6\", \"gridcolor\": \"white\", \"gridwidth\": 2, \"linecolor\": \"white\", \"showbackground\": true, \"ticks\": \"\", \"zerolinecolor\": \"white\"}, \"yaxis\": {\"backgroundcolor\": \"#E5ECF6\", \"gridcolor\": \"white\", \"gridwidth\": 2, \"linecolor\": \"white\", \"showbackground\": true, \"ticks\": \"\", \"zerolinecolor\": \"white\"}, \"zaxis\": {\"backgroundcolor\": \"#E5ECF6\", \"gridcolor\": \"white\", \"gridwidth\": 2, \"linecolor\": \"white\", \"showbackground\": true, \"ticks\": \"\", \"zerolinecolor\": \"white\"}}, \"shapedefaults\": {\"line\": {\"color\": \"#2a3f5f\"}}, \"ternary\": {\"aaxis\": {\"gridcolor\": \"white\", \"linecolor\": \"white\", \"ticks\": \"\"}, \"baxis\": {\"gridcolor\": \"white\", \"linecolor\": \"white\", \"ticks\": \"\"}, \"bgcolor\": \"#E5ECF6\", \"caxis\": {\"gridcolor\": \"white\", \"linecolor\": \"white\", \"ticks\": \"\"}}, \"title\": {\"x\": 0.05}, \"xaxis\": {\"automargin\": true, \"gridcolor\": \"white\", \"linecolor\": \"white\", \"ticks\": \"\", \"title\": {\"standoff\": 15}, \"zerolinecolor\": \"white\", \"zerolinewidth\": 2}, \"yaxis\": {\"automargin\": true, \"gridcolor\": \"white\", \"linecolor\": \"white\", \"ticks\": \"\", \"title\": {\"standoff\": 15}, \"zerolinecolor\": \"white\", \"zerolinewidth\": 2}}}, \"title\": {\"text\": \"Change in Profitability Over Time for 6 Least Profitable Genres\"}},\n",
       "                        {\"responsive\": true}\n",
       "                    ).then(function(){\n",
       "                            \n",
       "var gd = document.getElementById('3fb7a948-b55b-4425-80df-28d0d2f687a8');\n",
       "var x = new MutationObserver(function (mutations, observer) {{\n",
       "        var display = window.getComputedStyle(gd).display;\n",
       "        if (!display || display === 'none') {{\n",
       "            console.log([gd, 'removed!']);\n",
       "            Plotly.purge(gd);\n",
       "            observer.disconnect();\n",
       "        }}\n",
       "}});\n",
       "\n",
       "// Listen for the removal of the full notebook cells\n",
       "var notebookContainer = gd.closest('#notebook-container');\n",
       "if (notebookContainer) {{\n",
       "    x.observe(notebookContainer, {childList: true});\n",
       "}}\n",
       "\n",
       "// Listen for the clearing of the current output cell\n",
       "var outputEl = gd.closest('.output');\n",
       "if (outputEl) {{\n",
       "    x.observe(outputEl, {childList: true});\n",
       "}}\n",
       "\n",
       "                        })\n",
       "                };\n",
       "                });\n",
       "            </script>\n",
       "        </div>"
      ]
     },
     "metadata": {},
     "output_type": "display_data"
    }
   ],
   "source": [
    "# time trend for profitability for the next 5 most profitable genresb\n",
    "layout3 = {'title' : 'Change in Profitability Over Time for 6 Least Profitable Genres'}\n",
    "trace3 = [crime, war, documentary, history, music, western]\n",
    "figure3 = {'data' : trace3, 'layout' : layout3 }\n",
    "\n",
    "plotly.offline.iplot(figure3)"
   ]
  },
  {
   "cell_type": "markdown",
   "metadata": {},
   "source": [
    "### General Trends for 6 Least Profitable ###\n",
    "\n",
    "Unlike the other genre groups described above, the trends in the 6 Least Profitable Genres are much more varied. Music and History movies show the expected trend of an increase in profitability from 2017 - 2018, and a decrease in profits from 2018 - 2019. Crime movies profitability decreased from 2017 - 2019. War movies profitability has has been steadily decreasing since 2013. In fact, median profitability to War movies in 2018 and 2019 were less than 1, mean that many War movies actually had lost money. Documentary movies have seen an increase in profitability from 2014 - 2019. Though growth slowed from 2016 - 2019. Western movies seem to often return profitability less than 1, indicating a loss in money. Though our data set does not contain Western movies for 2017, a quick Google search shows that the highest rated Western movie for 2017, *Hostiles*, had a budget of 39 million dollars but only made 35.7 million dollars at the boxes office. Coinciding with the trend of Western movies having a profitability index of less than 1. "
   ]
  },
  {
   "cell_type": "markdown",
   "metadata": {},
   "source": [
    "# Conclusions #"
   ]
  },
  {
   "cell_type": "markdown",
   "metadata": {},
   "source": [
    "The data shows that in general, profitbility has decreased across most genres from 2018 - 2019. This coincides with the fall of movie admission from 2018 - 2019. With streaming services, increasingly making their own blockbust movies, the movie industry is seeing a shift in how people are watching movies. This downward trend may continue after 2020 as the coronavirus pandemic has led to closures of many movie theatres around the country. That being said, based on our data a new studio should try and produce either a Romance or Horror movie since thes movies ended 2019 with a profitability index greater than 3. On the other hand, a new studio may want to produce a Thriller or Documentary film since these genres have seen steady increases in protfitability over the last few years."
   ]
  },
  {
   "cell_type": "code",
   "execution_count": null,
   "metadata": {},
   "outputs": [],
   "source": []
  }
 ],
 "metadata": {
  "kernelspec": {
   "display_name": "Python 3",
   "language": "python",
   "name": "python3"
  },
  "language_info": {
   "codemirror_mode": {
    "name": "ipython",
    "version": 3
   },
   "file_extension": ".py",
   "mimetype": "text/x-python",
   "name": "python",
   "nbconvert_exporter": "python",
   "pygments_lexer": "ipython3",
   "version": "3.8.3"
  }
 },
 "nbformat": 4,
 "nbformat_minor": 4
}

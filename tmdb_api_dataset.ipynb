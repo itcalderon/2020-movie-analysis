{
 "cells": [
  {
   "cell_type": "markdown",
   "metadata": {},
   "source": [
    "Import the necessary packages and API key."
   ]
  },
  {
   "cell_type": "code",
   "execution_count": 145,
   "metadata": {},
   "outputs": [
    {
     "name": "stdout",
     "output_type": "stream",
     "text": [
      "/Users/jmirabito/Desktop/Learn.co/mod_1_movie_project/2020-movie-analysis\r\n"
     ]
    }
   ],
   "source": [
    "!pwd"
   ]
  },
  {
   "cell_type": "code",
   "execution_count": 10,
   "metadata": {
    "scrolled": true
   },
   "outputs": [
    {
     "name": "stdout",
     "output_type": "stream",
     "text": [
      "* \u001b[32mJamBranch\u001b[m\r\n",
      "  master\u001b[m\r\n"
     ]
    }
   ],
   "source": [
    "!git branch"
   ]
  },
  {
   "cell_type": "code",
   "execution_count": 136,
   "metadata": {
    "scrolled": true
   },
   "outputs": [
    {
     "name": "stdout",
     "output_type": "stream",
     "text": [
      "Requirement already satisfied: tqdm in /opt/anaconda3/lib/python3.8/site-packages (4.47.0)\n",
      "Note: you may need to restart the kernel to use updated packages.\n"
     ]
    }
   ],
   "source": [
    "pip install tqdm"
   ]
  },
  {
   "cell_type": "code",
   "execution_count": 139,
   "metadata": {},
   "outputs": [
    {
     "name": "stdout",
     "output_type": "stream",
     "text": [
      "Requirement already satisfied: requests[security] in /opt/anaconda3/lib/python3.8/site-packages (2.24.0)\n",
      "Requirement already satisfied: certifi>=2017.4.17 in /opt/anaconda3/lib/python3.8/site-packages (from requests[security]) (2020.6.20)\n",
      "Requirement already satisfied: urllib3!=1.25.0,!=1.25.1,<1.26,>=1.21.1 in /opt/anaconda3/lib/python3.8/site-packages (from requests[security]) (1.25.9)\n",
      "Requirement already satisfied: chardet<4,>=3.0.2 in /opt/anaconda3/lib/python3.8/site-packages (from requests[security]) (3.0.4)\n",
      "Requirement already satisfied: idna<3,>=2.5 in /opt/anaconda3/lib/python3.8/site-packages (from requests[security]) (2.10)\n",
      "Requirement already satisfied: pyOpenSSL>=0.14; extra == \"security\" in /opt/anaconda3/lib/python3.8/site-packages (from requests[security]) (19.1.0)\n",
      "Requirement already satisfied: cryptography>=1.3.4; extra == \"security\" in /opt/anaconda3/lib/python3.8/site-packages (from requests[security]) (2.9.2)\n",
      "Requirement already satisfied: six>=1.5.2 in /opt/anaconda3/lib/python3.8/site-packages (from pyOpenSSL>=0.14; extra == \"security\"->requests[security]) (1.15.0)\n",
      "Requirement already satisfied: cffi!=1.11.3,>=1.8 in /opt/anaconda3/lib/python3.8/site-packages (from cryptography>=1.3.4; extra == \"security\"->requests[security]) (1.14.0)\n",
      "Requirement already satisfied: pycparser in /opt/anaconda3/lib/python3.8/site-packages (from cffi!=1.11.3,>=1.8->cryptography>=1.3.4; extra == \"security\"->requests[security]) (2.20)\n",
      "Note: you may need to restart the kernel to use updated packages.\n"
     ]
    }
   ],
   "source": [
    "pip install \"requests[security]\""
   ]
  },
  {
   "cell_type": "code",
   "execution_count": 89,
   "metadata": {},
   "outputs": [],
   "source": [
    "import json\n",
    "import pandas as pd\n",
    "import numpy as np\n",
    "from tqdm import tqdm\n",
    "\n",
    "def get_keys(path):\n",
    "    with open(path) as f:\n",
    "        return json.load(f)"
   ]
  },
  {
   "cell_type": "code",
   "execution_count": 84,
   "metadata": {},
   "outputs": [],
   "source": [
    "keys = get_keys(\"/Users/jmirabito/Desktop/Learn.co/.secret/tmdb_api\")\n",
    "\n",
    "api_key = keys['api_key']"
   ]
  },
  {
   "cell_type": "code",
   "execution_count": 13,
   "metadata": {},
   "outputs": [],
   "source": [
    "import requests"
   ]
  },
  {
   "cell_type": "markdown",
   "metadata": {},
   "source": [
    "In order to use the TMDB API, we first import a list of 73,856 unique IMDb movie IDs so that we can use those to find the necessary information from the TMDB database. We pull this information in from our cleaned IMDb data file."
   ]
  },
  {
   "cell_type": "code",
   "execution_count": 50,
   "metadata": {
    "scrolled": true
   },
   "outputs": [
    {
     "data": {
      "text/html": [
       "<div>\n",
       "<style scoped>\n",
       "    .dataframe tbody tr th:only-of-type {\n",
       "        vertical-align: middle;\n",
       "    }\n",
       "\n",
       "    .dataframe tbody tr th {\n",
       "        vertical-align: top;\n",
       "    }\n",
       "\n",
       "    .dataframe thead th {\n",
       "        text-align: right;\n",
       "    }\n",
       "</style>\n",
       "<table border=\"1\" class=\"dataframe\">\n",
       "  <thead>\n",
       "    <tr style=\"text-align: right;\">\n",
       "      <th></th>\n",
       "      <th>title_id</th>\n",
       "      <th>primary_title</th>\n",
       "      <th>original_title</th>\n",
       "      <th>start_year</th>\n",
       "      <th>runtime_minutes</th>\n",
       "      <th>genres</th>\n",
       "      <th>averagerating</th>\n",
       "      <th>numvotes</th>\n",
       "    </tr>\n",
       "  </thead>\n",
       "  <tbody>\n",
       "    <tr>\n",
       "      <th>0</th>\n",
       "      <td>tt1612608</td>\n",
       "      <td>The Italian</td>\n",
       "      <td>L'Italien</td>\n",
       "      <td>2010</td>\n",
       "      <td>102.0</td>\n",
       "      <td>Comedy,Drama</td>\n",
       "      <td>5.8</td>\n",
       "      <td>1360</td>\n",
       "    </tr>\n",
       "    <tr>\n",
       "      <th>1</th>\n",
       "      <td>tt4874854</td>\n",
       "      <td>The Legend of Zelda: The Triforce Prophecy</td>\n",
       "      <td>The Legend of Zelda: The Triforce Prophecy</td>\n",
       "      <td>2010</td>\n",
       "      <td>120.0</td>\n",
       "      <td>Adventure,Fantasy,Romance</td>\n",
       "      <td>4.8</td>\n",
       "      <td>8</td>\n",
       "    </tr>\n",
       "    <tr>\n",
       "      <th>2</th>\n",
       "      <td>tt1718842</td>\n",
       "      <td>Nakalnya anak muda</td>\n",
       "      <td>Nakalnya anak muda</td>\n",
       "      <td>2010</td>\n",
       "      <td>75.0</td>\n",
       "      <td>Horror,Thriller</td>\n",
       "      <td>4.0</td>\n",
       "      <td>12</td>\n",
       "    </tr>\n",
       "    <tr>\n",
       "      <th>3</th>\n",
       "      <td>tt1645134</td>\n",
       "      <td>Sandcastle</td>\n",
       "      <td>Sandcastle</td>\n",
       "      <td>2010</td>\n",
       "      <td>91.0</td>\n",
       "      <td>Drama</td>\n",
       "      <td>6.3</td>\n",
       "      <td>116</td>\n",
       "    </tr>\n",
       "    <tr>\n",
       "      <th>4</th>\n",
       "      <td>tt1645129</td>\n",
       "      <td>Planzet</td>\n",
       "      <td>Puranzetto</td>\n",
       "      <td>2010</td>\n",
       "      <td>53.0</td>\n",
       "      <td>Action,Animation,Sci-Fi</td>\n",
       "      <td>4.6</td>\n",
       "      <td>290</td>\n",
       "    </tr>\n",
       "  </tbody>\n",
       "</table>\n",
       "</div>"
      ],
      "text/plain": [
       "    title_id                               primary_title  \\\n",
       "0  tt1612608                                 The Italian   \n",
       "1  tt4874854  The Legend of Zelda: The Triforce Prophecy   \n",
       "2  tt1718842                          Nakalnya anak muda   \n",
       "3  tt1645134                                  Sandcastle   \n",
       "4  tt1645129                                     Planzet   \n",
       "\n",
       "                               original_title  start_year  runtime_minutes  \\\n",
       "0                                   L'Italien        2010            102.0   \n",
       "1  The Legend of Zelda: The Triforce Prophecy        2010            120.0   \n",
       "2                          Nakalnya anak muda        2010             75.0   \n",
       "3                                  Sandcastle        2010             91.0   \n",
       "4                                  Puranzetto        2010             53.0   \n",
       "\n",
       "                      genres  averagerating  numvotes  \n",
       "0               Comedy,Drama            5.8      1360  \n",
       "1  Adventure,Fantasy,Romance            4.8         8  \n",
       "2            Horror,Thriller            4.0        12  \n",
       "3                      Drama            6.3       116  \n",
       "4    Action,Animation,Sci-Fi            4.6       290  "
      ]
     },
     "execution_count": 50,
     "metadata": {},
     "output_type": "execute_result"
    }
   ],
   "source": [
    "imdb_id = pd.read_csv('/Users/jmirabito/Desktop/Learn.co/mod_1_movie_project/2020-movie-analysis/Data/imdb.basics_and_ratings_nonulls.csv')\n",
    "imdb_id.head()"
   ]
  },
  {
   "cell_type": "markdown",
   "metadata": {},
   "source": [
    "We then pull out the relevant column containing our IMDb id."
   ]
  },
  {
   "cell_type": "code",
   "execution_count": 82,
   "metadata": {},
   "outputs": [
    {
     "data": {
      "text/plain": [
       "73856"
      ]
     },
     "execution_count": 82,
     "metadata": {},
     "output_type": "execute_result"
    }
   ],
   "source": [
    "external_id = list(imdb_id['title_id'])\n",
    "len(external_id)"
   ]
  },
  {
   "cell_type": "markdown",
   "metadata": {},
   "source": [
    "Using the API string request format provided in the TMDB API documentation, we tested the code by inserting a random value from the IMDb id list ('external_id'). Our output from data.json() is a dictionary, so we indexed our way into the dictionary to extract the relevant information - in this case the TMDB id."
   ]
  },
  {
   "cell_type": "code",
   "execution_count": 64,
   "metadata": {},
   "outputs": [
    {
     "data": {
      "text/plain": [
       "513784"
      ]
     },
     "execution_count": 64,
     "metadata": {},
     "output_type": "execute_result"
    }
   ],
   "source": [
    "request_string = 'https://api.themoviedb.org/3/find/{}?api_key={}&language=en-US&external_source=imdb_id'.format(external_id[5436], api_key)\n",
    "data = requests.get(request_string)\n",
    "data.json()['movie_results'][0]['id']\n"
   ]
  },
  {
   "cell_type": "code",
   "execution_count": null,
   "metadata": {},
   "outputs": [],
   "source": []
  },
  {
   "cell_type": "code",
   "execution_count": 83,
   "metadata": {},
   "outputs": [
    {
     "data": {
      "text/plain": [
       "605343"
      ]
     },
     "execution_count": 83,
     "metadata": {},
     "output_type": "execute_result"
    }
   ],
   "source": [
    "# tmdb_id =[] \n",
    "for item in external_id:\n",
    "    request_string = 'https://api.themoviedb.org/3/find/{}?api_key={}&language=en-US&external_source=imdb_id'.format(item, api_key)\n",
    "    data = requests.get(request_string)\n",
    "    data.json()['movie_results']\n",
    "    if data.json()['movie_results'] == []:\n",
    "        continue\n",
    "    else:\n",
    "        local_id = data.json()['movie_results'][0]['id']\n",
    "        tmdb_id.append(local_id)\n",
    "\n"
   ]
  },
  {
   "cell_type": "code",
   "execution_count": 86,
   "metadata": {},
   "outputs": [
    {
     "data": {
      "text/plain": [
       "59429"
      ]
     },
     "execution_count": 86,
     "metadata": {},
     "output_type": "execute_result"
    }
   ],
   "source": [
    "len(tmdb_id)"
   ]
  },
  {
   "cell_type": "code",
   "execution_count": 142,
   "metadata": {
    "scrolled": true
   },
   "outputs": [
    {
     "name": "stderr",
     "output_type": "stream",
     "text": [
      "100%|██████████| 21785/21785 [52:30<00:00,  6.92it/s]  \n"
     ]
    }
   ],
   "source": [
    "# tmdb_dicts = []\n",
    "for i in tqdm(range(37644, len(tmdb_id))):\n",
    "    request_string = 'https://api.themoviedb.org/3/movie/{}?api_key={}&language=en-US'.format(tmdb_id[i], api_key)\n",
    "    data = requests.get(request_string)\n",
    "    if data.ok:\n",
    "        movie_dict = {'tmdb_id': data.json()['id'],\n",
    "                      'imdb_id': data.json()['imdb_id'],\n",
    "                      'title': data.json()['title'],\n",
    "                      'genre': [data.json()['genres'][i]['name'] for i in list(range(0, len(data.json()['genres'])))],\n",
    "                      'studio': [data.json()['production_companies'][i]['name'] for i in list(range(0, len(data.json()['production_companies'])))],\n",
    "                      'budget': data.json()['budget'],\n",
    "                      'revenue': data.json()['revenue'],\n",
    "                      'tmdb_rating': data.json()['vote_average'],\n",
    "                      'tmdb_num_votes': data.json()['vote_count']\n",
    "                     }\n",
    "        tmdb_dicts.append(movie_dict)\n",
    "    else:\n",
    "        movie_dict = {'tmdb_id': 'null',\n",
    "                      'imdb_id': 'null',\n",
    "                      'title': 'null',\n",
    "                      'genre': 'null',\n",
    "                      'studio': 'null',\n",
    "                      'budget': 'null',\n",
    "                      'revenue': 'null',\n",
    "                      'tmdb_rating': 'null',\n",
    "                      'tmdb_num_votes': 'null'\n",
    "                     }\n",
    "        tmdb_dicts.append(movie_dict)\n",
    "\n",
    "    \n",
    "    "
   ]
  },
  {
   "cell_type": "code",
   "execution_count": 143,
   "metadata": {},
   "outputs": [
    {
     "data": {
      "text/plain": [
       "59429"
      ]
     },
     "execution_count": 143,
     "metadata": {},
     "output_type": "execute_result"
    }
   ],
   "source": [
    "len(tmdb_dicts)"
   ]
  },
  {
   "cell_type": "code",
   "execution_count": 144,
   "metadata": {},
   "outputs": [
    {
     "data": {
      "text/html": [
       "<div>\n",
       "<style scoped>\n",
       "    .dataframe tbody tr th:only-of-type {\n",
       "        vertical-align: middle;\n",
       "    }\n",
       "\n",
       "    .dataframe tbody tr th {\n",
       "        vertical-align: top;\n",
       "    }\n",
       "\n",
       "    .dataframe thead th {\n",
       "        text-align: right;\n",
       "    }\n",
       "</style>\n",
       "<table border=\"1\" class=\"dataframe\">\n",
       "  <thead>\n",
       "    <tr style=\"text-align: right;\">\n",
       "      <th></th>\n",
       "      <th>tmdb_id</th>\n",
       "      <th>imdb_id</th>\n",
       "      <th>title</th>\n",
       "      <th>genre</th>\n",
       "      <th>studio</th>\n",
       "      <th>budget</th>\n",
       "      <th>revenue</th>\n",
       "      <th>tmdb_rating</th>\n",
       "      <th>tmdb_num_votes</th>\n",
       "    </tr>\n",
       "  </thead>\n",
       "  <tbody>\n",
       "    <tr>\n",
       "      <th>0</th>\n",
       "      <td>44155</td>\n",
       "      <td>tt1612608</td>\n",
       "      <td>The Italian</td>\n",
       "      <td>[Comedy]</td>\n",
       "      <td>[Eskwad, Pathé!, M6 Films, Canal+]</td>\n",
       "      <td>0</td>\n",
       "      <td>0</td>\n",
       "      <td>5.3</td>\n",
       "      <td>144</td>\n",
       "    </tr>\n",
       "    <tr>\n",
       "      <th>1</th>\n",
       "      <td>642129</td>\n",
       "      <td>tt1718842</td>\n",
       "      <td>Nakalnya Anak Muda</td>\n",
       "      <td>[Horror, Drama, Thriller]</td>\n",
       "      <td>[Mitra Pictures]</td>\n",
       "      <td>0</td>\n",
       "      <td>0</td>\n",
       "      <td>0</td>\n",
       "      <td>0</td>\n",
       "    </tr>\n",
       "    <tr>\n",
       "      <th>2</th>\n",
       "      <td>69237</td>\n",
       "      <td>tt1645134</td>\n",
       "      <td>Sandcastle</td>\n",
       "      <td>[Drama]</td>\n",
       "      <td>[]</td>\n",
       "      <td>0</td>\n",
       "      <td>0</td>\n",
       "      <td>6</td>\n",
       "      <td>4</td>\n",
       "    </tr>\n",
       "    <tr>\n",
       "      <th>3</th>\n",
       "      <td>46249</td>\n",
       "      <td>tt1645129</td>\n",
       "      <td>Planzet</td>\n",
       "      <td>[Animation, Action, Science Fiction]</td>\n",
       "      <td>[CoMix Wave Films, Media Factory]</td>\n",
       "      <td>0</td>\n",
       "      <td>0</td>\n",
       "      <td>6.2</td>\n",
       "      <td>5</td>\n",
       "    </tr>\n",
       "    <tr>\n",
       "      <th>4</th>\n",
       "      <td>347635</td>\n",
       "      <td>tt1645115</td>\n",
       "      <td>Naica</td>\n",
       "      <td>[]</td>\n",
       "      <td>[]</td>\n",
       "      <td>0</td>\n",
       "      <td>0</td>\n",
       "      <td>0</td>\n",
       "      <td>0</td>\n",
       "    </tr>\n",
       "  </tbody>\n",
       "</table>\n",
       "</div>"
      ],
      "text/plain": [
       "  tmdb_id    imdb_id               title  \\\n",
       "0   44155  tt1612608         The Italian   \n",
       "1  642129  tt1718842  Nakalnya Anak Muda   \n",
       "2   69237  tt1645134          Sandcastle   \n",
       "3   46249  tt1645129             Planzet   \n",
       "4  347635  tt1645115               Naica   \n",
       "\n",
       "                                  genre                              studio  \\\n",
       "0                              [Comedy]  [Eskwad, Pathé!, M6 Films, Canal+]   \n",
       "1             [Horror, Drama, Thriller]                    [Mitra Pictures]   \n",
       "2                               [Drama]                                  []   \n",
       "3  [Animation, Action, Science Fiction]   [CoMix Wave Films, Media Factory]   \n",
       "4                                    []                                  []   \n",
       "\n",
       "  budget revenue tmdb_rating tmdb_num_votes  \n",
       "0      0       0         5.3            144  \n",
       "1      0       0           0              0  \n",
       "2      0       0           6              4  \n",
       "3      0       0         6.2              5  \n",
       "4      0       0           0              0  "
      ]
     },
     "execution_count": 144,
     "metadata": {},
     "output_type": "execute_result"
    }
   ],
   "source": [
    "tmdb_info = pd.DataFrame.from_dict(tmdb_dicts)\n",
    "tmdb_info.columns = tmdb_dicts[0].keys()\n",
    "tmdb_info.head()"
   ]
  },
  {
   "cell_type": "code",
   "execution_count": 150,
   "metadata": {},
   "outputs": [],
   "source": [
    "tmdb_info.to_csv('Data/tmdb_api_data.csv')"
   ]
  },
  {
   "cell_type": "code",
   "execution_count": null,
   "metadata": {},
   "outputs": [],
   "source": []
  }
 ],
 "metadata": {
  "kernelspec": {
   "display_name": "Python 3",
   "language": "python",
   "name": "python3"
  },
  "language_info": {
   "codemirror_mode": {
    "name": "ipython",
    "version": 3
   },
   "file_extension": ".py",
   "mimetype": "text/x-python",
   "name": "python",
   "nbconvert_exporter": "python",
   "pygments_lexer": "ipython3",
   "version": "3.8.3"
  }
 },
 "nbformat": 4,
 "nbformat_minor": 4
}

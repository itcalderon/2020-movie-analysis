{
 "cells": [
  {
   "cell_type": "code",
   "execution_count": 1,
   "metadata": {},
   "outputs": [
    {
     "name": "stdout",
     "output_type": "stream",
     "text": [
      "  JamBranch\u001b[m\r\n",
      "* \u001b[32mexploringTMDBdata\u001b[m\r\n",
      "  master\u001b[m\r\n"
     ]
    }
   ],
   "source": [
    "!git branch"
   ]
  },
  {
   "cell_type": "code",
   "execution_count": 2,
   "metadata": {},
   "outputs": [],
   "source": [
    "import pandas as pd\n",
    "import numpy as np"
   ]
  },
  {
   "cell_type": "code",
   "execution_count": 4,
   "metadata": {},
   "outputs": [
    {
     "name": "stdout",
     "output_type": "stream",
     "text": [
      "(59429, 10)\n"
     ]
    },
    {
     "data": {
      "text/html": [
       "<div>\n",
       "<style scoped>\n",
       "    .dataframe tbody tr th:only-of-type {\n",
       "        vertical-align: middle;\n",
       "    }\n",
       "\n",
       "    .dataframe tbody tr th {\n",
       "        vertical-align: top;\n",
       "    }\n",
       "\n",
       "    .dataframe thead th {\n",
       "        text-align: right;\n",
       "    }\n",
       "</style>\n",
       "<table border=\"1\" class=\"dataframe\">\n",
       "  <thead>\n",
       "    <tr style=\"text-align: right;\">\n",
       "      <th></th>\n",
       "      <th>Unnamed: 0</th>\n",
       "      <th>tmdb_id</th>\n",
       "      <th>imdb_id</th>\n",
       "      <th>title</th>\n",
       "      <th>genre</th>\n",
       "      <th>studio</th>\n",
       "      <th>budget</th>\n",
       "      <th>revenue</th>\n",
       "      <th>tmdb_rating</th>\n",
       "      <th>tmdb_num_votes</th>\n",
       "    </tr>\n",
       "  </thead>\n",
       "  <tbody>\n",
       "    <tr>\n",
       "      <th>0</th>\n",
       "      <td>0</td>\n",
       "      <td>44155.0</td>\n",
       "      <td>tt1612608</td>\n",
       "      <td>The Italian</td>\n",
       "      <td>['Comedy']</td>\n",
       "      <td>['Eskwad', 'Pathé!', 'M6 Films', 'Canal+']</td>\n",
       "      <td>0.0</td>\n",
       "      <td>0.0</td>\n",
       "      <td>5.3</td>\n",
       "      <td>144.0</td>\n",
       "    </tr>\n",
       "    <tr>\n",
       "      <th>1</th>\n",
       "      <td>1</td>\n",
       "      <td>642129.0</td>\n",
       "      <td>tt1718842</td>\n",
       "      <td>Nakalnya Anak Muda</td>\n",
       "      <td>['Horror', 'Drama', 'Thriller']</td>\n",
       "      <td>['Mitra Pictures']</td>\n",
       "      <td>0.0</td>\n",
       "      <td>0.0</td>\n",
       "      <td>0.0</td>\n",
       "      <td>0.0</td>\n",
       "    </tr>\n",
       "    <tr>\n",
       "      <th>2</th>\n",
       "      <td>2</td>\n",
       "      <td>69237.0</td>\n",
       "      <td>tt1645134</td>\n",
       "      <td>Sandcastle</td>\n",
       "      <td>['Drama']</td>\n",
       "      <td>[]</td>\n",
       "      <td>0.0</td>\n",
       "      <td>0.0</td>\n",
       "      <td>6.0</td>\n",
       "      <td>4.0</td>\n",
       "    </tr>\n",
       "    <tr>\n",
       "      <th>3</th>\n",
       "      <td>3</td>\n",
       "      <td>46249.0</td>\n",
       "      <td>tt1645129</td>\n",
       "      <td>Planzet</td>\n",
       "      <td>['Animation', 'Action', 'Science Fiction']</td>\n",
       "      <td>['CoMix Wave Films', 'Media Factory']</td>\n",
       "      <td>0.0</td>\n",
       "      <td>0.0</td>\n",
       "      <td>6.2</td>\n",
       "      <td>5.0</td>\n",
       "    </tr>\n",
       "    <tr>\n",
       "      <th>4</th>\n",
       "      <td>4</td>\n",
       "      <td>347635.0</td>\n",
       "      <td>tt1645115</td>\n",
       "      <td>Naica</td>\n",
       "      <td>[]</td>\n",
       "      <td>[]</td>\n",
       "      <td>0.0</td>\n",
       "      <td>0.0</td>\n",
       "      <td>0.0</td>\n",
       "      <td>0.0</td>\n",
       "    </tr>\n",
       "  </tbody>\n",
       "</table>\n",
       "</div>"
      ],
      "text/plain": [
       "   Unnamed: 0   tmdb_id    imdb_id               title  \\\n",
       "0           0   44155.0  tt1612608         The Italian   \n",
       "1           1  642129.0  tt1718842  Nakalnya Anak Muda   \n",
       "2           2   69237.0  tt1645134          Sandcastle   \n",
       "3           3   46249.0  tt1645129             Planzet   \n",
       "4           4  347635.0  tt1645115               Naica   \n",
       "\n",
       "                                        genre  \\\n",
       "0                                  ['Comedy']   \n",
       "1             ['Horror', 'Drama', 'Thriller']   \n",
       "2                                   ['Drama']   \n",
       "3  ['Animation', 'Action', 'Science Fiction']   \n",
       "4                                          []   \n",
       "\n",
       "                                       studio  budget  revenue  tmdb_rating  \\\n",
       "0  ['Eskwad', 'Pathé!', 'M6 Films', 'Canal+']     0.0      0.0          5.3   \n",
       "1                          ['Mitra Pictures']     0.0      0.0          0.0   \n",
       "2                                          []     0.0      0.0          6.0   \n",
       "3       ['CoMix Wave Films', 'Media Factory']     0.0      0.0          6.2   \n",
       "4                                          []     0.0      0.0          0.0   \n",
       "\n",
       "   tmdb_num_votes  \n",
       "0           144.0  \n",
       "1             0.0  \n",
       "2             4.0  \n",
       "3             5.0  \n",
       "4             0.0  "
      ]
     },
     "execution_count": 4,
     "metadata": {},
     "output_type": "execute_result"
    }
   ],
   "source": [
    "df = pd.read_csv('Data/tmdb_api_data.csv')\n",
    "print(df.shape)\n",
    "df.head()"
   ]
  },
  {
   "cell_type": "code",
   "execution_count": 18,
   "metadata": {},
   "outputs": [
    {
     "name": "stdout",
     "output_type": "stream",
     "text": [
      "<class 'pandas.core.frame.DataFrame'>\n",
      "RangeIndex: 59429 entries, 0 to 59428\n",
      "Data columns (total 10 columns):\n",
      " #   Column          Non-Null Count  Dtype  \n",
      "---  ------          --------------  -----  \n",
      " 0   Unnamed: 0      59429 non-null  int64  \n",
      " 1   tmdb_id         59424 non-null  float64\n",
      " 2   imdb_id         59424 non-null  object \n",
      " 3   title           59424 non-null  object \n",
      " 4   genre           59424 non-null  object \n",
      " 5   studio          59424 non-null  object \n",
      " 6   budget          59424 non-null  float64\n",
      " 7   revenue         59424 non-null  float64\n",
      " 8   tmdb_rating     59424 non-null  float64\n",
      " 9   tmdb_num_votes  59424 non-null  float64\n",
      "dtypes: float64(5), int64(1), object(4)\n",
      "memory usage: 4.5+ MB\n"
     ]
    }
   ],
   "source": [
    "df.info()"
   ]
  },
  {
   "cell_type": "code",
   "execution_count": 7,
   "metadata": {},
   "outputs": [
    {
     "data": {
      "text/plain": [
       "5"
      ]
     },
     "execution_count": 7,
     "metadata": {},
     "output_type": "execute_result"
    }
   ],
   "source": [
    "df.tmdb_id.isna().sum()"
   ]
  },
  {
   "cell_type": "code",
   "execution_count": 8,
   "metadata": {},
   "outputs": [
    {
     "data": {
      "text/plain": [
       "0.0            52147\n",
       "1000000.0        244\n",
       "2000000.0        187\n",
       "5000000.0        172\n",
       "10000000.0       171\n",
       "               ...  \n",
       "260000000.0        1\n",
       "7120949.0          1\n",
       "693550.0           1\n",
       "32679734.0         1\n",
       "11500.0            1\n",
       "Name: budget, Length: 1484, dtype: int64"
      ]
     },
     "execution_count": 8,
     "metadata": {},
     "output_type": "execute_result"
    }
   ],
   "source": [
    "# There are 52,147 entries with a budget of 0\n",
    "df.budget.value_counts()"
   ]
  },
  {
   "cell_type": "code",
   "execution_count": 11,
   "metadata": {},
   "outputs": [
    {
     "data": {
      "text/plain": [
       "0.0           55233\n",
       "10000.0          29\n",
       "100000.0         25\n",
       "1500000.0        17\n",
       "2000000.0        13\n",
       "              ...  \n",
       "4500.0            1\n",
       "13975.0           1\n",
       "24426169.0        1\n",
       "40462793.0        1\n",
       "25574.0           1\n",
       "Name: revenue, Length: 3759, dtype: int64"
      ]
     },
     "execution_count": 11,
     "metadata": {},
     "output_type": "execute_result"
    }
   ],
   "source": [
    "# There are 55,233 movies with a revenue of 0\n",
    "df.revenue.value_counts()"
   ]
  },
  {
   "cell_type": "code",
   "execution_count": 13,
   "metadata": {},
   "outputs": [
    {
     "data": {
      "text/plain": [
       "0.0    16287\n",
       "6.0     3683\n",
       "7.0     2909\n",
       "5.0     2408\n",
       "8.0     1758\n",
       "       ...  \n",
       "1.2        5\n",
       "1.4        5\n",
       "9.1        4\n",
       "9.9        1\n",
       "9.6        1\n",
       "Name: tmdb_rating, Length: 93, dtype: int64"
      ]
     },
     "execution_count": 13,
     "metadata": {},
     "output_type": "execute_result"
    }
   ],
   "source": [
    "# 16,287 movies with a rating of 0\n",
    "df.tmdb_rating.value_counts()"
   ]
  },
  {
   "cell_type": "code",
   "execution_count": 16,
   "metadata": {},
   "outputs": [
    {
     "data": {
      "text/plain": [
       "[]                                                                                                                                25806\n",
       "['SVF Entertainment']                                                                                                                76\n",
       "['Star Cinema – ABS-CBN Film Productions']                                                                                           70\n",
       "['Toho Company, Ltd.']                                                                                                               66\n",
       "['Toei']                                                                                                                             57\n",
       "                                                                                                                                  ...  \n",
       "['BIG Curtains Media', 'NJ Lalwani Films']                                                                                            1\n",
       "['Twisted Pictures', 'Protocol Entertainment', 'Parismony Pictures']                                                                  1\n",
       "['Rakeysh Omprakash Mehra Films', 'Cinestaan Film Company']                                                                           1\n",
       "['Night of Terror Films']                                                                                                             1\n",
       "['Television Broadcasts Limited (TVB)', 'Shaw Brothers', 'Sil-Metropole Organisation', 'United Filmmakers Organisation (UFO)']        1\n",
       "Name: studio, Length: 26977, dtype: int64"
      ]
     },
     "execution_count": 16,
     "metadata": {},
     "output_type": "execute_result"
    }
   ],
   "source": [
    "# 25,806 missing values\n",
    "df.studio.value_counts()"
   ]
  },
  {
   "cell_type": "code",
   "execution_count": 20,
   "metadata": {},
   "outputs": [
    {
     "data": {
      "text/plain": [
       "(2695, 10)"
      ]
     },
     "execution_count": 20,
     "metadata": {},
     "output_type": "execute_result"
    }
   ],
   "source": [
    "df[(df['budget']!=0)&(df['revenue']!=0)].shape"
   ]
  },
  {
   "cell_type": "code",
   "execution_count": 21,
   "metadata": {
    "scrolled": true
   },
   "outputs": [
    {
     "data": {
      "text/plain": [
       "56422"
      ]
     },
     "execution_count": 21,
     "metadata": {},
     "output_type": "execute_result"
    }
   ],
   "source": [
    "df.title.nunique()"
   ]
  },
  {
   "cell_type": "markdown",
   "metadata": {},
   "source": [
    "## Joining The Numbers dataset to fill missing values for budget and revenue"
   ]
  },
  {
   "cell_type": "code",
   "execution_count": 23,
   "metadata": {},
   "outputs": [],
   "source": [
    "df = df.dropna()"
   ]
  },
  {
   "cell_type": "code",
   "execution_count": 28,
   "metadata": {},
   "outputs": [
    {
     "data": {
      "text/html": [
       "<div>\n",
       "<style scoped>\n",
       "    .dataframe tbody tr th:only-of-type {\n",
       "        vertical-align: middle;\n",
       "    }\n",
       "\n",
       "    .dataframe tbody tr th {\n",
       "        vertical-align: top;\n",
       "    }\n",
       "\n",
       "    .dataframe thead th {\n",
       "        text-align: right;\n",
       "    }\n",
       "</style>\n",
       "<table border=\"1\" class=\"dataframe\">\n",
       "  <thead>\n",
       "    <tr style=\"text-align: right;\">\n",
       "      <th></th>\n",
       "      <th>Unnamed: 0</th>\n",
       "      <th>id</th>\n",
       "      <th>year</th>\n",
       "      <th>movie</th>\n",
       "      <th>production_budget</th>\n",
       "      <th>domestic_gross</th>\n",
       "      <th>total_gross</th>\n",
       "      <th>profitability</th>\n",
       "    </tr>\n",
       "  </thead>\n",
       "  <tbody>\n",
       "    <tr>\n",
       "      <th>0</th>\n",
       "      <td>5288</td>\n",
       "      <td>89</td>\n",
       "      <td>2000</td>\n",
       "      <td>The Specials</td>\n",
       "      <td>1000000</td>\n",
       "      <td>12996</td>\n",
       "      <td>12996</td>\n",
       "      <td>0.012996</td>\n",
       "    </tr>\n",
       "    <tr>\n",
       "      <th>1</th>\n",
       "      <td>3308</td>\n",
       "      <td>9</td>\n",
       "      <td>2000</td>\n",
       "      <td>The Claim</td>\n",
       "      <td>13000000</td>\n",
       "      <td>622023</td>\n",
       "      <td>1375635</td>\n",
       "      <td>0.105818</td>\n",
       "    </tr>\n",
       "    <tr>\n",
       "      <th>2</th>\n",
       "      <td>1863</td>\n",
       "      <td>64</td>\n",
       "      <td>2000</td>\n",
       "      <td>Rugrats in Paris</td>\n",
       "      <td>30000000</td>\n",
       "      <td>76501438</td>\n",
       "      <td>103284813</td>\n",
       "      <td>3.442827</td>\n",
       "    </tr>\n",
       "    <tr>\n",
       "      <th>3</th>\n",
       "      <td>324</td>\n",
       "      <td>25</td>\n",
       "      <td>2000</td>\n",
       "      <td>The Patriot</td>\n",
       "      <td>110000000</td>\n",
       "      <td>113330342</td>\n",
       "      <td>215300000</td>\n",
       "      <td>1.957273</td>\n",
       "    </tr>\n",
       "    <tr>\n",
       "      <th>4</th>\n",
       "      <td>3891</td>\n",
       "      <td>92</td>\n",
       "      <td>2000</td>\n",
       "      <td>American Psycho</td>\n",
       "      <td>8000000</td>\n",
       "      <td>15070285</td>\n",
       "      <td>34270285</td>\n",
       "      <td>4.283786</td>\n",
       "    </tr>\n",
       "  </tbody>\n",
       "</table>\n",
       "</div>"
      ],
      "text/plain": [
       "   Unnamed: 0  id  year             movie  production_budget  domestic_gross  \\\n",
       "0        5288  89  2000      The Specials            1000000           12996   \n",
       "1        3308   9  2000         The Claim           13000000          622023   \n",
       "2        1863  64  2000  Rugrats in Paris           30000000        76501438   \n",
       "3         324  25  2000       The Patriot          110000000       113330342   \n",
       "4        3891  92  2000   American Psycho            8000000        15070285   \n",
       "\n",
       "   total_gross  profitability  \n",
       "0        12996       0.012996  \n",
       "1      1375635       0.105818  \n",
       "2    103284813       3.442827  \n",
       "3    215300000       1.957273  \n",
       "4     34270285       4.283786  "
      ]
     },
     "execution_count": 28,
     "metadata": {},
     "output_type": "execute_result"
    }
   ],
   "source": [
    "numbers = pd.read_csv('Cleaned Data/cleaned_tn-movie-budgets.csv')\n",
    "numbers.head()"
   ]
  },
  {
   "cell_type": "code",
   "execution_count": 29,
   "metadata": {},
   "outputs": [],
   "source": [
    "numbers.drop(['Unnamed: 0'], axis=1, inplace=True)"
   ]
  },
  {
   "cell_type": "code",
   "execution_count": 82,
   "metadata": {},
   "outputs": [
    {
     "data": {
      "text/plain": [
       "(4387, 7)"
      ]
     },
     "execution_count": 82,
     "metadata": {},
     "output_type": "execute_result"
    }
   ],
   "source": [
    "numbers.shape"
   ]
  },
  {
   "cell_type": "code",
   "execution_count": 81,
   "metadata": {
    "scrolled": true
   },
   "outputs": [
    {
     "data": {
      "text/plain": [
       "0             342\n",
       "70958           1\n",
       "116025023       1\n",
       "406299          1\n",
       "38329114        1\n",
       "             ... \n",
       "426351163       1\n",
       "1034727750      1\n",
       "1518722794      1\n",
       "402231063       1\n",
       "38899792        1\n",
       "Name: total_gross, Length: 4046, dtype: int64"
      ]
     },
     "execution_count": 81,
     "metadata": {},
     "output_type": "execute_result"
    }
   ],
   "source": [
    "numbers.total_gross.value_counts()"
   ]
  },
  {
   "cell_type": "code",
   "execution_count": 87,
   "metadata": {
    "scrolled": true
   },
   "outputs": [
    {
     "name": "stdout",
     "output_type": "stream",
     "text": [
      "<class 'pandas.core.frame.DataFrame'>\n",
      "Int64Index: 2451 entries, 0 to 2450\n",
      "Data columns (total 17 columns):\n",
      " #   Column             Non-Null Count  Dtype  \n",
      "---  ------             --------------  -----  \n",
      " 0   Unnamed: 0         2451 non-null   int64  \n",
      " 1   tmdb_id            2451 non-null   float64\n",
      " 2   imdb_id            2451 non-null   object \n",
      " 3   title              2451 non-null   object \n",
      " 4   genre              2451 non-null   object \n",
      " 5   studio             2451 non-null   object \n",
      " 6   budget             2451 non-null   float64\n",
      " 7   revenue            2451 non-null   float64\n",
      " 8   tmdb_rating        2451 non-null   float64\n",
      " 9   tmdb_num_votes     2451 non-null   float64\n",
      " 10  id                 2451 non-null   int64  \n",
      " 11  year               2451 non-null   int64  \n",
      " 12  movie              2451 non-null   object \n",
      " 13  production_budget  2451 non-null   int64  \n",
      " 14  domestic_gross     2451 non-null   int64  \n",
      " 15  total_gross        2451 non-null   int64  \n",
      " 16  profitability      2451 non-null   float64\n",
      "dtypes: float64(6), int64(6), object(5)\n",
      "memory usage: 344.7+ KB\n"
     ]
    }
   ],
   "source": [
    "df_merged = pd.merge(df, numbers, left_on='title',  right_on='movie', how='inner')\n",
    "df_merged.info()"
   ]
  },
  {
   "cell_type": "code",
   "execution_count": 88,
   "metadata": {},
   "outputs": [],
   "source": [
    "df_merged.drop(['budget', 'revenue', 'id', 'year', 'movie'], axis=1, inplace=True)"
   ]
  },
  {
   "cell_type": "code",
   "execution_count": 89,
   "metadata": {
    "scrolled": true
   },
   "outputs": [],
   "source": [
    "df_merged.drop(['Unnamed: 0'], axis=1, inplace=True)"
   ]
  },
  {
   "cell_type": "code",
   "execution_count": 90,
   "metadata": {
    "scrolled": true
   },
   "outputs": [
    {
     "data": {
      "text/html": [
       "<div>\n",
       "<style scoped>\n",
       "    .dataframe tbody tr th:only-of-type {\n",
       "        vertical-align: middle;\n",
       "    }\n",
       "\n",
       "    .dataframe tbody tr th {\n",
       "        vertical-align: top;\n",
       "    }\n",
       "\n",
       "    .dataframe thead th {\n",
       "        text-align: right;\n",
       "    }\n",
       "</style>\n",
       "<table border=\"1\" class=\"dataframe\">\n",
       "  <thead>\n",
       "    <tr style=\"text-align: right;\">\n",
       "      <th></th>\n",
       "      <th>tmdb_id</th>\n",
       "      <th>imdb_id</th>\n",
       "      <th>title</th>\n",
       "      <th>genre</th>\n",
       "      <th>studio</th>\n",
       "      <th>tmdb_rating</th>\n",
       "      <th>tmdb_num_votes</th>\n",
       "      <th>production_budget</th>\n",
       "      <th>domestic_gross</th>\n",
       "      <th>total_gross</th>\n",
       "      <th>profitability</th>\n",
       "    </tr>\n",
       "  </thead>\n",
       "  <tbody>\n",
       "    <tr>\n",
       "      <th>0</th>\n",
       "      <td>44639.0</td>\n",
       "      <td>tt1645089</td>\n",
       "      <td>Inside Job</td>\n",
       "      <td>['Documentary']</td>\n",
       "      <td>['Sony Pictures']</td>\n",
       "      <td>7.7</td>\n",
       "      <td>586.0</td>\n",
       "      <td>2000000</td>\n",
       "      <td>4311834</td>\n",
       "      <td>7799257</td>\n",
       "      <td>3.899629</td>\n",
       "    </tr>\n",
       "    <tr>\n",
       "      <th>1</th>\n",
       "      <td>59015.0</td>\n",
       "      <td>tt1646127</td>\n",
       "      <td>Lights Out</td>\n",
       "      <td>['Drama', 'Mystery', 'Thriller']</td>\n",
       "      <td>['Diaphana Films', 'Région Ile-de-France', 'CN...</td>\n",
       "      <td>6.2</td>\n",
       "      <td>32.0</td>\n",
       "      <td>5000000</td>\n",
       "      <td>67268835</td>\n",
       "      <td>148806510</td>\n",
       "      <td>29.761302</td>\n",
       "    </tr>\n",
       "    <tr>\n",
       "      <th>2</th>\n",
       "      <td>345911.0</td>\n",
       "      <td>tt4786282</td>\n",
       "      <td>Lights Out</td>\n",
       "      <td>['Thriller', 'Mystery', 'Horror', 'Drama']</td>\n",
       "      <td>['Atomic Monster', 'New Line Productions', 'Ma...</td>\n",
       "      <td>6.3</td>\n",
       "      <td>2747.0</td>\n",
       "      <td>5000000</td>\n",
       "      <td>67268835</td>\n",
       "      <td>148806510</td>\n",
       "      <td>29.761302</td>\n",
       "    </tr>\n",
       "    <tr>\n",
       "      <th>3</th>\n",
       "      <td>77934.0</td>\n",
       "      <td>tt1640714</td>\n",
       "      <td>The Christmas Bunny</td>\n",
       "      <td>['Drama', 'Family']</td>\n",
       "      <td>['Honey Creek Pictures']</td>\n",
       "      <td>5.9</td>\n",
       "      <td>14.0</td>\n",
       "      <td>250000</td>\n",
       "      <td>0</td>\n",
       "      <td>0</td>\n",
       "      <td>0.000000</td>\n",
       "    </tr>\n",
       "    <tr>\n",
       "      <th>4</th>\n",
       "      <td>510578.0</td>\n",
       "      <td>tt1627937</td>\n",
       "      <td>The Journey</td>\n",
       "      <td>['Family']</td>\n",
       "      <td>['QOA Entertainment', 'DesertRock Entertainment']</td>\n",
       "      <td>0.0</td>\n",
       "      <td>0.0</td>\n",
       "      <td>500000</td>\n",
       "      <td>19800</td>\n",
       "      <td>19800</td>\n",
       "      <td>0.039600</td>\n",
       "    </tr>\n",
       "  </tbody>\n",
       "</table>\n",
       "</div>"
      ],
      "text/plain": [
       "    tmdb_id    imdb_id                title  \\\n",
       "0   44639.0  tt1645089           Inside Job   \n",
       "1   59015.0  tt1646127           Lights Out   \n",
       "2  345911.0  tt4786282           Lights Out   \n",
       "3   77934.0  tt1640714  The Christmas Bunny   \n",
       "4  510578.0  tt1627937          The Journey   \n",
       "\n",
       "                                        genre  \\\n",
       "0                             ['Documentary']   \n",
       "1            ['Drama', 'Mystery', 'Thriller']   \n",
       "2  ['Thriller', 'Mystery', 'Horror', 'Drama']   \n",
       "3                         ['Drama', 'Family']   \n",
       "4                                  ['Family']   \n",
       "\n",
       "                                              studio  tmdb_rating  \\\n",
       "0                                  ['Sony Pictures']          7.7   \n",
       "1  ['Diaphana Films', 'Région Ile-de-France', 'CN...          6.2   \n",
       "2  ['Atomic Monster', 'New Line Productions', 'Ma...          6.3   \n",
       "3                           ['Honey Creek Pictures']          5.9   \n",
       "4  ['QOA Entertainment', 'DesertRock Entertainment']          0.0   \n",
       "\n",
       "   tmdb_num_votes  production_budget  domestic_gross  total_gross  \\\n",
       "0           586.0            2000000         4311834      7799257   \n",
       "1            32.0            5000000        67268835    148806510   \n",
       "2          2747.0            5000000        67268835    148806510   \n",
       "3            14.0             250000               0            0   \n",
       "4             0.0             500000           19800        19800   \n",
       "\n",
       "   profitability  \n",
       "0       3.899629  \n",
       "1      29.761302  \n",
       "2      29.761302  \n",
       "3       0.000000  \n",
       "4       0.039600  "
      ]
     },
     "execution_count": 90,
     "metadata": {},
     "output_type": "execute_result"
    }
   ],
   "source": [
    "df_merged.head()"
   ]
  },
  {
   "cell_type": "code",
   "execution_count": 140,
   "metadata": {},
   "outputs": [
    {
     "data": {
      "text/plain": [
       "0            367\n",
       "177397510     10\n",
       "15433         10\n",
       "656688         8\n",
       "28544157       8\n",
       "            ... \n",
       "8110621        1\n",
       "246305         1\n",
       "85710210       1\n",
       "229024295      1\n",
       "10219501       1\n",
       "Name: domestic_gross, Length: 1687, dtype: int64"
      ]
     },
     "execution_count": 140,
     "metadata": {},
     "output_type": "execute_result"
    }
   ],
   "source": [
    "df_merged.domestic_gross.value_counts()"
   ]
  },
  {
   "cell_type": "code",
   "execution_count": 98,
   "metadata": {},
   "outputs": [
    {
     "data": {
      "text/plain": [
       "(252, 11)"
      ]
     },
     "execution_count": 98,
     "metadata": {},
     "output_type": "execute_result"
    }
   ],
   "source": [
    "df_merged_zero_rev = df_merged[df_merged['total_gross']==0]\n",
    "df_merged_zero_rev.shape"
   ]
  },
  {
   "cell_type": "markdown",
   "metadata": {},
   "source": [
    "There are 252 missing values for total gross in The numbers dataset, so we're going to see if we can fill in any of these values with the BOM dataset."
   ]
  },
  {
   "cell_type": "code",
   "execution_count": 92,
   "metadata": {},
   "outputs": [
    {
     "data": {
      "text/html": [
       "<div>\n",
       "<style scoped>\n",
       "    .dataframe tbody tr th:only-of-type {\n",
       "        vertical-align: middle;\n",
       "    }\n",
       "\n",
       "    .dataframe tbody tr th {\n",
       "        vertical-align: top;\n",
       "    }\n",
       "\n",
       "    .dataframe thead th {\n",
       "        text-align: right;\n",
       "    }\n",
       "</style>\n",
       "<table border=\"1\" class=\"dataframe\">\n",
       "  <thead>\n",
       "    <tr style=\"text-align: right;\">\n",
       "      <th></th>\n",
       "      <th>Unnamed: 0</th>\n",
       "      <th>title</th>\n",
       "      <th>studio</th>\n",
       "      <th>domestic_gross</th>\n",
       "      <th>foreign_gross</th>\n",
       "      <th>year</th>\n",
       "      <th>total_gross</th>\n",
       "    </tr>\n",
       "  </thead>\n",
       "  <tbody>\n",
       "    <tr>\n",
       "      <th>0</th>\n",
       "      <td>0</td>\n",
       "      <td>Toy Story 3</td>\n",
       "      <td>BV</td>\n",
       "      <td>415000000.0</td>\n",
       "      <td>652000000.0</td>\n",
       "      <td>2010</td>\n",
       "      <td>1.067000e+09</td>\n",
       "    </tr>\n",
       "    <tr>\n",
       "      <th>1</th>\n",
       "      <td>1</td>\n",
       "      <td>Alice in Wonderland (2010)</td>\n",
       "      <td>BV</td>\n",
       "      <td>334200000.0</td>\n",
       "      <td>691300000.0</td>\n",
       "      <td>2010</td>\n",
       "      <td>1.025500e+09</td>\n",
       "    </tr>\n",
       "    <tr>\n",
       "      <th>2</th>\n",
       "      <td>2</td>\n",
       "      <td>Harry Potter and the Deathly Hallows Part 1</td>\n",
       "      <td>WB</td>\n",
       "      <td>296000000.0</td>\n",
       "      <td>664300000.0</td>\n",
       "      <td>2010</td>\n",
       "      <td>9.603000e+08</td>\n",
       "    </tr>\n",
       "    <tr>\n",
       "      <th>3</th>\n",
       "      <td>3</td>\n",
       "      <td>Inception</td>\n",
       "      <td>WB</td>\n",
       "      <td>292600000.0</td>\n",
       "      <td>535700000.0</td>\n",
       "      <td>2010</td>\n",
       "      <td>8.283000e+08</td>\n",
       "    </tr>\n",
       "    <tr>\n",
       "      <th>4</th>\n",
       "      <td>4</td>\n",
       "      <td>Shrek Forever After</td>\n",
       "      <td>P/DW</td>\n",
       "      <td>238700000.0</td>\n",
       "      <td>513900000.0</td>\n",
       "      <td>2010</td>\n",
       "      <td>7.526000e+08</td>\n",
       "    </tr>\n",
       "  </tbody>\n",
       "</table>\n",
       "</div>"
      ],
      "text/plain": [
       "   Unnamed: 0                                        title studio  \\\n",
       "0           0                                  Toy Story 3     BV   \n",
       "1           1                   Alice in Wonderland (2010)     BV   \n",
       "2           2  Harry Potter and the Deathly Hallows Part 1     WB   \n",
       "3           3                                    Inception     WB   \n",
       "4           4                          Shrek Forever After   P/DW   \n",
       "\n",
       "   domestic_gross  foreign_gross  year   total_gross  \n",
       "0     415000000.0    652000000.0  2010  1.067000e+09  \n",
       "1     334200000.0    691300000.0  2010  1.025500e+09  \n",
       "2     296000000.0    664300000.0  2010  9.603000e+08  \n",
       "3     292600000.0    535700000.0  2010  8.283000e+08  \n",
       "4     238700000.0    513900000.0  2010  7.526000e+08  "
      ]
     },
     "execution_count": 92,
     "metadata": {},
     "output_type": "execute_result"
    }
   ],
   "source": [
    "bom_dataset = pd.read_csv('Cleaned Data/cleaned_bom-movie-gross.csv')\n",
    "bom_dataset.head()"
   ]
  },
  {
   "cell_type": "code",
   "execution_count": 99,
   "metadata": {},
   "outputs": [
    {
     "name": "stdout",
     "output_type": "stream",
     "text": [
      "(252, 17)\n"
     ]
    },
    {
     "data": {
      "text/html": [
       "<div>\n",
       "<style scoped>\n",
       "    .dataframe tbody tr th:only-of-type {\n",
       "        vertical-align: middle;\n",
       "    }\n",
       "\n",
       "    .dataframe tbody tr th {\n",
       "        vertical-align: top;\n",
       "    }\n",
       "\n",
       "    .dataframe thead th {\n",
       "        text-align: right;\n",
       "    }\n",
       "</style>\n",
       "<table border=\"1\" class=\"dataframe\">\n",
       "  <thead>\n",
       "    <tr style=\"text-align: right;\">\n",
       "      <th></th>\n",
       "      <th>tmdb_id</th>\n",
       "      <th>imdb_id</th>\n",
       "      <th>title</th>\n",
       "      <th>genre</th>\n",
       "      <th>studio_x</th>\n",
       "      <th>tmdb_rating</th>\n",
       "      <th>tmdb_num_votes</th>\n",
       "      <th>production_budget</th>\n",
       "      <th>domestic_gross_x</th>\n",
       "      <th>total_gross_x</th>\n",
       "      <th>profitability</th>\n",
       "      <th>Unnamed: 0</th>\n",
       "      <th>studio_y</th>\n",
       "      <th>domestic_gross_y</th>\n",
       "      <th>foreign_gross</th>\n",
       "      <th>year</th>\n",
       "      <th>total_gross_y</th>\n",
       "    </tr>\n",
       "  </thead>\n",
       "  <tbody>\n",
       "    <tr>\n",
       "      <th>0</th>\n",
       "      <td>77934.0</td>\n",
       "      <td>tt1640714</td>\n",
       "      <td>The Christmas Bunny</td>\n",
       "      <td>['Drama', 'Family']</td>\n",
       "      <td>['Honey Creek Pictures']</td>\n",
       "      <td>5.9</td>\n",
       "      <td>14.0</td>\n",
       "      <td>250000</td>\n",
       "      <td>0</td>\n",
       "      <td>0</td>\n",
       "      <td>0.0</td>\n",
       "      <td>NaN</td>\n",
       "      <td>NaN</td>\n",
       "      <td>NaN</td>\n",
       "      <td>NaN</td>\n",
       "      <td>NaN</td>\n",
       "      <td>NaN</td>\n",
       "    </tr>\n",
       "    <tr>\n",
       "      <th>1</th>\n",
       "      <td>272795.0</td>\n",
       "      <td>tt1675846</td>\n",
       "      <td>Checkmate</td>\n",
       "      <td>['Mystery', 'Drama']</td>\n",
       "      <td>[]</td>\n",
       "      <td>0.0</td>\n",
       "      <td>0.0</td>\n",
       "      <td>1500000</td>\n",
       "      <td>0</td>\n",
       "      <td>0</td>\n",
       "      <td>0.0</td>\n",
       "      <td>NaN</td>\n",
       "      <td>NaN</td>\n",
       "      <td>NaN</td>\n",
       "      <td>NaN</td>\n",
       "      <td>NaN</td>\n",
       "      <td>NaN</td>\n",
       "    </tr>\n",
       "    <tr>\n",
       "      <th>2</th>\n",
       "      <td>356841.0</td>\n",
       "      <td>tt3781616</td>\n",
       "      <td>Checkmate</td>\n",
       "      <td>['Thriller', 'Action', 'Crime']</td>\n",
       "      <td>['Status Media &amp; Entertainment', 'Puppy Entert...</td>\n",
       "      <td>4.0</td>\n",
       "      <td>21.0</td>\n",
       "      <td>1500000</td>\n",
       "      <td>0</td>\n",
       "      <td>0</td>\n",
       "      <td>0.0</td>\n",
       "      <td>NaN</td>\n",
       "      <td>NaN</td>\n",
       "      <td>NaN</td>\n",
       "      <td>NaN</td>\n",
       "      <td>NaN</td>\n",
       "      <td>NaN</td>\n",
       "    </tr>\n",
       "  </tbody>\n",
       "</table>\n",
       "</div>"
      ],
      "text/plain": [
       "    tmdb_id    imdb_id                title                            genre  \\\n",
       "0   77934.0  tt1640714  The Christmas Bunny              ['Drama', 'Family']   \n",
       "1  272795.0  tt1675846            Checkmate             ['Mystery', 'Drama']   \n",
       "2  356841.0  tt3781616            Checkmate  ['Thriller', 'Action', 'Crime']   \n",
       "\n",
       "                                            studio_x  tmdb_rating  \\\n",
       "0                           ['Honey Creek Pictures']          5.9   \n",
       "1                                                 []          0.0   \n",
       "2  ['Status Media & Entertainment', 'Puppy Entert...          4.0   \n",
       "\n",
       "   tmdb_num_votes  production_budget  domestic_gross_x  total_gross_x  \\\n",
       "0            14.0             250000                 0              0   \n",
       "1             0.0            1500000                 0              0   \n",
       "2            21.0            1500000                 0              0   \n",
       "\n",
       "   profitability  Unnamed: 0 studio_y  domestic_gross_y  foreign_gross  year  \\\n",
       "0            0.0         NaN      NaN               NaN            NaN   NaN   \n",
       "1            0.0         NaN      NaN               NaN            NaN   NaN   \n",
       "2            0.0         NaN      NaN               NaN            NaN   NaN   \n",
       "\n",
       "   total_gross_y  \n",
       "0            NaN  \n",
       "1            NaN  \n",
       "2            NaN  "
      ]
     },
     "execution_count": 99,
     "metadata": {},
     "output_type": "execute_result"
    }
   ],
   "source": [
    "bom_numbers = pd.merge(df_merged_zero_rev, bom_dataset, on='title', how='left')\n",
    "print(bom_numbers.shape)\n",
    "bom_numbers.head(3)"
   ]
  },
  {
   "cell_type": "code",
   "execution_count": 100,
   "metadata": {},
   "outputs": [
    {
     "name": "stdout",
     "output_type": "stream",
     "text": [
      "<class 'pandas.core.frame.DataFrame'>\n",
      "Int64Index: 252 entries, 0 to 251\n",
      "Data columns (total 17 columns):\n",
      " #   Column             Non-Null Count  Dtype  \n",
      "---  ------             --------------  -----  \n",
      " 0   tmdb_id            252 non-null    float64\n",
      " 1   imdb_id            252 non-null    object \n",
      " 2   title              252 non-null    object \n",
      " 3   genre              252 non-null    object \n",
      " 4   studio_x           252 non-null    object \n",
      " 5   tmdb_rating        252 non-null    float64\n",
      " 6   tmdb_num_votes     252 non-null    float64\n",
      " 7   production_budget  252 non-null    int64  \n",
      " 8   domestic_gross_x   252 non-null    int64  \n",
      " 9   total_gross_x      252 non-null    int64  \n",
      " 10  profitability      252 non-null    float64\n",
      " 11  Unnamed: 0         11 non-null     float64\n",
      " 12  studio_y           11 non-null     object \n",
      " 13  domestic_gross_y   11 non-null     float64\n",
      " 14  foreign_gross      11 non-null     float64\n",
      " 15  year               11 non-null     float64\n",
      " 16  total_gross_y      11 non-null     float64\n",
      "dtypes: float64(9), int64(3), object(5)\n",
      "memory usage: 35.4+ KB\n"
     ]
    }
   ],
   "source": [
    "bom_numbers.info()"
   ]
  },
  {
   "cell_type": "code",
   "execution_count": 102,
   "metadata": {},
   "outputs": [],
   "source": [
    "bom_numbers.dropna(inplace=True)"
   ]
  },
  {
   "cell_type": "code",
   "execution_count": 104,
   "metadata": {
    "scrolled": true
   },
   "outputs": [
    {
     "data": {
      "text/html": [
       "<div>\n",
       "<style scoped>\n",
       "    .dataframe tbody tr th:only-of-type {\n",
       "        vertical-align: middle;\n",
       "    }\n",
       "\n",
       "    .dataframe tbody tr th {\n",
       "        vertical-align: top;\n",
       "    }\n",
       "\n",
       "    .dataframe thead th {\n",
       "        text-align: right;\n",
       "    }\n",
       "</style>\n",
       "<table border=\"1\" class=\"dataframe\">\n",
       "  <thead>\n",
       "    <tr style=\"text-align: right;\">\n",
       "      <th></th>\n",
       "      <th>tmdb_id</th>\n",
       "      <th>imdb_id</th>\n",
       "      <th>title</th>\n",
       "      <th>genre</th>\n",
       "      <th>studio_x</th>\n",
       "      <th>tmdb_rating</th>\n",
       "      <th>tmdb_num_votes</th>\n",
       "      <th>production_budget</th>\n",
       "      <th>domestic_gross_x</th>\n",
       "      <th>total_gross_x</th>\n",
       "      <th>profitability</th>\n",
       "      <th>Unnamed: 0</th>\n",
       "      <th>studio_y</th>\n",
       "      <th>domestic_gross_y</th>\n",
       "      <th>foreign_gross</th>\n",
       "      <th>year</th>\n",
       "      <th>total_gross_y</th>\n",
       "    </tr>\n",
       "  </thead>\n",
       "  <tbody>\n",
       "    <tr>\n",
       "      <th>39</th>\n",
       "      <td>587506.0</td>\n",
       "      <td>tt1111235</td>\n",
       "      <td>Trance</td>\n",
       "      <td>['Horror']</td>\n",
       "      <td>['Louisiana Media Productions', 'Skinny Giraff...</td>\n",
       "      <td>0.0</td>\n",
       "      <td>0.0</td>\n",
       "      <td>950000</td>\n",
       "      <td>0</td>\n",
       "      <td>0</td>\n",
       "      <td>0.0</td>\n",
       "      <td>1262.0</td>\n",
       "      <td>FoxS</td>\n",
       "      <td>2300000.0</td>\n",
       "      <td>21900000.0</td>\n",
       "      <td>2013.0</td>\n",
       "      <td>24200000.0</td>\n",
       "    </tr>\n",
       "    <tr>\n",
       "      <th>40</th>\n",
       "      <td>68727.0</td>\n",
       "      <td>tt1924429</td>\n",
       "      <td>Trance</td>\n",
       "      <td>['Thriller', 'Crime', 'Drama', 'Mystery']</td>\n",
       "      <td>['Pathé!', 'Decibel Films', 'Film4 Productions...</td>\n",
       "      <td>6.6</td>\n",
       "      <td>1550.0</td>\n",
       "      <td>950000</td>\n",
       "      <td>0</td>\n",
       "      <td>0</td>\n",
       "      <td>0.0</td>\n",
       "      <td>1262.0</td>\n",
       "      <td>FoxS</td>\n",
       "      <td>2300000.0</td>\n",
       "      <td>21900000.0</td>\n",
       "      <td>2013.0</td>\n",
       "      <td>24200000.0</td>\n",
       "    </tr>\n",
       "    <tr>\n",
       "      <th>65</th>\n",
       "      <td>295180.0</td>\n",
       "      <td>tt1663708</td>\n",
       "      <td>Snitch</td>\n",
       "      <td>[]</td>\n",
       "      <td>[]</td>\n",
       "      <td>1.0</td>\n",
       "      <td>1.0</td>\n",
       "      <td>850000</td>\n",
       "      <td>0</td>\n",
       "      <td>0</td>\n",
       "      <td>0.0</td>\n",
       "      <td>1245.0</td>\n",
       "      <td>LG/S</td>\n",
       "      <td>42900000.0</td>\n",
       "      <td>0.0</td>\n",
       "      <td>2013.0</td>\n",
       "      <td>42900000.0</td>\n",
       "    </tr>\n",
       "    <tr>\n",
       "      <th>66</th>\n",
       "      <td>134411.0</td>\n",
       "      <td>tt0882977</td>\n",
       "      <td>Snitch</td>\n",
       "      <td>['Thriller', 'Drama', 'Action']</td>\n",
       "      <td>['Exclusive Media', 'Participant Media', 'Imag...</td>\n",
       "      <td>6.0</td>\n",
       "      <td>1751.0</td>\n",
       "      <td>850000</td>\n",
       "      <td>0</td>\n",
       "      <td>0</td>\n",
       "      <td>0.0</td>\n",
       "      <td>1245.0</td>\n",
       "      <td>LG/S</td>\n",
       "      <td>42900000.0</td>\n",
       "      <td>0.0</td>\n",
       "      <td>2013.0</td>\n",
       "      <td>42900000.0</td>\n",
       "    </tr>\n",
       "    <tr>\n",
       "      <th>94</th>\n",
       "      <td>96599.0</td>\n",
       "      <td>tt1734433</td>\n",
       "      <td>Eden</td>\n",
       "      <td>['Drama']</td>\n",
       "      <td>['Centripetal Films', 'Eden Productions']</td>\n",
       "      <td>6.7</td>\n",
       "      <td>133.0</td>\n",
       "      <td>2300000</td>\n",
       "      <td>0</td>\n",
       "      <td>0</td>\n",
       "      <td>0.0</td>\n",
       "      <td>2225.0</td>\n",
       "      <td>BG</td>\n",
       "      <td>65500.0</td>\n",
       "      <td>0.0</td>\n",
       "      <td>2015.0</td>\n",
       "      <td>65500.0</td>\n",
       "    </tr>\n",
       "    <tr>\n",
       "      <th>95</th>\n",
       "      <td>216337.0</td>\n",
       "      <td>tt2063641</td>\n",
       "      <td>Eden</td>\n",
       "      <td>[]</td>\n",
       "      <td>[]</td>\n",
       "      <td>0.0</td>\n",
       "      <td>0.0</td>\n",
       "      <td>2300000</td>\n",
       "      <td>0</td>\n",
       "      <td>0</td>\n",
       "      <td>0.0</td>\n",
       "      <td>2225.0</td>\n",
       "      <td>BG</td>\n",
       "      <td>65500.0</td>\n",
       "      <td>0.0</td>\n",
       "      <td>2015.0</td>\n",
       "      <td>65500.0</td>\n",
       "    </tr>\n",
       "    <tr>\n",
       "      <th>96</th>\n",
       "      <td>137530.0</td>\n",
       "      <td>tt2362758</td>\n",
       "      <td>Eden</td>\n",
       "      <td>['Drama']</td>\n",
       "      <td>['Daza Cultural']</td>\n",
       "      <td>6.5</td>\n",
       "      <td>2.0</td>\n",
       "      <td>2300000</td>\n",
       "      <td>0</td>\n",
       "      <td>0</td>\n",
       "      <td>0.0</td>\n",
       "      <td>2225.0</td>\n",
       "      <td>BG</td>\n",
       "      <td>65500.0</td>\n",
       "      <td>0.0</td>\n",
       "      <td>2015.0</td>\n",
       "      <td>65500.0</td>\n",
       "    </tr>\n",
       "    <tr>\n",
       "      <th>97</th>\n",
       "      <td>249929.0</td>\n",
       "      <td>tt2959502</td>\n",
       "      <td>Eden</td>\n",
       "      <td>['Drama']</td>\n",
       "      <td>['Gabriel Figueroa Film fund', 'Atlantis 8 Fil...</td>\n",
       "      <td>0.0</td>\n",
       "      <td>0.0</td>\n",
       "      <td>2300000</td>\n",
       "      <td>0</td>\n",
       "      <td>0</td>\n",
       "      <td>0.0</td>\n",
       "      <td>2225.0</td>\n",
       "      <td>BG</td>\n",
       "      <td>65500.0</td>\n",
       "      <td>0.0</td>\n",
       "      <td>2015.0</td>\n",
       "      <td>65500.0</td>\n",
       "    </tr>\n",
       "    <tr>\n",
       "      <th>98</th>\n",
       "      <td>283330.0</td>\n",
       "      <td>tt3090634</td>\n",
       "      <td>Eden</td>\n",
       "      <td>['Drama', 'Music']</td>\n",
       "      <td>['Ad Vitim Distribution', 'C.G. Cinema', 'Blue...</td>\n",
       "      <td>5.9</td>\n",
       "      <td>75.0</td>\n",
       "      <td>2300000</td>\n",
       "      <td>0</td>\n",
       "      <td>0</td>\n",
       "      <td>0.0</td>\n",
       "      <td>2225.0</td>\n",
       "      <td>BG</td>\n",
       "      <td>65500.0</td>\n",
       "      <td>0.0</td>\n",
       "      <td>2015.0</td>\n",
       "      <td>65500.0</td>\n",
       "    </tr>\n",
       "    <tr>\n",
       "      <th>99</th>\n",
       "      <td>360339.0</td>\n",
       "      <td>tt3032282</td>\n",
       "      <td>Eden</td>\n",
       "      <td>['Thriller', 'Drama']</td>\n",
       "      <td>['Ombra Films', 'Perlapartment Pictures', 'Gob...</td>\n",
       "      <td>5.4</td>\n",
       "      <td>32.0</td>\n",
       "      <td>2300000</td>\n",
       "      <td>0</td>\n",
       "      <td>0</td>\n",
       "      <td>0.0</td>\n",
       "      <td>2225.0</td>\n",
       "      <td>BG</td>\n",
       "      <td>65500.0</td>\n",
       "      <td>0.0</td>\n",
       "      <td>2015.0</td>\n",
       "      <td>65500.0</td>\n",
       "    </tr>\n",
       "    <tr>\n",
       "      <th>100</th>\n",
       "      <td>587829.0</td>\n",
       "      <td>tt9174880</td>\n",
       "      <td>Eden</td>\n",
       "      <td>['Drama']</td>\n",
       "      <td>[]</td>\n",
       "      <td>0.0</td>\n",
       "      <td>0.0</td>\n",
       "      <td>2300000</td>\n",
       "      <td>0</td>\n",
       "      <td>0</td>\n",
       "      <td>0.0</td>\n",
       "      <td>2225.0</td>\n",
       "      <td>BG</td>\n",
       "      <td>65500.0</td>\n",
       "      <td>0.0</td>\n",
       "      <td>2015.0</td>\n",
       "      <td>65500.0</td>\n",
       "    </tr>\n",
       "  </tbody>\n",
       "</table>\n",
       "</div>"
      ],
      "text/plain": [
       "      tmdb_id    imdb_id   title                                      genre  \\\n",
       "39   587506.0  tt1111235  Trance                                 ['Horror']   \n",
       "40    68727.0  tt1924429  Trance  ['Thriller', 'Crime', 'Drama', 'Mystery']   \n",
       "65   295180.0  tt1663708  Snitch                                         []   \n",
       "66   134411.0  tt0882977  Snitch            ['Thriller', 'Drama', 'Action']   \n",
       "94    96599.0  tt1734433    Eden                                  ['Drama']   \n",
       "95   216337.0  tt2063641    Eden                                         []   \n",
       "96   137530.0  tt2362758    Eden                                  ['Drama']   \n",
       "97   249929.0  tt2959502    Eden                                  ['Drama']   \n",
       "98   283330.0  tt3090634    Eden                         ['Drama', 'Music']   \n",
       "99   360339.0  tt3032282    Eden                      ['Thriller', 'Drama']   \n",
       "100  587829.0  tt9174880    Eden                                  ['Drama']   \n",
       "\n",
       "                                              studio_x  tmdb_rating  \\\n",
       "39   ['Louisiana Media Productions', 'Skinny Giraff...          0.0   \n",
       "40   ['Pathé!', 'Decibel Films', 'Film4 Productions...          6.6   \n",
       "65                                                  []          1.0   \n",
       "66   ['Exclusive Media', 'Participant Media', 'Imag...          6.0   \n",
       "94           ['Centripetal Films', 'Eden Productions']          6.7   \n",
       "95                                                  []          0.0   \n",
       "96                                   ['Daza Cultural']          6.5   \n",
       "97   ['Gabriel Figueroa Film fund', 'Atlantis 8 Fil...          0.0   \n",
       "98   ['Ad Vitim Distribution', 'C.G. Cinema', 'Blue...          5.9   \n",
       "99   ['Ombra Films', 'Perlapartment Pictures', 'Gob...          5.4   \n",
       "100                                                 []          0.0   \n",
       "\n",
       "     tmdb_num_votes  production_budget  domestic_gross_x  total_gross_x  \\\n",
       "39              0.0             950000                 0              0   \n",
       "40           1550.0             950000                 0              0   \n",
       "65              1.0             850000                 0              0   \n",
       "66           1751.0             850000                 0              0   \n",
       "94            133.0            2300000                 0              0   \n",
       "95              0.0            2300000                 0              0   \n",
       "96              2.0            2300000                 0              0   \n",
       "97              0.0            2300000                 0              0   \n",
       "98             75.0            2300000                 0              0   \n",
       "99             32.0            2300000                 0              0   \n",
       "100             0.0            2300000                 0              0   \n",
       "\n",
       "     profitability  Unnamed: 0 studio_y  domestic_gross_y  foreign_gross  \\\n",
       "39             0.0      1262.0     FoxS         2300000.0     21900000.0   \n",
       "40             0.0      1262.0     FoxS         2300000.0     21900000.0   \n",
       "65             0.0      1245.0     LG/S        42900000.0            0.0   \n",
       "66             0.0      1245.0     LG/S        42900000.0            0.0   \n",
       "94             0.0      2225.0       BG           65500.0            0.0   \n",
       "95             0.0      2225.0       BG           65500.0            0.0   \n",
       "96             0.0      2225.0       BG           65500.0            0.0   \n",
       "97             0.0      2225.0       BG           65500.0            0.0   \n",
       "98             0.0      2225.0       BG           65500.0            0.0   \n",
       "99             0.0      2225.0       BG           65500.0            0.0   \n",
       "100            0.0      2225.0       BG           65500.0            0.0   \n",
       "\n",
       "       year  total_gross_y  \n",
       "39   2013.0     24200000.0  \n",
       "40   2013.0     24200000.0  \n",
       "65   2013.0     42900000.0  \n",
       "66   2013.0     42900000.0  \n",
       "94   2015.0        65500.0  \n",
       "95   2015.0        65500.0  \n",
       "96   2015.0        65500.0  \n",
       "97   2015.0        65500.0  \n",
       "98   2015.0        65500.0  \n",
       "99   2015.0        65500.0  \n",
       "100  2015.0        65500.0  "
      ]
     },
     "execution_count": 104,
     "metadata": {},
     "output_type": "execute_result"
    }
   ],
   "source": [
    "bom_numbers"
   ]
  },
  {
   "cell_type": "code",
   "execution_count": 114,
   "metadata": {
    "scrolled": true
   },
   "outputs": [
    {
     "data": {
      "text/html": [
       "<div>\n",
       "<style scoped>\n",
       "    .dataframe tbody tr th:only-of-type {\n",
       "        vertical-align: middle;\n",
       "    }\n",
       "\n",
       "    .dataframe tbody tr th {\n",
       "        vertical-align: top;\n",
       "    }\n",
       "\n",
       "    .dataframe thead th {\n",
       "        text-align: right;\n",
       "    }\n",
       "</style>\n",
       "<table border=\"1\" class=\"dataframe\">\n",
       "  <thead>\n",
       "    <tr style=\"text-align: right;\">\n",
       "      <th></th>\n",
       "      <th>tmdb_id</th>\n",
       "      <th>imdb_id</th>\n",
       "      <th>title</th>\n",
       "      <th>genre</th>\n",
       "      <th>studio_x</th>\n",
       "      <th>tmdb_rating</th>\n",
       "      <th>tmdb_num_votes</th>\n",
       "      <th>production_budget</th>\n",
       "      <th>domestic_gross_x</th>\n",
       "      <th>total_gross_x</th>\n",
       "      <th>profitability</th>\n",
       "      <th>Unnamed: 0</th>\n",
       "      <th>studio_y</th>\n",
       "      <th>domestic_gross_y</th>\n",
       "      <th>foreign_gross</th>\n",
       "      <th>year</th>\n",
       "      <th>total_gross_y</th>\n",
       "    </tr>\n",
       "  </thead>\n",
       "  <tbody>\n",
       "    <tr>\n",
       "      <th>39</th>\n",
       "      <td>587506.0</td>\n",
       "      <td>tt1111235</td>\n",
       "      <td>Trance</td>\n",
       "      <td>['Horror']</td>\n",
       "      <td>['Louisiana Media Productions', 'Skinny Giraff...</td>\n",
       "      <td>0.0</td>\n",
       "      <td>0.0</td>\n",
       "      <td>950000</td>\n",
       "      <td>2300000.0</td>\n",
       "      <td>24200000.0</td>\n",
       "      <td>0.0</td>\n",
       "      <td>1262.0</td>\n",
       "      <td>FoxS</td>\n",
       "      <td>2300000.0</td>\n",
       "      <td>21900000.0</td>\n",
       "      <td>2013.0</td>\n",
       "      <td>24200000.0</td>\n",
       "    </tr>\n",
       "    <tr>\n",
       "      <th>40</th>\n",
       "      <td>68727.0</td>\n",
       "      <td>tt1924429</td>\n",
       "      <td>Trance</td>\n",
       "      <td>['Thriller', 'Crime', 'Drama', 'Mystery']</td>\n",
       "      <td>['Pathé!', 'Decibel Films', 'Film4 Productions...</td>\n",
       "      <td>6.6</td>\n",
       "      <td>1550.0</td>\n",
       "      <td>950000</td>\n",
       "      <td>2300000.0</td>\n",
       "      <td>24200000.0</td>\n",
       "      <td>0.0</td>\n",
       "      <td>1262.0</td>\n",
       "      <td>FoxS</td>\n",
       "      <td>2300000.0</td>\n",
       "      <td>21900000.0</td>\n",
       "      <td>2013.0</td>\n",
       "      <td>24200000.0</td>\n",
       "    </tr>\n",
       "    <tr>\n",
       "      <th>65</th>\n",
       "      <td>295180.0</td>\n",
       "      <td>tt1663708</td>\n",
       "      <td>Snitch</td>\n",
       "      <td>[]</td>\n",
       "      <td>[]</td>\n",
       "      <td>1.0</td>\n",
       "      <td>1.0</td>\n",
       "      <td>850000</td>\n",
       "      <td>42900000.0</td>\n",
       "      <td>42900000.0</td>\n",
       "      <td>0.0</td>\n",
       "      <td>1245.0</td>\n",
       "      <td>LG/S</td>\n",
       "      <td>42900000.0</td>\n",
       "      <td>0.0</td>\n",
       "      <td>2013.0</td>\n",
       "      <td>42900000.0</td>\n",
       "    </tr>\n",
       "    <tr>\n",
       "      <th>66</th>\n",
       "      <td>134411.0</td>\n",
       "      <td>tt0882977</td>\n",
       "      <td>Snitch</td>\n",
       "      <td>['Thriller', 'Drama', 'Action']</td>\n",
       "      <td>['Exclusive Media', 'Participant Media', 'Imag...</td>\n",
       "      <td>6.0</td>\n",
       "      <td>1751.0</td>\n",
       "      <td>850000</td>\n",
       "      <td>42900000.0</td>\n",
       "      <td>42900000.0</td>\n",
       "      <td>0.0</td>\n",
       "      <td>1245.0</td>\n",
       "      <td>LG/S</td>\n",
       "      <td>42900000.0</td>\n",
       "      <td>0.0</td>\n",
       "      <td>2013.0</td>\n",
       "      <td>42900000.0</td>\n",
       "    </tr>\n",
       "    <tr>\n",
       "      <th>94</th>\n",
       "      <td>96599.0</td>\n",
       "      <td>tt1734433</td>\n",
       "      <td>Eden</td>\n",
       "      <td>['Drama']</td>\n",
       "      <td>['Centripetal Films', 'Eden Productions']</td>\n",
       "      <td>6.7</td>\n",
       "      <td>133.0</td>\n",
       "      <td>2300000</td>\n",
       "      <td>65500.0</td>\n",
       "      <td>65500.0</td>\n",
       "      <td>0.0</td>\n",
       "      <td>2225.0</td>\n",
       "      <td>BG</td>\n",
       "      <td>65500.0</td>\n",
       "      <td>0.0</td>\n",
       "      <td>2015.0</td>\n",
       "      <td>65500.0</td>\n",
       "    </tr>\n",
       "  </tbody>\n",
       "</table>\n",
       "</div>"
      ],
      "text/plain": [
       "     tmdb_id    imdb_id   title                                      genre  \\\n",
       "39  587506.0  tt1111235  Trance                                 ['Horror']   \n",
       "40   68727.0  tt1924429  Trance  ['Thriller', 'Crime', 'Drama', 'Mystery']   \n",
       "65  295180.0  tt1663708  Snitch                                         []   \n",
       "66  134411.0  tt0882977  Snitch            ['Thriller', 'Drama', 'Action']   \n",
       "94   96599.0  tt1734433    Eden                                  ['Drama']   \n",
       "\n",
       "                                             studio_x  tmdb_rating  \\\n",
       "39  ['Louisiana Media Productions', 'Skinny Giraff...          0.0   \n",
       "40  ['Pathé!', 'Decibel Films', 'Film4 Productions...          6.6   \n",
       "65                                                 []          1.0   \n",
       "66  ['Exclusive Media', 'Participant Media', 'Imag...          6.0   \n",
       "94          ['Centripetal Films', 'Eden Productions']          6.7   \n",
       "\n",
       "    tmdb_num_votes  production_budget  domestic_gross_x  total_gross_x  \\\n",
       "39             0.0             950000         2300000.0     24200000.0   \n",
       "40          1550.0             950000         2300000.0     24200000.0   \n",
       "65             1.0             850000        42900000.0     42900000.0   \n",
       "66          1751.0             850000        42900000.0     42900000.0   \n",
       "94           133.0            2300000           65500.0        65500.0   \n",
       "\n",
       "    profitability  Unnamed: 0 studio_y  domestic_gross_y  foreign_gross  \\\n",
       "39            0.0      1262.0     FoxS         2300000.0     21900000.0   \n",
       "40            0.0      1262.0     FoxS         2300000.0     21900000.0   \n",
       "65            0.0      1245.0     LG/S        42900000.0            0.0   \n",
       "66            0.0      1245.0     LG/S        42900000.0            0.0   \n",
       "94            0.0      2225.0       BG           65500.0            0.0   \n",
       "\n",
       "      year  total_gross_y  \n",
       "39  2013.0     24200000.0  \n",
       "40  2013.0     24200000.0  \n",
       "65  2013.0     42900000.0  \n",
       "66  2013.0     42900000.0  \n",
       "94  2015.0        65500.0  "
      ]
     },
     "execution_count": 114,
     "metadata": {},
     "output_type": "execute_result"
    }
   ],
   "source": [
    "bom_numbers.domestic_gross_x = bom_numbers.domestic_gross_y\n",
    "bom_numbers.total_gross_x = bom_numbers.total_gross_y\n",
    "bom_numbers.head()"
   ]
  },
  {
   "cell_type": "code",
   "execution_count": 115,
   "metadata": {
    "scrolled": true
   },
   "outputs": [
    {
     "data": {
      "text/plain": [
       "Index(['tmdb_id', 'imdb_id', 'title', 'genre', 'studio_x', 'tmdb_rating',\n",
       "       'tmdb_num_votes', 'production_budget', 'domestic_gross_x',\n",
       "       'total_gross_x', 'profitability'],\n",
       "      dtype='object')"
      ]
     },
     "execution_count": 115,
     "metadata": {},
     "output_type": "execute_result"
    }
   ],
   "source": [
    "bom_numbers.drop(['Unnamed: 0', 'studio_y', 'domestic_gross_y', 'foreign_gross', 'year', 'total_gross_y'], axis=1, inplace=True)\n",
    "bom_numbers.columns"
   ]
  },
  {
   "cell_type": "code",
   "execution_count": 120,
   "metadata": {},
   "outputs": [
    {
     "data": {
      "text/plain": [
       "Index(['tmdb_id', 'imdb_id', 'title', 'genre', 'studio', 'tmdb_rating',\n",
       "       'tmdb_num_votes', 'production_budget', 'domestic_gross', 'total_gross',\n",
       "       'profitability'],\n",
       "      dtype='object')"
      ]
     },
     "execution_count": 120,
     "metadata": {},
     "output_type": "execute_result"
    }
   ],
   "source": [
    "bom_numbers = bom_numbers.rename(columns={'studio_x': 'studio', 'domestic_gross_x': 'domestic_gross', 'total_gross_x': 'total_gross'})\n",
    "bom_numbers.columns"
   ]
  },
  {
   "cell_type": "code",
   "execution_count": 121,
   "metadata": {},
   "outputs": [
    {
     "data": {
      "text/plain": [
       "(11, 11)"
      ]
     },
     "execution_count": 121,
     "metadata": {},
     "output_type": "execute_result"
    }
   ],
   "source": [
    "bom_numbers.shape"
   ]
  },
  {
   "cell_type": "code",
   "execution_count": 127,
   "metadata": {},
   "outputs": [
    {
     "data": {
      "text/plain": [
       "39     587506.0\n",
       "40      68727.0\n",
       "65     295180.0\n",
       "66     134411.0\n",
       "94      96599.0\n",
       "95     216337.0\n",
       "96     137530.0\n",
       "97     249929.0\n",
       "98     283330.0\n",
       "99     360339.0\n",
       "100    587829.0\n",
       "Name: tmdb_id, dtype: float64"
      ]
     },
     "execution_count": 127,
     "metadata": {},
     "output_type": "execute_result"
    }
   ],
   "source": [
    "bom_numbers.tmdb_id"
   ]
  },
  {
   "cell_type": "markdown",
   "metadata": {},
   "source": [
    "We were able to fill in missing values for domestic gross revenue with values found in the BOM dataset. We were only able to do this for 11 of the 252 missing values. We'll now remove all cells where total gross revenue is equal to zero."
   ]
  },
  {
   "cell_type": "code",
   "execution_count": 141,
   "metadata": {},
   "outputs": [
    {
     "data": {
      "text/plain": [
       "(2199, 11)"
      ]
     },
     "execution_count": 141,
     "metadata": {},
     "output_type": "execute_result"
    }
   ],
   "source": [
    "df_merged = df_merged[df_merged['total_gross']!=0]\n",
    "df_merged.shape"
   ]
  },
  {
   "cell_type": "code",
   "execution_count": 143,
   "metadata": {
    "scrolled": true
   },
   "outputs": [
    {
     "name": "stdout",
     "output_type": "stream",
     "text": [
      "<class 'pandas.core.frame.DataFrame'>\n",
      "Int64Index: 2210 entries, 0 to 100\n",
      "Data columns (total 11 columns):\n",
      " #   Column             Non-Null Count  Dtype  \n",
      "---  ------             --------------  -----  \n",
      " 0   tmdb_id            2210 non-null   float64\n",
      " 1   imdb_id            2210 non-null   object \n",
      " 2   title              2210 non-null   object \n",
      " 3   genre              2210 non-null   object \n",
      " 4   studio             2210 non-null   object \n",
      " 5   tmdb_rating        2210 non-null   float64\n",
      " 6   tmdb_num_votes     2210 non-null   float64\n",
      " 7   production_budget  2210 non-null   int64  \n",
      " 8   domestic_gross     2210 non-null   float64\n",
      " 9   total_gross        2210 non-null   float64\n",
      " 10  profitability      2210 non-null   float64\n",
      "dtypes: float64(6), int64(1), object(4)\n",
      "memory usage: 207.2+ KB\n"
     ]
    }
   ],
   "source": [
    "df_final = pd.concat([df_merged, bom_numbers])\n",
    "df_final.info()"
   ]
  },
  {
   "cell_type": "code",
   "execution_count": 146,
   "metadata": {
    "scrolled": true
   },
   "outputs": [
    {
     "data": {
      "text/plain": [
       "385997896.0    10\n",
       "44793168.0     10\n",
       "17856688.0      8\n",
       "5953886.0       8\n",
       "45043870.0      8\n",
       "               ..\n",
       "677923379.0     1\n",
       "115149422.0     1\n",
       "128256712.0     1\n",
       "18733666.0      1\n",
       "3632.0          1\n",
       "Name: total_gross, Length: 1772, dtype: int64"
      ]
     },
     "execution_count": 146,
     "metadata": {},
     "output_type": "execute_result"
    }
   ],
   "source": [
    "df_final.total_gross.value_counts()"
   ]
  },
  {
   "cell_type": "code",
   "execution_count": 147,
   "metadata": {},
   "outputs": [],
   "source": [
    "df_final.to_csv('Cleaned Data/cleaned_tmdb-num-bom.csv')"
   ]
  },
  {
   "cell_type": "markdown",
   "metadata": {},
   "source": [
    "### What if we had merged with BOM instead of numbers?"
   ]
  },
  {
   "cell_type": "code",
   "execution_count": 107,
   "metadata": {},
   "outputs": [
    {
     "name": "stdout",
     "output_type": "stream",
     "text": [
      "<class 'pandas.core.frame.DataFrame'>\n",
      "Int64Index: 2965 entries, 0 to 2964\n",
      "Data columns (total 16 columns):\n",
      " #   Column          Non-Null Count  Dtype  \n",
      "---  ------          --------------  -----  \n",
      " 0   Unnamed: 0_x    2965 non-null   int64  \n",
      " 1   tmdb_id         2965 non-null   float64\n",
      " 2   imdb_id         2965 non-null   object \n",
      " 3   title           2965 non-null   object \n",
      " 4   genre           2965 non-null   object \n",
      " 5   studio_x        2965 non-null   object \n",
      " 6   budget          2965 non-null   float64\n",
      " 7   revenue         2965 non-null   float64\n",
      " 8   tmdb_rating     2965 non-null   float64\n",
      " 9   tmdb_num_votes  2965 non-null   float64\n",
      " 10  Unnamed: 0_y    2965 non-null   int64  \n",
      " 11  studio_y        2965 non-null   object \n",
      " 12  domestic_gross  2965 non-null   float64\n",
      " 13  foreign_gross   2965 non-null   float64\n",
      " 14  year            2965 non-null   int64  \n",
      " 15  total_gross     2965 non-null   float64\n",
      "dtypes: float64(8), int64(3), object(5)\n",
      "memory usage: 393.8+ KB\n"
     ]
    }
   ],
   "source": [
    "df_merged_bom = pd.merge(df, bom_dataset, on='title', how='inner')\n",
    "df_merged_bom.info()"
   ]
  },
  {
   "cell_type": "markdown",
   "metadata": {},
   "source": [
    "We chose against using BOM becasue it does not include prodction budget."
   ]
  },
  {
   "cell_type": "code",
   "execution_count": null,
   "metadata": {},
   "outputs": [],
   "source": []
  }
 ],
 "metadata": {
  "kernelspec": {
   "display_name": "Python 3",
   "language": "python",
   "name": "python3"
  },
  "language_info": {
   "codemirror_mode": {
    "name": "ipython",
    "version": 3
   },
   "file_extension": ".py",
   "mimetype": "text/x-python",
   "name": "python",
   "nbconvert_exporter": "python",
   "pygments_lexer": "ipython3",
   "version": "3.8.3"
  }
 },
 "nbformat": 4,
 "nbformat_minor": 4
}

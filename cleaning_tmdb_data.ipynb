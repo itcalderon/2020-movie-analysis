{
 "cells": [
  {
   "cell_type": "code",
   "execution_count": 1,
   "metadata": {},
   "outputs": [
    {
     "name": "stdout",
     "output_type": "stream",
     "text": [
      "  JamBranch\u001b[m\r\n",
      "* \u001b[32mexploringTMDBdata\u001b[m\r\n",
      "  master\u001b[m\r\n"
     ]
    }
   ],
   "source": [
    "!git branch"
   ]
  },
  {
   "cell_type": "code",
   "execution_count": 2,
   "metadata": {},
   "outputs": [],
   "source": [
    "import pandas as pd\n",
    "import numpy as np"
   ]
  },
  {
   "cell_type": "code",
   "execution_count": 4,
   "metadata": {},
   "outputs": [
    {
     "name": "stdout",
     "output_type": "stream",
     "text": [
      "(59429, 10)\n"
     ]
    },
    {
     "data": {
      "text/html": [
       "<div>\n",
       "<style scoped>\n",
       "    .dataframe tbody tr th:only-of-type {\n",
       "        vertical-align: middle;\n",
       "    }\n",
       "\n",
       "    .dataframe tbody tr th {\n",
       "        vertical-align: top;\n",
       "    }\n",
       "\n",
       "    .dataframe thead th {\n",
       "        text-align: right;\n",
       "    }\n",
       "</style>\n",
       "<table border=\"1\" class=\"dataframe\">\n",
       "  <thead>\n",
       "    <tr style=\"text-align: right;\">\n",
       "      <th></th>\n",
       "      <th>Unnamed: 0</th>\n",
       "      <th>tmdb_id</th>\n",
       "      <th>imdb_id</th>\n",
       "      <th>title</th>\n",
       "      <th>genre</th>\n",
       "      <th>studio</th>\n",
       "      <th>budget</th>\n",
       "      <th>revenue</th>\n",
       "      <th>tmdb_rating</th>\n",
       "      <th>tmdb_num_votes</th>\n",
       "    </tr>\n",
       "  </thead>\n",
       "  <tbody>\n",
       "    <tr>\n",
       "      <th>0</th>\n",
       "      <td>0</td>\n",
       "      <td>44155.0</td>\n",
       "      <td>tt1612608</td>\n",
       "      <td>The Italian</td>\n",
       "      <td>['Comedy']</td>\n",
       "      <td>['Eskwad', 'Pathé!', 'M6 Films', 'Canal+']</td>\n",
       "      <td>0.0</td>\n",
       "      <td>0.0</td>\n",
       "      <td>5.3</td>\n",
       "      <td>144.0</td>\n",
       "    </tr>\n",
       "    <tr>\n",
       "      <th>1</th>\n",
       "      <td>1</td>\n",
       "      <td>642129.0</td>\n",
       "      <td>tt1718842</td>\n",
       "      <td>Nakalnya Anak Muda</td>\n",
       "      <td>['Horror', 'Drama', 'Thriller']</td>\n",
       "      <td>['Mitra Pictures']</td>\n",
       "      <td>0.0</td>\n",
       "      <td>0.0</td>\n",
       "      <td>0.0</td>\n",
       "      <td>0.0</td>\n",
       "    </tr>\n",
       "    <tr>\n",
       "      <th>2</th>\n",
       "      <td>2</td>\n",
       "      <td>69237.0</td>\n",
       "      <td>tt1645134</td>\n",
       "      <td>Sandcastle</td>\n",
       "      <td>['Drama']</td>\n",
       "      <td>[]</td>\n",
       "      <td>0.0</td>\n",
       "      <td>0.0</td>\n",
       "      <td>6.0</td>\n",
       "      <td>4.0</td>\n",
       "    </tr>\n",
       "    <tr>\n",
       "      <th>3</th>\n",
       "      <td>3</td>\n",
       "      <td>46249.0</td>\n",
       "      <td>tt1645129</td>\n",
       "      <td>Planzet</td>\n",
       "      <td>['Animation', 'Action', 'Science Fiction']</td>\n",
       "      <td>['CoMix Wave Films', 'Media Factory']</td>\n",
       "      <td>0.0</td>\n",
       "      <td>0.0</td>\n",
       "      <td>6.2</td>\n",
       "      <td>5.0</td>\n",
       "    </tr>\n",
       "    <tr>\n",
       "      <th>4</th>\n",
       "      <td>4</td>\n",
       "      <td>347635.0</td>\n",
       "      <td>tt1645115</td>\n",
       "      <td>Naica</td>\n",
       "      <td>[]</td>\n",
       "      <td>[]</td>\n",
       "      <td>0.0</td>\n",
       "      <td>0.0</td>\n",
       "      <td>0.0</td>\n",
       "      <td>0.0</td>\n",
       "    </tr>\n",
       "  </tbody>\n",
       "</table>\n",
       "</div>"
      ],
      "text/plain": [
       "   Unnamed: 0   tmdb_id    imdb_id               title  \\\n",
       "0           0   44155.0  tt1612608         The Italian   \n",
       "1           1  642129.0  tt1718842  Nakalnya Anak Muda   \n",
       "2           2   69237.0  tt1645134          Sandcastle   \n",
       "3           3   46249.0  tt1645129             Planzet   \n",
       "4           4  347635.0  tt1645115               Naica   \n",
       "\n",
       "                                        genre  \\\n",
       "0                                  ['Comedy']   \n",
       "1             ['Horror', 'Drama', 'Thriller']   \n",
       "2                                   ['Drama']   \n",
       "3  ['Animation', 'Action', 'Science Fiction']   \n",
       "4                                          []   \n",
       "\n",
       "                                       studio  budget  revenue  tmdb_rating  \\\n",
       "0  ['Eskwad', 'Pathé!', 'M6 Films', 'Canal+']     0.0      0.0          5.3   \n",
       "1                          ['Mitra Pictures']     0.0      0.0          0.0   \n",
       "2                                          []     0.0      0.0          6.0   \n",
       "3       ['CoMix Wave Films', 'Media Factory']     0.0      0.0          6.2   \n",
       "4                                          []     0.0      0.0          0.0   \n",
       "\n",
       "   tmdb_num_votes  \n",
       "0           144.0  \n",
       "1             0.0  \n",
       "2             4.0  \n",
       "3             5.0  \n",
       "4             0.0  "
      ]
     },
     "execution_count": 4,
     "metadata": {},
     "output_type": "execute_result"
    }
   ],
   "source": [
    "df = pd.read_csv('Data/tmdb_api_data.csv')\n",
    "print(df.shape)\n",
    "df.head()"
   ]
  },
  {
   "cell_type": "code",
   "execution_count": 18,
   "metadata": {},
   "outputs": [
    {
     "name": "stdout",
     "output_type": "stream",
     "text": [
      "<class 'pandas.core.frame.DataFrame'>\n",
      "RangeIndex: 59429 entries, 0 to 59428\n",
      "Data columns (total 10 columns):\n",
      " #   Column          Non-Null Count  Dtype  \n",
      "---  ------          --------------  -----  \n",
      " 0   Unnamed: 0      59429 non-null  int64  \n",
      " 1   tmdb_id         59424 non-null  float64\n",
      " 2   imdb_id         59424 non-null  object \n",
      " 3   title           59424 non-null  object \n",
      " 4   genre           59424 non-null  object \n",
      " 5   studio          59424 non-null  object \n",
      " 6   budget          59424 non-null  float64\n",
      " 7   revenue         59424 non-null  float64\n",
      " 8   tmdb_rating     59424 non-null  float64\n",
      " 9   tmdb_num_votes  59424 non-null  float64\n",
      "dtypes: float64(5), int64(1), object(4)\n",
      "memory usage: 4.5+ MB\n"
     ]
    }
   ],
   "source": [
    "df.info()"
   ]
  },
  {
   "cell_type": "code",
   "execution_count": 7,
   "metadata": {},
   "outputs": [
    {
     "data": {
      "text/plain": [
       "5"
      ]
     },
     "execution_count": 7,
     "metadata": {},
     "output_type": "execute_result"
    }
   ],
   "source": [
    "df.tmdb_id.isna().sum()"
   ]
  },
  {
   "cell_type": "code",
   "execution_count": 8,
   "metadata": {},
   "outputs": [
    {
     "data": {
      "text/plain": [
       "0.0            52147\n",
       "1000000.0        244\n",
       "2000000.0        187\n",
       "5000000.0        172\n",
       "10000000.0       171\n",
       "               ...  \n",
       "260000000.0        1\n",
       "7120949.0          1\n",
       "693550.0           1\n",
       "32679734.0         1\n",
       "11500.0            1\n",
       "Name: budget, Length: 1484, dtype: int64"
      ]
     },
     "execution_count": 8,
     "metadata": {},
     "output_type": "execute_result"
    }
   ],
   "source": [
    "# There are 52,147 entries with a budget of 0\n",
    "df.budget.value_counts()"
   ]
  },
  {
   "cell_type": "code",
   "execution_count": 11,
   "metadata": {},
   "outputs": [
    {
     "data": {
      "text/plain": [
       "0.0           55233\n",
       "10000.0          29\n",
       "100000.0         25\n",
       "1500000.0        17\n",
       "2000000.0        13\n",
       "              ...  \n",
       "4500.0            1\n",
       "13975.0           1\n",
       "24426169.0        1\n",
       "40462793.0        1\n",
       "25574.0           1\n",
       "Name: revenue, Length: 3759, dtype: int64"
      ]
     },
     "execution_count": 11,
     "metadata": {},
     "output_type": "execute_result"
    }
   ],
   "source": [
    "# There are 55,233 movies with a revenue of 0\n",
    "df.revenue.value_counts()"
   ]
  },
  {
   "cell_type": "code",
   "execution_count": 13,
   "metadata": {},
   "outputs": [
    {
     "data": {
      "text/plain": [
       "0.0    16287\n",
       "6.0     3683\n",
       "7.0     2909\n",
       "5.0     2408\n",
       "8.0     1758\n",
       "       ...  \n",
       "1.2        5\n",
       "1.4        5\n",
       "9.1        4\n",
       "9.9        1\n",
       "9.6        1\n",
       "Name: tmdb_rating, Length: 93, dtype: int64"
      ]
     },
     "execution_count": 13,
     "metadata": {},
     "output_type": "execute_result"
    }
   ],
   "source": [
    "# 16,287 movies with a rating of 0\n",
    "df.tmdb_rating.value_counts()"
   ]
  },
  {
   "cell_type": "code",
   "execution_count": 16,
   "metadata": {},
   "outputs": [
    {
     "data": {
      "text/plain": [
       "[]                                                                                                                                25806\n",
       "['SVF Entertainment']                                                                                                                76\n",
       "['Star Cinema – ABS-CBN Film Productions']                                                                                           70\n",
       "['Toho Company, Ltd.']                                                                                                               66\n",
       "['Toei']                                                                                                                             57\n",
       "                                                                                                                                  ...  \n",
       "['BIG Curtains Media', 'NJ Lalwani Films']                                                                                            1\n",
       "['Twisted Pictures', 'Protocol Entertainment', 'Parismony Pictures']                                                                  1\n",
       "['Rakeysh Omprakash Mehra Films', 'Cinestaan Film Company']                                                                           1\n",
       "['Night of Terror Films']                                                                                                             1\n",
       "['Television Broadcasts Limited (TVB)', 'Shaw Brothers', 'Sil-Metropole Organisation', 'United Filmmakers Organisation (UFO)']        1\n",
       "Name: studio, Length: 26977, dtype: int64"
      ]
     },
     "execution_count": 16,
     "metadata": {},
     "output_type": "execute_result"
    }
   ],
   "source": [
    "# 25,806 missing values\n",
    "df.studio.value_counts()"
   ]
  },
  {
   "cell_type": "code",
   "execution_count": 20,
   "metadata": {},
   "outputs": [
    {
     "data": {
      "text/plain": [
       "(2695, 10)"
      ]
     },
     "execution_count": 20,
     "metadata": {},
     "output_type": "execute_result"
    }
   ],
   "source": [
    "df[(df['budget']!=0)&(df['revenue']!=0)].shape"
   ]
  },
  {
   "cell_type": "code",
   "execution_count": 21,
   "metadata": {
    "scrolled": true
   },
   "outputs": [
    {
     "data": {
      "text/plain": [
       "56422"
      ]
     },
     "execution_count": 21,
     "metadata": {},
     "output_type": "execute_result"
    }
   ],
   "source": [
    "df.title.nunique()"
   ]
  },
  {
   "cell_type": "markdown",
   "metadata": {},
   "source": [
    "## Joining The Numbers dataset to fill missing values for budget and revenue"
   ]
  },
  {
   "cell_type": "code",
   "execution_count": 23,
   "metadata": {},
   "outputs": [],
   "source": [
    "df = df.dropna()"
   ]
  },
  {
   "cell_type": "code",
   "execution_count": 24,
   "metadata": {},
   "outputs": [
    {
     "data": {
      "text/plain": [
       "(2690, 10)"
      ]
     },
     "execution_count": 24,
     "metadata": {},
     "output_type": "execute_result"
    }
   ],
   "source": [
    "df_complete = df[(df['budget']!=0)&(df['revenue']!=0)]\n",
    "df_complete.shape"
   ]
  },
  {
   "cell_type": "code",
   "execution_count": 25,
   "metadata": {},
   "outputs": [
    {
     "data": {
      "text/plain": [
       "(50646, 10)"
      ]
     },
     "execution_count": 25,
     "metadata": {},
     "output_type": "execute_result"
    }
   ],
   "source": [
    "df_missing_both = df[(df['budget']==0)&(df['revenue']==0)]\n",
    "df_missing_both.shape"
   ]
  },
  {
   "cell_type": "code",
   "execution_count": 26,
   "metadata": {},
   "outputs": [
    {
     "data": {
      "text/plain": [
       "(1501, 10)"
      ]
     },
     "execution_count": 26,
     "metadata": {},
     "output_type": "execute_result"
    }
   ],
   "source": [
    "df_missing_bud = df[(df['budget']==0)&(df['revenue']!=0)]\n",
    "df_missing_bud.shape"
   ]
  },
  {
   "cell_type": "code",
   "execution_count": 27,
   "metadata": {},
   "outputs": [
    {
     "data": {
      "text/plain": [
       "(4587, 10)"
      ]
     },
     "execution_count": 27,
     "metadata": {},
     "output_type": "execute_result"
    }
   ],
   "source": [
    "df_missing_rev = df[(df['budget']!=0)&(df['revenue']==0)]\n",
    "df_missing_rev.shape"
   ]
  },
  {
   "cell_type": "markdown",
   "metadata": {},
   "source": [
    "Import the numbers dataset."
   ]
  },
  {
   "cell_type": "code",
   "execution_count": null,
   "metadata": {},
   "outputs": [],
   "source": [
    "numbers = pd.read_csv"
   ]
  }
 ],
 "metadata": {
  "kernelspec": {
   "display_name": "Python 3",
   "language": "python",
   "name": "python3"
  },
  "language_info": {
   "codemirror_mode": {
    "name": "ipython",
    "version": 3
   },
   "file_extension": ".py",
   "mimetype": "text/x-python",
   "name": "python",
   "nbconvert_exporter": "python",
   "pygments_lexer": "ipython3",
   "version": "3.8.3"
  }
 },
 "nbformat": 4,
 "nbformat_minor": 4
}
